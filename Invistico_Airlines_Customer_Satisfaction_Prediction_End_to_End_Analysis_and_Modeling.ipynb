{
 "cells": [
  {
   "attachments": {
    "bgr_logo-2.png": {
     "image/png": "[encoded data removed]"
    }
   },
   "cell_type": "markdown",
   "id": "12a17f4d",
   "metadata": {},
   "source": [
    "| ![bgr_logo-2.png](attachment:bgr_logo-2.png) | \n",
    "|----------------------------------------------|"
   ]
  },
  {
   "cell_type": "markdown",
   "id": "38c009b8",
   "metadata": {},
   "source": [
    "# Invistico Airlines Customer Satisfaction Prediction: End to End Analysis and Modeling"
   ]
  },
  {
   "cell_type": "markdown",
   "id": "e87ed234",
   "metadata": {},
   "source": [
    "## **Introduction**  \n",
    "\n",
    "**Invistico Airlines**, a growing leader in the commercial aviation industry, has brought me on board as a newly hired data analytics professional. As part of their customer experience and analytics team, I am tasked with analyzing customer satisfaction trends to help the airline company improve in-flight services, enhance customer retention, and elevate the overall passenger experience. I will put into practice the full range of data analytics skills I’ve developed.\n",
    "\n",
    "Using Python, I will build and evaluate both statistical and machine learning models—including binomial logistic regression, decision tree, random forest, and XGBoost—to predict whether a customer is likely to be satisfied with their flight experience. My ultimate goal is to select a champion model based on performance evaluation and deliver actionable, data-driven recommendations to help **Invistico Airlines** optimize service quality, enhance key drivers of customer satisfaction across various operational areas, and strengthen customer loyalty.\n",
    "\n",
    "### **Company Background**\n",
    "\n",
    "**Invistico Airlines** is a fictional global airline based in the heart of the aviation and air travel industry. With a diverse and dedicated workforce, Invistico serves millions of passengers annually across its expansive network of domestic and international routes. Known for its commitment to providing an exceptional travel experience, Invistico focuses on integrating cutting-edge technology with high-quality in-flight services, including entertainment, seat comfort, and overall on-board service.\n",
    "\n",
    "The airline has grown rapidly over the years and aims to maintain its competitive edge by continuously enhancing customer satisfaction and loyalty. However, in a highly competitive market, improving passenger experience and retaining customers remains a key challenge. By utilizing data-driven insights and predictive modeling, Invistico Airlines aims to better understand the factors influencing customer satisfaction and take action to enhance service quality, optimize operations, and ultimately build lasting relationships with its passengers.\n",
    "\n",
    "### **The Invistico Airlines Scenario**\n",
    "\n",
    "As part of Invistico Airlines' data analytics team, I have been tasked with addressing a critical challenge which is improving customer satisfaction and retention. With the airline industry being highly competitive, maintaining high levels of customer satisfaction is crucial for sustaining growth and enhancing brand loyalty. Invistico is particularly interested in understanding the key factors that influence customer satisfaction, especially in relation to in-flight experiences like entertainment, seat comfort, and on-board services.\n",
    "\n",
    "To better understand this, Invistico Airlines has gathered customer feedback through surveys, covering aspects such as flight distance, class, in-flight entertainment, and more. My role as a data analytics professional is to analyze this data, build predictive models, and select the one that best fits the data and delivers the strongest performance to help the company anticipate future customer satisfaction. By identifying the key drivers of satisfaction, Invistico hopes to tailor their services to meet customer expectations, improve overall service quality, and increase customer retention (churn), ultimately leading to a more loyal customer base and better business outcomes.\n",
    "\n",
    "### **Project Scope**\n",
    "\n",
    "This project focuses on developing a predictive model that helps **Invistico Airlines** better understand the factors influencing customer satisfaction. The goal is to predict whether a future customer will be satisfied based on various features collected from past passenger feedback, including flight class, distance, in-flight entertainment, and overall service quality.\n",
    "\n",
    "The project will follow the complete data analytics lifecycle, starting with exploratory data analysis (EDA) to uncover patterns and trends in the data. I will then proceed to develop and evaluate multiple models, including a binomial logistic regression model, decision tree, random forest, and XGBoost model. The objective is to identify the model that delivers the highest accuracy and the best performance on the chosen evaluation metrics for predicting customer satisfaction based on the available features.\n",
    "\n",
    "By integrating both statistical and machine learning techniques, the project ensures a comprehensive approach to understanding customer satisfaction. Ultimately, the best-performing model will provide **Invistico Airlines** with valuable insights that can guide improvements in service offerings, enhance passenger experience, and drive higher customer retention rates.\n",
    "\n",
    "### **Business Impact**\n",
    "\n",
    "An effective predictive model will help **Invistico Airlines** identify the key factors driving customer satisfaction and dissatisfaction. By understanding these drivers, the airline can take targeted actions to improve in-flight services, enhance the overall customer experience, address areas negatively impacting passenger satisfaction, and strengthen the factors that most influence a positive customer experience.\n",
    "\n",
    "Ultimately, improving customer satisfaction will lead to higher customer retention, increased loyalty, and positive word-of-mouth, which can drive repeat business. A better customer experience also contributes to a competitive edge in the highly competitive airline industry, ensuring that **Invistico Airlines** remains a preferred choice for travelers and continues to grow its market share."
   ]
  },
  {
   "cell_type": "markdown",
   "id": "8053e9c0",
   "metadata": {},
   "source": [
    "## **Overview**\n",
    "\n",
    "This project investigates the factors influencing customer satisfaction in the aviation industry, using historical passenger survey data from Invistico Airlines. The primary objective is to predict customer satisfaction based on various in-flight and service-related factors, including seat comfort, entertainment, booking convenience, and more. In doing so, the project aims to uncover actionable insights that can guide customer experience enhancements and strategic decision-making.\n",
    "\n",
    "To achieve this, I followed a **structured, modeling-focused data analytics workflow**, progressing through a clear sequence of stages—from exploratory data analysis to model development, evaluation, and insight generation. This structured approach allowed for a **comparative study of multiple machine learning models**, ensuring that each stage aligned with best practices in predictive modeling and contributed meaningfully to selecting the most effective solution.\n",
    "\n",
    "The process will include:\n",
    "\n",
    "- **Exploratory Data Analysis (EDA):** I will conduct data profiling to examine variable types and missing values, analyze the target variable distribution, and assess model-specific assumptions where applicable. Visualizations such as boxplots, logit plots, and confusion matrices will be created to detect outliers, explore relationships, and support model readiness. Feature importances will be reviewed for tree-based models during the model interpretation stage.\n",
    "\n",
    "- **Data Preprocessing:** I will manage missing values, encode categorical variables, and prepare the dataset for efficient and reliable modeling.\n",
    "\n",
    "- **Predictive Modeling:** I will develop and assess four supervised machine learning models—**Logistic Regression, Decision Tree, Random Forest, and XGBoost**—to predict customer satisfaction, evaluating the strengths and limitations of each.\n",
    "\n",
    "- **Model Evaluation:** The models will be compared using metrics like accuracy, precision, recall, F1-score, and confusion matrices to identify the highest-performing predictive framework.\n",
    "\n",
    "- **Insight Generation:** I will translate model outcomes into actionable business recommendations to inform service improvements, customer experience strategies, and operational decisions.\n",
    "\n",
    "By emphasizing **a modeling-focused approach at every stage** and conducting performance comparisons after each modeling phase, I will critically evaluate how predictive performance improves with the introduction of more advanced techniques. By progressing from statistical models to tree-based and ensemble tree-based approaches, this comparative study will offer a comprehensive view of how each method’s unique strengths contribute to predictive accuracy and model robustness.\n",
    "\n",
    "This initiative will demonstrate the power of predictive analytics in shaping customer-centric strategies, equipping Invistico Airlines with a reliable framework to anticipate passenger satisfaction trends, optimize service delivery, and strengthen its competitive position."
   ]
  },
  {
   "cell_type": "markdown",
   "id": "949476fc",
   "metadata": {},
   "source": [
    "## **Dataset Structure**\n",
    "\n",
    "This dataset, titled **Invistico_Airline.csv**, contains information on **129,880 passengers** of Invistico Airlines. Each row represents a unique customer, capturing their **flight experience** through survey responses. The target variable, `satisfaction`, indicates whether the customer was satisfied with their flight experience, with two possible values: \"satisfied\" and \"dissatisfied.\" \n",
    "\n",
    "The dataset includes a range of **demographic details**, **flight characteristics**, and **in-flight service ratings**. These features cover **customer type**, **age**, **flight class**, **flight distance**, and a variety of **service ratings**, such as seat comfort, food and drink, and entertainment.\n",
    "\n",
    "| Column Name                             | Type    | Description                                                             |\n",
    "|-----------------------------------------|---------|-------------------------------------------------------------------------|\n",
    "| satisfaction                            | object  | Indicates whether the customer is satisfied or dissatisfied with the flight experience |\n",
    "| Customer Type                           | object  | Type of customer: Loyal Customer or Disloyal Customer                     |\n",
    "| Age                                     | int64   | The age of the customer                                                  |\n",
    "| Type of Travel                          | object  | Type of travel: Personal Travel or Business Travel                       |\n",
    "| Class                                   | object  | Flight class: Eco, Business, or First Class                              |\n",
    "| Flight Distance                         | int64   | Distance of the flight in miles                                          |\n",
    "| Seat comfort                            | int64   | Rating of seat comfort (1–5)                                             |\n",
    "| Departure/Arrival time convenient       | int64   | Rating of convenience of departure and arrival times (1–5)               |\n",
    "| Food and drink                          | int64   | Rating of food and drink options (1–5)                                   |\n",
    "| Gate location                           | int64   | Rating of gate location (1–5)                                           |\n",
    "| Inflight wifi service                   | int64   | Rating of in-flight wifi service (1–5)                                   |\n",
    "| Inflight entertainment                  | int64   | Rating of in-flight entertainment options (1–5)                          |\n",
    "| Online support                          | int64   | Rating of online support (1–5)                                          |\n",
    "| Ease of Online booking                  | int64   | Rating of ease of online booking process (1–5)                           |\n",
    "| On-board service                        | int64   | Rating of on-board service (1–5)                                         |\n",
    "| Leg room service                        | int64   | Rating of leg room service (1–5)                                         |\n",
    "| Baggage handling                        | int64   | Rating of baggage handling service (1–5)                                 |\n",
    "| Checkin service                         | int64   | Rating of check-in service (1–5)                                         |\n",
    "| Cleanliness                             | int64   | Rating of cleanliness (1–5)                                              |\n",
    "| Online boarding                         | int64   | Rating of online boarding service (1–5)                                  |\n",
    "| Departure Delay in Minutes              | int64   | Number of minutes the flight was delayed during departure                |\n",
    "| Arrival Delay in Minutes                | float64 | Number of minutes the flight was delayed upon arrival                    |\n",
    "\n",
    "This dataset provides a comprehensive overview of customer satisfaction across multiple dimensions of the flight experience, serving as a robust foundation for analysis and predictive modeling to uncover key drivers of passenger satisfaction."
   ]
  },
  {
   "cell_type": "markdown",
   "id": "5d053771",
   "metadata": {},
   "source": [
    "### **Library & Package Versions**\n",
    "\n",
    "The following versions of the libraries and packages were used for this project:\n",
    "\n",
    "- **Python Version:** 3.12.4  \n",
    "- **NumPy Version:** 2.2.5  \n",
    "- **Pandas Version:** 2.2.3  \n",
    "- **Matplotlib Version:** 3.10.1  \n",
    "- **Seaborn Version:** 0.13.2  \n",
    "- **Scikit-learn Version:** 1.6.1  \n",
    "- **XGBoost Version:** 3.0.0\n",
    "\n",
    "Ensuring consistency in package versions helps maintain reproducibility and compatibility throughout the analysis. This allows the methods and results to be reliably replicated, promoting a smooth and accurate execution of data processing and modeling tasks."
   ]
  },
  {
   "cell_type": "markdown",
   "id": "25cdb68c",
   "metadata": {},
   "source": [
    "### **Libraries and Tools Used**\n",
    "\n",
    "- **pandas** for data manipulation, cleaning, and analysis  \n",
    "- **numpy** for numerical computations and handling arrays  \n",
    "- **matplotlib** and **seaborn** for creating visualizations and statistical plots  \n",
    "- **scikit-learn** libraries for building machine learning models, including:\n",
    "  - **LogisticRegression** for logistic regression modeling  \n",
    "  - **DecisionTreeClassifier** for decision tree classification  \n",
    "  - **RandomForestClassifier** for random forest ensemble modeling  \n",
    "  - **OneHotEncoder** for encoding categorical variables  \n",
    "  - **train_test_split** for splitting data into training and testing sets  \n",
    "  - **GridSearchCV** for hyperparameter tuning  \n",
    "  - **PredefinedSplit** for custom train/test splits  \n",
    "  - **metrics** module and individual functions like **accuracy_score**, **precision_score**, **recall_score**, and **f1_score** for model evaluation  \n",
    "- **xgboost** for advanced gradient boosting machine learning with **XGBClassifier** and visualizing feature importance with **plot_importance**  \n",
    "- **pickle** for saving and loading trained models for future use and deployment  \n",
    "\n",
    "This combination of tools ensures a comprehensive workflow from data preparation and exploration to model building, tuning, evaluation, and deployment."
   ]
  },
  {
   "cell_type": "markdown",
   "id": "e78ff05a",
   "metadata": {},
   "source": [
    "### Import packages"
   ]
  },
  {
   "cell_type": "code",
   "execution_count": 1,
   "id": "d08b2068",
   "metadata": {},
   "outputs": [],
   "source": [
    "# Standard operational package imports\n",
    "import numpy as np  \n",
    "import pandas as pd  \n",
    "\n",
    "# for preprocessing and feature engineering\n",
    "from sklearn.preprocessing import OneHotEncoder  \n",
    "\n",
    "# for splitting data and tuning models\n",
    "from sklearn.model_selection import train_test_split, GridSearchCV, PredefinedSplit  \n",
    "\n",
    "# imports for modeling\n",
    "from sklearn.linear_model import LogisticRegression  \n",
    "from sklearn.tree import DecisionTreeClassifier, plot_tree  \n",
    "from sklearn.ensemble import RandomForestClassifier  \n",
    "from xgboost import XGBClassifier, plot_importance \n",
    "\n",
    "# for evaluation and metrics\n",
    "import sklearn.metrics as metrics \n",
    "from sklearn.metrics import f1_score, precision_score, recall_score, accuracy_score  \n",
    "\n",
    "# Visualization package imports\n",
    "import matplotlib.pyplot as plt  \n",
    "import seaborn as sns  \n",
    "\n",
    "# For saving models\n",
    "import pickle"
   ]
  },
  {
   "cell_type": "markdown",
   "id": "3bf0757f",
   "metadata": {},
   "source": [
    "### Load dataset\n",
    "\n",
    "`Pandas` is used to read the dataset"
   ]
  },
  {
   "cell_type": "code",
   "execution_count": 2,
   "id": "bec7e614",
   "metadata": {},
   "outputs": [],
   "source": [
    "airline_df=pd.read_csv(r\"C:\\Users\\saswa\\Documents\\GitHub\\Airline-Customer-Satisfaction-End-to-End-Analysis-and-Modeling\\Data\\Invistico_Airline.csv\")"
   ]
  },
  {
   "cell_type": "markdown",
   "id": "3a196929",
   "metadata": {},
   "source": [
    "# Modeling Approach A: Logistic Regression Model"
   ]
  },
  {
   "cell_type": "markdown",
   "id": "374c0dd3",
   "metadata": {},
   "source": [
    "### **Introduction**\n",
    "\n",
    "In this **Modeling Approach A Stage**, I will conduct initial exploratory data analysis and predictive modeling by implementing a **binomial logistic regression model** for customer satisfaction at Invistico Airlines. The goal is to build, evaluate, and validate a model that predicts customer satisfaction based on a single key flight experience variable. This baseline model will demonstrate how logistic regression handles binary outcomes while offering actionable early insights. It also serves as the foundation for the broader modeling process and upcoming comparisons of model performance.\n",
    "\n",
    "### **Task**\n",
    "\n",
    "In this phase, I will develop and assess a **binomial logistic regression model** using one independent variable to predict customer satisfaction. The workflow involves importing essential packages, preparing and cleaning the data, fitting the model, and evaluating its performance using a **confusion matrix**. This baseline model will provide initial predictive results and valuable practical experience applying logistic regression in an industry-relevant scenario."
   ]
  },
  {
   "cell_type": "markdown",
   "id": "3cbb6a44",
   "metadata": {},
   "source": [
    "### **Overview**\n",
    "\n",
    "In this **Modeling Approach A Stage**, I will demonstrate my ability to implement, interpret, and assess a binomial logistic regression model while adhering to best practices in data preparation, assumption validation, and model evaluation. The focus is on delivering a clean, interpretable, and performance-focused **baseline model** that can later be used to assess the impact of adding new features, refining assumptions, or exploring alternative modeling approaches. All modeling decisions, outcomes, and rationale will be clearly documented to ensure transparency, reproducibility, and alignment with business objectives. This baseline model will act as a benchmark for comparing the performance of future, more advanced models developed throughout this project.\n",
    "\n",
    "### **Project Background**\n",
    "\n",
    "**Invistico Airlines’ data team** is in the early modeling stage of the **customer satisfaction prediction project**.\n",
    "\n",
    "This initial modeling approach stage will help establish a **baseline logistic regression model**, allowing me to build familiarity with the dataset and gain early insights into how the key variable **Inflight entertainment** relates to customer satisfaction. By starting with a straightforward, well-documented model, I will establish a solid foundation for the entire modeling process. This approach will provide a reference point to evaluate the performance of more advanced models as the project progresses, ensuring alignment with both project objectives and data analytics best practices."
   ]
  },
  {
   "cell_type": "markdown",
   "id": "edd4f8a5",
   "metadata": {},
   "source": [
    "### **Libraries and Packages Used in This Modeling Approach A Stage**\n",
    "\n",
    "- **Standard operational packages**:\n",
    "  - **Pandas** — utilized for data manipulation, cleaning, and analysis, facilitating the handling of large datasets.\n",
    "  - **NumPy** — provides support for numerical operations, including array handling and mathematical computations.\n",
    "\n",
    "- **Key packages for preprocessing, modeling, and evaluation**:\n",
    "  - **scikit-learn’s `preprocessing` module** — used for feature encoding, such as the `OneHotEncoder`, to transform categorical variables into numerical format.\n",
    "  - **scikit-learn’s `model_selection` module** — for splitting the dataset into training and testing sets with `train_test_split` to ensure proper model validation.\n",
    "  - **scikit-learn’s `linear_model` module** — employed for building the **Logistic Regression** model, which will serve as the foundation of the first modeling stage.\n",
    "  \n",
    "- **Model performance evaluation**:\n",
    "  - **scikit-learn’s `metrics` module** — for evaluating model performance with tools such as confusion matrices and classification metrics.\n",
    "\n",
    "This combination of libraries enables smooth data processing, effective model training, and comprehensive evaluation."
   ]
  },
  {
   "cell_type": "markdown",
   "id": "0abb5967",
   "metadata": {},
   "source": [
    "### Data Exploration (Initial EDA and data cleaning)\n",
    "\n",
    "- Understanding the variables\n",
    "- Cleaning the dataset (missing data, redundant data, outliers)"
   ]
  },
  {
   "cell_type": "markdown",
   "id": "72127f04",
   "metadata": {},
   "source": [
    "### Output the first 10 rows\n",
    "\n",
    "To get a quick look at the dataset, I output the first 10 rows of data."
   ]
  },
  {
   "cell_type": "code",
   "execution_count": 3,
   "id": "402eeeb9",
   "metadata": {},
   "outputs": [
    {
     "data": {
      "text/html": [
       "<div>\n",
       "<style scoped>\n",
       "    .dataframe tbody tr th:only-of-type {\n",
       "        vertical-align: middle;\n",
       "    }\n",
       "\n",
       "    .dataframe tbody tr th {\n",
       "        vertical-align: top;\n",
       "    }\n",
       "\n",
       "    .dataframe thead th {\n",
       "        text-align: right;\n",
       "    }\n",
       "</style>\n",
       "<table border=\"1\" class=\"dataframe\">\n",
       "  <thead>\n",
       "    <tr style=\"text-align: right;\">\n",
       "      <th></th>\n",
       "      <th>satisfaction</th>\n",
       "      <th>Customer Type</th>\n",
       "      <th>Age</th>\n",
       "      <th>Type of Travel</th>\n",
       "      <th>Class</th>\n",
       "      <th>Flight Distance</th>\n",
       "      <th>Seat comfort</th>\n",
       "      <th>Departure/Arrival time convenient</th>\n",
       "      <th>Food and drink</th>\n",
       "      <th>Gate location</th>\n",
       "      <th>...</th>\n",
       "      <th>Online support</th>\n",
       "      <th>Ease of Online booking</th>\n",
       "      <th>On-board service</th>\n",
       "      <th>Leg room service</th>\n",
       "      <th>Baggage handling</th>\n",
       "      <th>Checkin service</th>\n",
       "      <th>Cleanliness</th>\n",
       "      <th>Online boarding</th>\n",
       "      <th>Departure Delay in Minutes</th>\n",
       "      <th>Arrival Delay in Minutes</th>\n",
       "    </tr>\n",
       "  </thead>\n",
       "  <tbody>\n",
       "    <tr>\n",
       "      <th>0</th>\n",
       "      <td>satisfied</td>\n",
       "      <td>Loyal Customer</td>\n",
       "      <td>65</td>\n",
       "      <td>Personal Travel</td>\n",
       "      <td>Eco</td>\n",
       "      <td>265</td>\n",
       "      <td>0</td>\n",
       "      <td>0</td>\n",
       "      <td>0</td>\n",
       "      <td>2</td>\n",
       "      <td>...</td>\n",
       "      <td>2</td>\n",
       "      <td>3</td>\n",
       "      <td>3</td>\n",
       "      <td>0</td>\n",
       "      <td>3</td>\n",
       "      <td>5</td>\n",
       "      <td>3</td>\n",
       "      <td>2</td>\n",
       "      <td>0</td>\n",
       "      <td>0.0</td>\n",
       "    </tr>\n",
       "    <tr>\n",
       "      <th>1</th>\n",
       "      <td>satisfied</td>\n",
       "      <td>Loyal Customer</td>\n",
       "      <td>47</td>\n",
       "      <td>Personal Travel</td>\n",
       "      <td>Business</td>\n",
       "      <td>2464</td>\n",
       "      <td>0</td>\n",
       "      <td>0</td>\n",
       "      <td>0</td>\n",
       "      <td>3</td>\n",
       "      <td>...</td>\n",
       "      <td>2</td>\n",
       "      <td>3</td>\n",
       "      <td>4</td>\n",
       "      <td>4</td>\n",
       "      <td>4</td>\n",
       "      <td>2</td>\n",
       "      <td>3</td>\n",
       "      <td>2</td>\n",
       "      <td>310</td>\n",
       "      <td>305.0</td>\n",
       "    </tr>\n",
       "    <tr>\n",
       "      <th>2</th>\n",
       "      <td>satisfied</td>\n",
       "      <td>Loyal Customer</td>\n",
       "      <td>15</td>\n",
       "      <td>Personal Travel</td>\n",
       "      <td>Eco</td>\n",
       "      <td>2138</td>\n",
       "      <td>0</td>\n",
       "      <td>0</td>\n",
       "      <td>0</td>\n",
       "      <td>3</td>\n",
       "      <td>...</td>\n",
       "      <td>2</td>\n",
       "      <td>2</td>\n",
       "      <td>3</td>\n",
       "      <td>3</td>\n",
       "      <td>4</td>\n",
       "      <td>4</td>\n",
       "      <td>4</td>\n",
       "      <td>2</td>\n",
       "      <td>0</td>\n",
       "      <td>0.0</td>\n",
       "    </tr>\n",
       "    <tr>\n",
       "      <th>3</th>\n",
       "      <td>satisfied</td>\n",
       "      <td>Loyal Customer</td>\n",
       "      <td>60</td>\n",
       "      <td>Personal Travel</td>\n",
       "      <td>Eco</td>\n",
       "      <td>623</td>\n",
       "      <td>0</td>\n",
       "      <td>0</td>\n",
       "      <td>0</td>\n",
       "      <td>3</td>\n",
       "      <td>...</td>\n",
       "      <td>3</td>\n",
       "      <td>1</td>\n",
       "      <td>1</td>\n",
       "      <td>0</td>\n",
       "      <td>1</td>\n",
       "      <td>4</td>\n",
       "      <td>1</td>\n",
       "      <td>3</td>\n",
       "      <td>0</td>\n",
       "      <td>0.0</td>\n",
       "    </tr>\n",
       "    <tr>\n",
       "      <th>4</th>\n",
       "      <td>satisfied</td>\n",
       "      <td>Loyal Customer</td>\n",
       "      <td>70</td>\n",
       "      <td>Personal Travel</td>\n",
       "      <td>Eco</td>\n",
       "      <td>354</td>\n",
       "      <td>0</td>\n",
       "      <td>0</td>\n",
       "      <td>0</td>\n",
       "      <td>3</td>\n",
       "      <td>...</td>\n",
       "      <td>4</td>\n",
       "      <td>2</td>\n",
       "      <td>2</td>\n",
       "      <td>0</td>\n",
       "      <td>2</td>\n",
       "      <td>4</td>\n",
       "      <td>2</td>\n",
       "      <td>5</td>\n",
       "      <td>0</td>\n",
       "      <td>0.0</td>\n",
       "    </tr>\n",
       "    <tr>\n",
       "      <th>5</th>\n",
       "      <td>satisfied</td>\n",
       "      <td>Loyal Customer</td>\n",
       "      <td>30</td>\n",
       "      <td>Personal Travel</td>\n",
       "      <td>Eco</td>\n",
       "      <td>1894</td>\n",
       "      <td>0</td>\n",
       "      <td>0</td>\n",
       "      <td>0</td>\n",
       "      <td>3</td>\n",
       "      <td>...</td>\n",
       "      <td>2</td>\n",
       "      <td>2</td>\n",
       "      <td>5</td>\n",
       "      <td>4</td>\n",
       "      <td>5</td>\n",
       "      <td>5</td>\n",
       "      <td>4</td>\n",
       "      <td>2</td>\n",
       "      <td>0</td>\n",
       "      <td>0.0</td>\n",
       "    </tr>\n",
       "    <tr>\n",
       "      <th>6</th>\n",
       "      <td>satisfied</td>\n",
       "      <td>Loyal Customer</td>\n",
       "      <td>66</td>\n",
       "      <td>Personal Travel</td>\n",
       "      <td>Eco</td>\n",
       "      <td>227</td>\n",
       "      <td>0</td>\n",
       "      <td>0</td>\n",
       "      <td>0</td>\n",
       "      <td>3</td>\n",
       "      <td>...</td>\n",
       "      <td>5</td>\n",
       "      <td>5</td>\n",
       "      <td>5</td>\n",
       "      <td>0</td>\n",
       "      <td>5</td>\n",
       "      <td>5</td>\n",
       "      <td>5</td>\n",
       "      <td>3</td>\n",
       "      <td>17</td>\n",
       "      <td>15.0</td>\n",
       "    </tr>\n",
       "    <tr>\n",
       "      <th>7</th>\n",
       "      <td>satisfied</td>\n",
       "      <td>Loyal Customer</td>\n",
       "      <td>10</td>\n",
       "      <td>Personal Travel</td>\n",
       "      <td>Eco</td>\n",
       "      <td>1812</td>\n",
       "      <td>0</td>\n",
       "      <td>0</td>\n",
       "      <td>0</td>\n",
       "      <td>3</td>\n",
       "      <td>...</td>\n",
       "      <td>2</td>\n",
       "      <td>2</td>\n",
       "      <td>3</td>\n",
       "      <td>3</td>\n",
       "      <td>4</td>\n",
       "      <td>5</td>\n",
       "      <td>4</td>\n",
       "      <td>2</td>\n",
       "      <td>0</td>\n",
       "      <td>0.0</td>\n",
       "    </tr>\n",
       "    <tr>\n",
       "      <th>8</th>\n",
       "      <td>satisfied</td>\n",
       "      <td>Loyal Customer</td>\n",
       "      <td>56</td>\n",
       "      <td>Personal Travel</td>\n",
       "      <td>Business</td>\n",
       "      <td>73</td>\n",
       "      <td>0</td>\n",
       "      <td>0</td>\n",
       "      <td>0</td>\n",
       "      <td>3</td>\n",
       "      <td>...</td>\n",
       "      <td>5</td>\n",
       "      <td>4</td>\n",
       "      <td>4</td>\n",
       "      <td>0</td>\n",
       "      <td>1</td>\n",
       "      <td>5</td>\n",
       "      <td>4</td>\n",
       "      <td>4</td>\n",
       "      <td>0</td>\n",
       "      <td>0.0</td>\n",
       "    </tr>\n",
       "    <tr>\n",
       "      <th>9</th>\n",
       "      <td>satisfied</td>\n",
       "      <td>Loyal Customer</td>\n",
       "      <td>22</td>\n",
       "      <td>Personal Travel</td>\n",
       "      <td>Eco</td>\n",
       "      <td>1556</td>\n",
       "      <td>0</td>\n",
       "      <td>0</td>\n",
       "      <td>0</td>\n",
       "      <td>3</td>\n",
       "      <td>...</td>\n",
       "      <td>2</td>\n",
       "      <td>2</td>\n",
       "      <td>2</td>\n",
       "      <td>4</td>\n",
       "      <td>5</td>\n",
       "      <td>3</td>\n",
       "      <td>4</td>\n",
       "      <td>2</td>\n",
       "      <td>30</td>\n",
       "      <td>26.0</td>\n",
       "    </tr>\n",
       "  </tbody>\n",
       "</table>\n",
       "<p>10 rows × 22 columns</p>\n",
       "</div>"
      ],
      "text/plain": [
       "  satisfaction   Customer Type  Age   Type of Travel     Class  \\\n",
       "0    satisfied  Loyal Customer   65  Personal Travel       Eco   \n",
       "1    satisfied  Loyal Customer   47  Personal Travel  Business   \n",
       "2    satisfied  Loyal Customer   15  Personal Travel       Eco   \n",
       "3    satisfied  Loyal Customer   60  Personal Travel       Eco   \n",
       "4    satisfied  Loyal Customer   70  Personal Travel       Eco   \n",
       "5    satisfied  Loyal Customer   30  Personal Travel       Eco   \n",
       "6    satisfied  Loyal Customer   66  Personal Travel       Eco   \n",
       "7    satisfied  Loyal Customer   10  Personal Travel       Eco   \n",
       "8    satisfied  Loyal Customer   56  Personal Travel  Business   \n",
       "9    satisfied  Loyal Customer   22  Personal Travel       Eco   \n",
       "\n",
       "   Flight Distance  Seat comfort  Departure/Arrival time convenient  \\\n",
       "0              265             0                                  0   \n",
       "1             2464             0                                  0   \n",
       "2             2138             0                                  0   \n",
       "3              623             0                                  0   \n",
       "4              354             0                                  0   \n",
       "5             1894             0                                  0   \n",
       "6              227             0                                  0   \n",
       "7             1812             0                                  0   \n",
       "8               73             0                                  0   \n",
       "9             1556             0                                  0   \n",
       "\n",
       "   Food and drink  Gate location  ...  Online support  Ease of Online booking  \\\n",
       "0               0              2  ...               2                       3   \n",
       "1               0              3  ...               2                       3   \n",
       "2               0              3  ...               2                       2   \n",
       "3               0              3  ...               3                       1   \n",
       "4               0              3  ...               4                       2   \n",
       "5               0              3  ...               2                       2   \n",
       "6               0              3  ...               5                       5   \n",
       "7               0              3  ...               2                       2   \n",
       "8               0              3  ...               5                       4   \n",
       "9               0              3  ...               2                       2   \n",
       "\n",
       "   On-board service  Leg room service  Baggage handling  Checkin service  \\\n",
       "0                 3                 0                 3                5   \n",
       "1                 4                 4                 4                2   \n",
       "2                 3                 3                 4                4   \n",
       "3                 1                 0                 1                4   \n",
       "4                 2                 0                 2                4   \n",
       "5                 5                 4                 5                5   \n",
       "6                 5                 0                 5                5   \n",
       "7                 3                 3                 4                5   \n",
       "8                 4                 0                 1                5   \n",
       "9                 2                 4                 5                3   \n",
       "\n",
       "   Cleanliness  Online boarding  Departure Delay in Minutes  \\\n",
       "0            3                2                           0   \n",
       "1            3                2                         310   \n",
       "2            4                2                           0   \n",
       "3            1                3                           0   \n",
       "4            2                5                           0   \n",
       "5            4                2                           0   \n",
       "6            5                3                          17   \n",
       "7            4                2                           0   \n",
       "8            4                4                           0   \n",
       "9            4                2                          30   \n",
       "\n",
       "   Arrival Delay in Minutes  \n",
       "0                       0.0  \n",
       "1                     305.0  \n",
       "2                       0.0  \n",
       "3                       0.0  \n",
       "4                       0.0  \n",
       "5                       0.0  \n",
       "6                      15.0  \n",
       "7                       0.0  \n",
       "8                       0.0  \n",
       "9                      26.0  \n",
       "\n",
       "[10 rows x 22 columns]"
      ]
     },
     "execution_count": 3,
     "metadata": {},
     "output_type": "execute_result"
    }
   ],
   "source": [
    "airline_df.head(10)"
   ]
  },
  {
   "cell_type": "markdown",
   "id": "63afc9f6",
   "metadata": {},
   "source": [
    "### Explore the data\n",
    "\n",
    "I checked the **data type of each column** in the dataset using the `.dtypes` attribute. This step is important because **logistic regression models require all predictor variables to be numeric**. "
   ]
  },
  {
   "cell_type": "code",
   "execution_count": 4,
   "id": "9fd78147",
   "metadata": {},
   "outputs": [
    {
     "data": {
      "text/plain": [
       "satisfaction                          object\n",
       "Customer Type                         object\n",
       "Age                                    int64\n",
       "Type of Travel                        object\n",
       "Class                                 object\n",
       "Flight Distance                        int64\n",
       "Seat comfort                           int64\n",
       "Departure/Arrival time convenient      int64\n",
       "Food and drink                         int64\n",
       "Gate location                          int64\n",
       "Inflight wifi service                  int64\n",
       "Inflight entertainment                 int64\n",
       "Online support                         int64\n",
       "Ease of Online booking                 int64\n",
       "On-board service                       int64\n",
       "Leg room service                       int64\n",
       "Baggage handling                       int64\n",
       "Checkin service                        int64\n",
       "Cleanliness                            int64\n",
       "Online boarding                        int64\n",
       "Departure Delay in Minutes             int64\n",
       "Arrival Delay in Minutes             float64\n",
       "dtype: object"
      ]
     },
     "execution_count": 4,
     "metadata": {},
     "output_type": "execute_result"
    }
   ],
   "source": [
    "airline_df.dtypes"
   ]
  },
  {
   "cell_type": "markdown",
   "id": "c74f5495",
   "metadata": {},
   "source": [
    "#### **Observations on Variable Data Types and Implications for Preprocessing**\n",
    "\n",
    "The dataset contains three types of variables: **integer (int64), floating-point (float64), and categorical (object).**\n",
    "\n",
    "**Observations on Data Types:**  \n",
    "\n",
    "- **Categorical Variables (object type)**  \n",
    "  The variables `satisfaction`, `Customer Type`, `Type of Travel`, and `Class` are stored as **objects**.  \n",
    "  These represent categorical data and need to be **encoded** (e.g., one-hot encoding or label encoding) before being used in machine learning models.\n",
    "\n",
    "- **Numerical Variables (int64 & float64)**  \n",
    "  Most numerical features, such as `Age`, `Flight Distance`, and customer service ratings (`Seat comfort`, `Online support`, etc.), are stored as **int64** (whole numbers).  \n",
    "  `Arrival Delay in Minutes` is stored as **float64**, while `Departure Delay in Minutes` is **int64**.  \n",
    "  This suggests that `Arrival Delay in Minutes` might contain **fractional values** or **missing values** that were imputed.\n",
    "\n",
    "These differences in data types highlight the need for appropriate **data preprocessing** in accordance with the requirements and before model training."
   ]
  },
  {
   "cell_type": "markdown",
   "id": "eb61ee25",
   "metadata": {},
   "source": [
    "### Check the number of satisfied customers in the dataset\n",
    "\n",
    "Before moving on to modeling, I first checked how many customers in the dataset were satisfied."
   ]
  },
  {
   "cell_type": "code",
   "execution_count": 5,
   "id": "43f9099d",
   "metadata": {},
   "outputs": [
    {
     "data": {
      "text/plain": [
       "satisfaction\n",
       "satisfied       71087\n",
       "dissatisfied    58793\n",
       "Name: count, dtype: int64"
      ]
     },
     "execution_count": 5,
     "metadata": {},
     "output_type": "execute_result"
    }
   ],
   "source": [
    "airline_df['satisfaction'].value_counts(dropna = False)"
   ]
  },
  {
   "cell_type": "markdown",
   "id": "04a19e5f",
   "metadata": {},
   "source": [
    "This gave me a clear count of how many customers were **satisfied versus dissatisfied**, allowing me to quickly gauge whether the dataset is **balanced or skewed**. Understanding this distribution is important because a **class imbalance can impact model performance**, potentially leading to biased predictions toward the majority class."
   ]
  },
  {
   "cell_type": "markdown",
   "id": "438b9c91",
   "metadata": {},
   "source": [
    " To check the percentage of satisfied customers, I used:"
   ]
  },
  {
   "cell_type": "code",
   "execution_count": 6,
   "id": "d0c94e0d",
   "metadata": {},
   "outputs": [
    {
     "data": {
      "text/plain": [
       "54.73283030489683"
      ]
     },
     "execution_count": 6,
     "metadata": {},
     "output_type": "execute_result"
    }
   ],
   "source": [
    "percentage=((airline_df[airline_df['satisfaction'] == 'satisfied'].shape[0]/airline_df.shape[0])*100)\n",
    "\n",
    "#or\n",
    "\n",
    "# percentage = (df_original['satisfaction'].value_counts(normalize=True)['satisfied'] * 100)\n",
    "\n",
    "percentage"
   ]
  },
  {
   "cell_type": "markdown",
   "id": "9e3816a7",
   "metadata": {},
   "source": [
    "This calculates the proportion of `satisfied` customers relative to the total, multiplies it by 100 to convert it into a percentage, and gives a quick sense of how the satisfaction levels are distributed in the dataset."
   ]
  },
  {
   "cell_type": "markdown",
   "id": "a98c4925",
   "metadata": {},
   "source": [
    "#### **Customer Satisfaction Breakdown: Counts of Satisfied vs. Dissatisfied Customers**\n",
    "\n",
    "There are **71,087 satisfied customers** and **58,793 dissatisfied customers** in the dataset, meaning **54.7% of customers (71,087 out of 129,880)** were satisfied. This suggests that while the dataset is relatively close to balanced, it leans slightly toward satisfied customers. \n",
    "\n",
    "While this is a straightforward calculation, it serves as a useful **baseline reference** — this percentage can later be compared to the **accuracy of the logistic regression model** to evaluate whether the model meaningfully outperforms a naive guess based on the majority class."
   ]
  },
  {
   "cell_type": "markdown",
   "id": "82b038cc",
   "metadata": {},
   "source": [
    "### Check for missing values\n",
    "\n",
    "A requirement for any Logistic Regression, Decision Tree, and Random Forest models is that the dataset must not contain missing values, as these models in scikit-learn cannot handle them natively. However, XGBoost can handle missing values internally by learning the optimal path for observations with missing features. Before proceeding, it is important to check for any missing values in the dataset."
   ]
  },
  {
   "cell_type": "code",
   "execution_count": 7,
   "id": "beb08194",
   "metadata": {},
   "outputs": [
    {
     "data": {
      "text/plain": [
       "satisfaction                           0\n",
       "Customer Type                          0\n",
       "Age                                    0\n",
       "Type of Travel                         0\n",
       "Class                                  0\n",
       "Flight Distance                        0\n",
       "Seat comfort                           0\n",
       "Departure/Arrival time convenient      0\n",
       "Food and drink                         0\n",
       "Gate location                          0\n",
       "Inflight wifi service                  0\n",
       "Inflight entertainment                 0\n",
       "Online support                         0\n",
       "Ease of Online booking                 0\n",
       "On-board service                       0\n",
       "Leg room service                       0\n",
       "Baggage handling                       0\n",
       "Checkin service                        0\n",
       "Cleanliness                            0\n",
       "Online boarding                        0\n",
       "Departure Delay in Minutes             0\n",
       "Arrival Delay in Minutes             393\n",
       "dtype: int64"
      ]
     },
     "execution_count": 7,
     "metadata": {},
     "output_type": "execute_result"
    }
   ],
   "source": [
    "airline_df.isnull().sum()"
   ]
  },
  {
   "cell_type": "markdown",
   "id": "5051bf2f",
   "metadata": {},
   "source": [
    "#### **Handling Missing Values in Non-Critical Columns for Business Relevance**\n",
    "\n",
    "I would remove the rows with missing values in the **`Arrival Delay in Minutes`** column. Although this column isn’t directly related to the business question about **inflight entertainment** and **customer satisfaction**, retaining incomplete data can still affect overall model integrity. Since there are only **393 missing values out of 129,880 records** (a very small proportion), removing them would have **minimal impact on the dataset size** while helping maintain a clean, reliable dataset for modeling."
   ]
  },
  {
   "cell_type": "markdown",
   "id": "95bc1c43",
   "metadata": {},
   "source": [
    "### Check the number of rows and columns in the dataset"
   ]
  },
  {
   "cell_type": "code",
   "execution_count": 8,
   "id": "ead413d3",
   "metadata": {},
   "outputs": [
    {
     "data": {
      "text/plain": [
       "(129880, 22)"
      ]
     },
     "execution_count": 8,
     "metadata": {},
     "output_type": "execute_result"
    }
   ],
   "source": [
    "airline_df.shape"
   ]
  },
  {
   "cell_type": "markdown",
   "id": "cb115584",
   "metadata": {},
   "source": [
    "#### **Importance of Inspecting Dataset Dimensions for Data Quality and Completeness**\n",
    "\n",
    "Checking the number of rows and columns in a dataset is crucial for assessing its completeness and quality. If only a small number of values are missing, they can often be safely removed. However, if many values are missing, alternative strategies like imputation or further investigation into the data source may be necessary."
   ]
  },
  {
   "cell_type": "markdown",
   "id": "6d41efbf",
   "metadata": {},
   "source": [
    "### Drop the rows with missing values\n",
    "\n",
    "To drop the rows with missing values and save the resulting DataFrame in a variable named `airline_df_subset`, I can use the following code:"
   ]
  },
  {
   "cell_type": "code",
   "execution_count": 9,
   "id": "def956b3",
   "metadata": {},
   "outputs": [],
   "source": [
    "airline_df_subset=airline_df.dropna(axis=0).reset_index(drop=True);"
   ]
  },
  {
   "cell_type": "code",
   "execution_count": 10,
   "id": "fa034229",
   "metadata": {},
   "outputs": [
    {
     "data": {
      "text/plain": [
       "satisfaction                         0\n",
       "Customer Type                        0\n",
       "Age                                  0\n",
       "Type of Travel                       0\n",
       "Class                                0\n",
       "Flight Distance                      0\n",
       "Seat comfort                         0\n",
       "Departure/Arrival time convenient    0\n",
       "Food and drink                       0\n",
       "Gate location                        0\n",
       "Inflight wifi service                0\n",
       "Inflight entertainment               0\n",
       "Online support                       0\n",
       "Ease of Online booking               0\n",
       "On-board service                     0\n",
       "Leg room service                     0\n",
       "Baggage handling                     0\n",
       "Checkin service                      0\n",
       "Cleanliness                          0\n",
       "Online boarding                      0\n",
       "Departure Delay in Minutes           0\n",
       "Arrival Delay in Minutes             0\n",
       "dtype: int64"
      ]
     },
     "execution_count": 10,
     "metadata": {},
     "output_type": "execute_result"
    }
   ],
   "source": [
    "airline_df_subset.isna().sum()"
   ]
  },
  {
   "cell_type": "markdown",
   "id": "a332f147",
   "metadata": {},
   "source": [
    "### Check the number of rows and columns in the dataset again\n",
    "\n",
    "I check how many rows and columns remained in the dataset — and as expected, there are now 393 fewer rows of data after the cleaning step."
   ]
  },
  {
   "cell_type": "code",
   "execution_count": 11,
   "id": "d07572c9",
   "metadata": {},
   "outputs": [
    {
     "data": {
      "text/plain": [
       "(129487, 22)"
      ]
     },
     "execution_count": 11,
     "metadata": {},
     "output_type": "execute_result"
    }
   ],
   "source": [
    "airline_df_subset.shape"
   ]
  },
  {
   "cell_type": "markdown",
   "id": "26860a3e",
   "metadata": {},
   "source": [
    "### Prepare the data\n",
    "\n",
    "To create a plot (`sns.regplot`) of the model to visualize the results later in the notebook, the independent variable **Inflight entertainment** cannot be of type **int**, and the dependent variable **satisfaction** cannot be of type **object**. Both variables must be in the appropriate numeric formats for the plot to work correctly, with **Inflight entertainment** needing to be converted to type float, and **satisfaction** needing to be encoded as numeric values (0.0 for \"dissatisfied\" and 1.0 for \"satisfied\" )."
   ]
  },
  {
   "cell_type": "code",
   "execution_count": 12,
   "id": "5e5a5831",
   "metadata": {},
   "outputs": [],
   "source": [
    "airline_df_subset = airline_df_subset.astype({\"Inflight entertainment\": float})"
   ]
  },
  {
   "cell_type": "code",
   "execution_count": 13,
   "id": "00c47df8",
   "metadata": {},
   "outputs": [
    {
     "data": {
      "text/plain": [
       "dtype('float64')"
      ]
     },
     "execution_count": 13,
     "metadata": {},
     "output_type": "execute_result"
    }
   ],
   "source": [
    "airline_df_subset['Inflight entertainment'].dtype"
   ]
  },
  {
   "cell_type": "code",
   "execution_count": 14,
   "id": "233760a0",
   "metadata": {},
   "outputs": [],
   "source": [
    "airline_df_subset['satisfaction']=OneHotEncoder(drop='first').fit_transform(airline_df_subset[['satisfaction']]).toarray()"
   ]
  },
  {
   "cell_type": "markdown",
   "id": "689311ed",
   "metadata": {},
   "source": [
    "### Output the first 10 rows of `airline_df_subset`\n",
    "\n",
    "To examine what one-hot encoding did to the DataFrame, I output the first 10 rows of `airline_df_subset` to see how the categorical variable was transformed into multiple binary columns representing each category."
   ]
  },
  {
   "cell_type": "code",
   "execution_count": 15,
   "id": "3ab075ec",
   "metadata": {},
   "outputs": [
    {
     "data": {
      "text/html": [
       "<div>\n",
       "<style scoped>\n",
       "    .dataframe tbody tr th:only-of-type {\n",
       "        vertical-align: middle;\n",
       "    }\n",
       "\n",
       "    .dataframe tbody tr th {\n",
       "        vertical-align: top;\n",
       "    }\n",
       "\n",
       "    .dataframe thead th {\n",
       "        text-align: right;\n",
       "    }\n",
       "</style>\n",
       "<table border=\"1\" class=\"dataframe\">\n",
       "  <thead>\n",
       "    <tr style=\"text-align: right;\">\n",
       "      <th></th>\n",
       "      <th>satisfaction</th>\n",
       "      <th>Customer Type</th>\n",
       "      <th>Age</th>\n",
       "      <th>Type of Travel</th>\n",
       "      <th>Class</th>\n",
       "      <th>Flight Distance</th>\n",
       "      <th>Seat comfort</th>\n",
       "      <th>Departure/Arrival time convenient</th>\n",
       "      <th>Food and drink</th>\n",
       "      <th>Gate location</th>\n",
       "      <th>...</th>\n",
       "      <th>Online support</th>\n",
       "      <th>Ease of Online booking</th>\n",
       "      <th>On-board service</th>\n",
       "      <th>Leg room service</th>\n",
       "      <th>Baggage handling</th>\n",
       "      <th>Checkin service</th>\n",
       "      <th>Cleanliness</th>\n",
       "      <th>Online boarding</th>\n",
       "      <th>Departure Delay in Minutes</th>\n",
       "      <th>Arrival Delay in Minutes</th>\n",
       "    </tr>\n",
       "  </thead>\n",
       "  <tbody>\n",
       "    <tr>\n",
       "      <th>0</th>\n",
       "      <td>1.0</td>\n",
       "      <td>Loyal Customer</td>\n",
       "      <td>65</td>\n",
       "      <td>Personal Travel</td>\n",
       "      <td>Eco</td>\n",
       "      <td>265</td>\n",
       "      <td>0</td>\n",
       "      <td>0</td>\n",
       "      <td>0</td>\n",
       "      <td>2</td>\n",
       "      <td>...</td>\n",
       "      <td>2</td>\n",
       "      <td>3</td>\n",
       "      <td>3</td>\n",
       "      <td>0</td>\n",
       "      <td>3</td>\n",
       "      <td>5</td>\n",
       "      <td>3</td>\n",
       "      <td>2</td>\n",
       "      <td>0</td>\n",
       "      <td>0.0</td>\n",
       "    </tr>\n",
       "    <tr>\n",
       "      <th>1</th>\n",
       "      <td>1.0</td>\n",
       "      <td>Loyal Customer</td>\n",
       "      <td>47</td>\n",
       "      <td>Personal Travel</td>\n",
       "      <td>Business</td>\n",
       "      <td>2464</td>\n",
       "      <td>0</td>\n",
       "      <td>0</td>\n",
       "      <td>0</td>\n",
       "      <td>3</td>\n",
       "      <td>...</td>\n",
       "      <td>2</td>\n",
       "      <td>3</td>\n",
       "      <td>4</td>\n",
       "      <td>4</td>\n",
       "      <td>4</td>\n",
       "      <td>2</td>\n",
       "      <td>3</td>\n",
       "      <td>2</td>\n",
       "      <td>310</td>\n",
       "      <td>305.0</td>\n",
       "    </tr>\n",
       "    <tr>\n",
       "      <th>2</th>\n",
       "      <td>1.0</td>\n",
       "      <td>Loyal Customer</td>\n",
       "      <td>15</td>\n",
       "      <td>Personal Travel</td>\n",
       "      <td>Eco</td>\n",
       "      <td>2138</td>\n",
       "      <td>0</td>\n",
       "      <td>0</td>\n",
       "      <td>0</td>\n",
       "      <td>3</td>\n",
       "      <td>...</td>\n",
       "      <td>2</td>\n",
       "      <td>2</td>\n",
       "      <td>3</td>\n",
       "      <td>3</td>\n",
       "      <td>4</td>\n",
       "      <td>4</td>\n",
       "      <td>4</td>\n",
       "      <td>2</td>\n",
       "      <td>0</td>\n",
       "      <td>0.0</td>\n",
       "    </tr>\n",
       "    <tr>\n",
       "      <th>3</th>\n",
       "      <td>1.0</td>\n",
       "      <td>Loyal Customer</td>\n",
       "      <td>60</td>\n",
       "      <td>Personal Travel</td>\n",
       "      <td>Eco</td>\n",
       "      <td>623</td>\n",
       "      <td>0</td>\n",
       "      <td>0</td>\n",
       "      <td>0</td>\n",
       "      <td>3</td>\n",
       "      <td>...</td>\n",
       "      <td>3</td>\n",
       "      <td>1</td>\n",
       "      <td>1</td>\n",
       "      <td>0</td>\n",
       "      <td>1</td>\n",
       "      <td>4</td>\n",
       "      <td>1</td>\n",
       "      <td>3</td>\n",
       "      <td>0</td>\n",
       "      <td>0.0</td>\n",
       "    </tr>\n",
       "    <tr>\n",
       "      <th>4</th>\n",
       "      <td>1.0</td>\n",
       "      <td>Loyal Customer</td>\n",
       "      <td>70</td>\n",
       "      <td>Personal Travel</td>\n",
       "      <td>Eco</td>\n",
       "      <td>354</td>\n",
       "      <td>0</td>\n",
       "      <td>0</td>\n",
       "      <td>0</td>\n",
       "      <td>3</td>\n",
       "      <td>...</td>\n",
       "      <td>4</td>\n",
       "      <td>2</td>\n",
       "      <td>2</td>\n",
       "      <td>0</td>\n",
       "      <td>2</td>\n",
       "      <td>4</td>\n",
       "      <td>2</td>\n",
       "      <td>5</td>\n",
       "      <td>0</td>\n",
       "      <td>0.0</td>\n",
       "    </tr>\n",
       "    <tr>\n",
       "      <th>5</th>\n",
       "      <td>1.0</td>\n",
       "      <td>Loyal Customer</td>\n",
       "      <td>30</td>\n",
       "      <td>Personal Travel</td>\n",
       "      <td>Eco</td>\n",
       "      <td>1894</td>\n",
       "      <td>0</td>\n",
       "      <td>0</td>\n",
       "      <td>0</td>\n",
       "      <td>3</td>\n",
       "      <td>...</td>\n",
       "      <td>2</td>\n",
       "      <td>2</td>\n",
       "      <td>5</td>\n",
       "      <td>4</td>\n",
       "      <td>5</td>\n",
       "      <td>5</td>\n",
       "      <td>4</td>\n",
       "      <td>2</td>\n",
       "      <td>0</td>\n",
       "      <td>0.0</td>\n",
       "    </tr>\n",
       "    <tr>\n",
       "      <th>6</th>\n",
       "      <td>1.0</td>\n",
       "      <td>Loyal Customer</td>\n",
       "      <td>66</td>\n",
       "      <td>Personal Travel</td>\n",
       "      <td>Eco</td>\n",
       "      <td>227</td>\n",
       "      <td>0</td>\n",
       "      <td>0</td>\n",
       "      <td>0</td>\n",
       "      <td>3</td>\n",
       "      <td>...</td>\n",
       "      <td>5</td>\n",
       "      <td>5</td>\n",
       "      <td>5</td>\n",
       "      <td>0</td>\n",
       "      <td>5</td>\n",
       "      <td>5</td>\n",
       "      <td>5</td>\n",
       "      <td>3</td>\n",
       "      <td>17</td>\n",
       "      <td>15.0</td>\n",
       "    </tr>\n",
       "    <tr>\n",
       "      <th>7</th>\n",
       "      <td>1.0</td>\n",
       "      <td>Loyal Customer</td>\n",
       "      <td>10</td>\n",
       "      <td>Personal Travel</td>\n",
       "      <td>Eco</td>\n",
       "      <td>1812</td>\n",
       "      <td>0</td>\n",
       "      <td>0</td>\n",
       "      <td>0</td>\n",
       "      <td>3</td>\n",
       "      <td>...</td>\n",
       "      <td>2</td>\n",
       "      <td>2</td>\n",
       "      <td>3</td>\n",
       "      <td>3</td>\n",
       "      <td>4</td>\n",
       "      <td>5</td>\n",
       "      <td>4</td>\n",
       "      <td>2</td>\n",
       "      <td>0</td>\n",
       "      <td>0.0</td>\n",
       "    </tr>\n",
       "    <tr>\n",
       "      <th>8</th>\n",
       "      <td>1.0</td>\n",
       "      <td>Loyal Customer</td>\n",
       "      <td>56</td>\n",
       "      <td>Personal Travel</td>\n",
       "      <td>Business</td>\n",
       "      <td>73</td>\n",
       "      <td>0</td>\n",
       "      <td>0</td>\n",
       "      <td>0</td>\n",
       "      <td>3</td>\n",
       "      <td>...</td>\n",
       "      <td>5</td>\n",
       "      <td>4</td>\n",
       "      <td>4</td>\n",
       "      <td>0</td>\n",
       "      <td>1</td>\n",
       "      <td>5</td>\n",
       "      <td>4</td>\n",
       "      <td>4</td>\n",
       "      <td>0</td>\n",
       "      <td>0.0</td>\n",
       "    </tr>\n",
       "    <tr>\n",
       "      <th>9</th>\n",
       "      <td>1.0</td>\n",
       "      <td>Loyal Customer</td>\n",
       "      <td>22</td>\n",
       "      <td>Personal Travel</td>\n",
       "      <td>Eco</td>\n",
       "      <td>1556</td>\n",
       "      <td>0</td>\n",
       "      <td>0</td>\n",
       "      <td>0</td>\n",
       "      <td>3</td>\n",
       "      <td>...</td>\n",
       "      <td>2</td>\n",
       "      <td>2</td>\n",
       "      <td>2</td>\n",
       "      <td>4</td>\n",
       "      <td>5</td>\n",
       "      <td>3</td>\n",
       "      <td>4</td>\n",
       "      <td>2</td>\n",
       "      <td>30</td>\n",
       "      <td>26.0</td>\n",
       "    </tr>\n",
       "  </tbody>\n",
       "</table>\n",
       "<p>10 rows × 22 columns</p>\n",
       "</div>"
      ],
      "text/plain": [
       "   satisfaction   Customer Type  Age   Type of Travel     Class  \\\n",
       "0           1.0  Loyal Customer   65  Personal Travel       Eco   \n",
       "1           1.0  Loyal Customer   47  Personal Travel  Business   \n",
       "2           1.0  Loyal Customer   15  Personal Travel       Eco   \n",
       "3           1.0  Loyal Customer   60  Personal Travel       Eco   \n",
       "4           1.0  Loyal Customer   70  Personal Travel       Eco   \n",
       "5           1.0  Loyal Customer   30  Personal Travel       Eco   \n",
       "6           1.0  Loyal Customer   66  Personal Travel       Eco   \n",
       "7           1.0  Loyal Customer   10  Personal Travel       Eco   \n",
       "8           1.0  Loyal Customer   56  Personal Travel  Business   \n",
       "9           1.0  Loyal Customer   22  Personal Travel       Eco   \n",
       "\n",
       "   Flight Distance  Seat comfort  Departure/Arrival time convenient  \\\n",
       "0              265             0                                  0   \n",
       "1             2464             0                                  0   \n",
       "2             2138             0                                  0   \n",
       "3              623             0                                  0   \n",
       "4              354             0                                  0   \n",
       "5             1894             0                                  0   \n",
       "6              227             0                                  0   \n",
       "7             1812             0                                  0   \n",
       "8               73             0                                  0   \n",
       "9             1556             0                                  0   \n",
       "\n",
       "   Food and drink  Gate location  ...  Online support  Ease of Online booking  \\\n",
       "0               0              2  ...               2                       3   \n",
       "1               0              3  ...               2                       3   \n",
       "2               0              3  ...               2                       2   \n",
       "3               0              3  ...               3                       1   \n",
       "4               0              3  ...               4                       2   \n",
       "5               0              3  ...               2                       2   \n",
       "6               0              3  ...               5                       5   \n",
       "7               0              3  ...               2                       2   \n",
       "8               0              3  ...               5                       4   \n",
       "9               0              3  ...               2                       2   \n",
       "\n",
       "   On-board service  Leg room service  Baggage handling  Checkin service  \\\n",
       "0                 3                 0                 3                5   \n",
       "1                 4                 4                 4                2   \n",
       "2                 3                 3                 4                4   \n",
       "3                 1                 0                 1                4   \n",
       "4                 2                 0                 2                4   \n",
       "5                 5                 4                 5                5   \n",
       "6                 5                 0                 5                5   \n",
       "7                 3                 3                 4                5   \n",
       "8                 4                 0                 1                5   \n",
       "9                 2                 4                 5                3   \n",
       "\n",
       "   Cleanliness  Online boarding  Departure Delay in Minutes  \\\n",
       "0            3                2                           0   \n",
       "1            3                2                         310   \n",
       "2            4                2                           0   \n",
       "3            1                3                           0   \n",
       "4            2                5                           0   \n",
       "5            4                2                           0   \n",
       "6            5                3                          17   \n",
       "7            4                2                           0   \n",
       "8            4                4                           0   \n",
       "9            4                2                          30   \n",
       "\n",
       "   Arrival Delay in Minutes  \n",
       "0                       0.0  \n",
       "1                     305.0  \n",
       "2                       0.0  \n",
       "3                       0.0  \n",
       "4                       0.0  \n",
       "5                       0.0  \n",
       "6                      15.0  \n",
       "7                       0.0  \n",
       "8                       0.0  \n",
       "9                      26.0  \n",
       "\n",
       "[10 rows x 22 columns]"
      ]
     },
     "execution_count": 15,
     "metadata": {},
     "output_type": "execute_result"
    }
   ],
   "source": [
    "airline_df_subset.head(10)"
   ]
  },
  {
   "cell_type": "markdown",
   "id": "b13df5ec",
   "metadata": {},
   "source": [
    "### Confirm model assumptions"
   ]
  },
  {
   "cell_type": "markdown",
   "id": "dda9db3c",
   "metadata": {},
   "source": [
    "### Evaluating the Assumptions for Model Validity\n",
    "\n",
    "**Logistic Regression model assumptions**\n",
    "- Outcome variable is categorical\n",
    "- Observations are independent of each other\n",
    "- No severe multicollinearity among X variables\n",
    "- No extreme outliers\n",
    "- Linear relationship between each X variable and the logit of the outcome variable\n",
    "- Sufficiently large sample size"
   ]
  },
  {
   "cell_type": "markdown",
   "id": "71c5415c",
   "metadata": {},
   "source": [
    "Now, let's evaluate the assumptions for the Logistic Regression model's validity."
   ]
  },
  {
   "cell_type": "markdown",
   "id": "1f030c17",
   "metadata": {},
   "source": [
    "#### **Outcome variable is categorical**\n",
    "\n",
    "The outcome variable, **`satisfaction`**, is categorical, representing customer satisfaction. A value of **0.0** indicates a **dissatisfied** customer, while **1.0** indicates a **satisfied** customer."
   ]
  },
  {
   "cell_type": "markdown",
   "id": "4bab3e87",
   "metadata": {},
   "source": [
    "#### **Observations are independent of each other**\n",
    "\n",
    "Yes, this assumption is reasonable. Each record represents an individual customer’s experience and satisfaction rating, which is presumed to be independent of other customers. Unless additional metadata (e.g., group bookings or shared travel itineraries) suggests otherwise, it’s appropriate to treat the observations as independent."
   ]
  },
  {
   "cell_type": "markdown",
   "id": "156d8b39",
   "metadata": {},
   "source": [
    "#### **No severe multicollinearity among X variables**\n",
    "\n",
    "Not applicable in this case. Since this is a simple logistic regression model with only one predictor variable (`Inflight entertainment`), multicollinearity is not a concern."
   ]
  },
  {
   "cell_type": "code",
   "execution_count": 16,
   "id": "da835934",
   "metadata": {},
   "outputs": [
    {
     "data": {
      "image/png": "[encoded data removed]",
      "text/plain": [
       "<Figure size 500x100 with 1 Axes>"
      ]
     },
     "metadata": {},
     "output_type": "display_data"
    }
   ],
   "source": [
    "plt.figure(figsize=(5,1))\n",
    "sns.boxplot(x=airline_df_subset['Inflight entertainment'])\n",
    "plt.title('Boxplot of Inflight Entertainment Ratings')\n",
    "plt.show()"
   ]
  },
  {
   "cell_type": "markdown",
   "id": "d55d58ae",
   "metadata": {},
   "source": [
    "There is no evidence of extreme outliers in the `Inflight entertainment` predictor variable. A boxplot of its distribution confirmed that all values fall within the expected range (e.g. 0–5 rating scale). Therefore, this assumption is reasonably met for the simple logistic regression model."
   ]
  },
  {
   "cell_type": "markdown",
   "id": "985a02bd",
   "metadata": {},
   "source": [
    "#### **Linear relationship between each X variable and the logit of the outcome variable**"
   ]
  },
  {
   "cell_type": "code",
   "execution_count": 17,
   "id": "c4e8bc1b",
   "metadata": {},
   "outputs": [
    {
     "data": {
      "image/png": "[encoded data removed]",
      "text/plain": [
       "<Figure size 800x500 with 1 Axes>"
      ]
     },
     "metadata": {},
     "output_type": "display_data"
    }
   ],
   "source": [
    "df_temp = airline_df_subset.copy()\n",
    "\n",
    "df_temp['Inflight_entertainment_bin'] = pd.qcut(df_temp['Inflight entertainment'], q=10, duplicates='drop')\n",
    "\n",
    "binned = df_temp.groupby('Inflight_entertainment_bin', observed=False).agg({\n",
    "    'Inflight entertainment': 'mean',\n",
    "    'satisfaction': 'mean'\n",
    "})\n",
    "\n",
    "binned['logit'] = np.log((binned['satisfaction'] + 1e-5) / (1 - binned['satisfaction'] + 1e-5))\n",
    "\n",
    "plt.figure(figsize=(8, 5))\n",
    "plt.plot(binned['Inflight entertainment'], binned['logit'], marker='o')\n",
    "plt.xlabel('Mean Inflight Entertainment Rating in Bin')\n",
    "plt.ylabel('Logit (log odds of satisfaction)')\n",
    "plt.title('Linearity in the Logit: Inflight Entertainment')\n",
    "plt.grid(True)\n",
    "plt.show()\n"
   ]
  },
  {
   "cell_type": "markdown",
   "id": "ef6a8e10",
   "metadata": {},
   "source": [
    "This approach works well as a starting point, especially when the focus is on **prediction** rather than **interpretation**. It allows me to move forward with the modeling process without getting bogged down in variable transformations or assumption adjustments at this stage.\n",
    "\n",
    "For **categorical predictors** like **Inflight entertainment**, the **linearity of the logit assumption** is **not required in the same way it is for continuous predictors**. Since **Inflight entertainment** is an **ordinal variable** (with ratings from 1 to 5), it can either be treated as **continuous** or **categorical**, depending on the modeling context:\n",
    "\n",
    "- If treated as **continuous**, one might explore its relationship with the log odds of the outcome. In this case, the exploratory plot revealed some **non-linearity** between satisfaction and Inflight entertainment, particularly from ratings **1–3**, with a more linear pattern from **3–5**.\n",
    "- If treated as **categorical**, each rating level is compared separately, and no linearity assumption is involved — the model simply compares the log-odds of satisfaction for each rating level.\n",
    "\n",
    "#### **Decision for Baseline Model**\n",
    "Even though the exploratory plot suggests some non-linearity, for this **baseline predictive model**, I will proceed by treating **Inflight entertainment** as a **continuous variable**. The rationale is that:\n",
    "- The primary focus here is on building an initial predictive baseline, not on inference or coefficient interpretation.\n",
    "- The logit linearity assumption applies only to continuous variables, and while ordinal variables can sometimes be treated continuously, it's acceptable to use them in their raw form for early prototyping.\n",
    "- Its relationship with satisfaction can be meaningfully assessed through its **model coefficient** for now, and the model’s overall predictive performance will guide future refinements.\n",
    "\n",
    "#### **Next Steps**\n",
    "- If later analysis suggests that this non-linear relationship negatively affects performance, I’ll consider treating **Inflight entertainment** as a **categorical variable** using **one-hot encoding** or explore **non-linear transformations** (e.g., **splines**, **quadratic terms**).\n",
    "- For now, I’ll move forward with this setup and revisit this decision during model refinement if necessary."
   ]
  },
  {
   "cell_type": "markdown",
   "id": "b838f321",
   "metadata": {},
   "source": [
    "#### **Sufficiently large sample size**\n",
    "\n",
    "The original **Invistico_Airline** dataset contained **129,880 records**. After selecting relevant variables and removing duplicates or missing values for this analysis, the working dataset — `airline_df_subset` — remains **substantially large** for a simple logistic regression model.\n",
    "\n",
    "Regarding outlier detection:\n",
    "- A review of the **Inflight entertainment** predictor via a **boxplot** confirmed there are **no extreme outliers**. All values fall within the expected **1–5 rating scale**, and no unreasonable values or distribution anomalies were observed.\n",
    "- As this is an **ordinal categorical variable**, extreme values beyond this scale would indicate data entry issues, but none were present in this case."
   ]
  },
  {
   "cell_type": "markdown",
   "id": "998bea62",
   "metadata": {},
   "source": [
    "All key assumptions for the simple logistic regression model were met, **except for the linearity of the logit assumption**, which is **not directly applicable in the same way to ordinal variables like `Inflight entertainment`**. While a logit plot revealed some **non-linearity between lower and higher rating values**, this variable is currently treated as **continuous for baseline modeling purposes**.\n",
    "\n",
    "Since the primary focus at this stage is on **prediction rather than inference**, this mild non-linearity is acceptable. If future model refinements prioritize interpretability, I could consider treating **Inflight entertainment** as a **categorical variable**, or applying transformations such as **splines**, **quadratic terms**, or **binning** to better capture its relationship with customer satisfaction.\n",
    "\n",
    "For now, the model’s baseline performance will guide further steps in the modeling workflow."
   ]
  },
  {
   "cell_type": "markdown",
   "id": "347ee561",
   "metadata": {},
   "source": [
    "### Create the training and testing data\n",
    "\n",
    "I split the data into a training set and a testing set, with 70% allocated to the training set and 30% to the testing set. To prepare the data for the model, I created the `X` DataFrame containing the independent variable(s) (in this case, `Inflight entertainment`) and the `y` DataFrame containing the dependent variable (`satisfaction`). "
   ]
  },
  {
   "cell_type": "code",
   "execution_count": 18,
   "id": "b8ecf5ca",
   "metadata": {},
   "outputs": [],
   "source": [
    "X=airline_df_subset[['Inflight entertainment']]\n",
    "y=airline_df_subset['satisfaction']\n",
    "\n",
    "X_train, X_test, y_train, y_test = train_test_split(X,y, test_size=0.3, random_state=42)"
   ]
  },
  {
   "cell_type": "markdown",
   "id": "53c51143",
   "metadata": {},
   "source": [
    "#### **Comprehensive Model Considerations for Customer Satisfaction with Multiple Predictors**\n",
    "\n",
    "Using `inflight entertainment` as the sole independent variable may not be ideal, as other factors could also influence customer satisfaction. Variables like `Departure Delay in Minutes` and `Seat Comfort` may have a significant impact. \n",
    "\n",
    "These variables can be included as independent predictors, some as covariates to control for confounding effects, and some may have interaction effects on customer satisfaction:  \n",
    "- **Leg room service**  \n",
    "- **On-board service**  \n",
    "- **Cleanliness**  \n",
    "- **Check-in service**  \n",
    "- **Departure Delay in Minutes**  \n",
    "- **Arrival Delay in Minutes**  \n",
    "- **Inflight WiFi service**  \n",
    "- **Food and drink**  \n",
    "- **Departure/Arrival time convenience**  \n",
    "- **Seat comfort**  \n",
    "\n",
    "Incorporating multiple relevant predictors can improve the accuracy and comprehensiveness of the model. To begin, I will start with simple logistic regression, using just one predictor. This will help me become familiar with the modeling process before enhancing the model by adding more predictors for greater accuracy and insight."
   ]
  },
  {
   "cell_type": "markdown",
   "id": "74c2dcb4",
   "metadata": {},
   "source": [
    "## Model building"
   ]
  },
  {
   "cell_type": "markdown",
   "id": "20aaccd3",
   "metadata": {},
   "source": [
    "### Fit a Logistic Regression model to the data\n",
    "\n",
    "I will build a logistic regression model and fit it to the training data."
   ]
  },
  {
   "cell_type": "code",
   "execution_count": 19,
   "id": "ee13da76",
   "metadata": {},
   "outputs": [],
   "source": [
    "# airline_lr= LogisticRegression().fit(X_train,y_train)"
   ]
  },
  {
   "cell_type": "markdown",
   "id": "756baf45",
   "metadata": {},
   "source": [
    "I specify the path to where I want to save my model."
   ]
  },
  {
   "cell_type": "code",
   "execution_count": 20,
   "id": "29a365f7",
   "metadata": {},
   "outputs": [],
   "source": [
    "path = r'C:\\Users\\saswa\\Documents\\GitHub\\Airline-Customer-Satisfaction-End-to-End-Analysis-and-Modeling\\Fit_models\\\\'"
   ]
  },
  {
   "cell_type": "code",
   "execution_count": 21,
   "id": "b161eeb7",
   "metadata": {},
   "outputs": [],
   "source": [
    "# def write_pickle(path, model_object, save_as:str):\n",
    "#     '''\n",
    "#     In:\n",
    "#         path:         folder path where the model should be saved  \n",
    "#         model_object: the trained model to pickle  \n",
    "#         save_as:      filename to save the model as (with .pkl extension)\n",
    "\n",
    "#     Out: Saves the model as a pickle file in the specified folder\n",
    "#     '''\n",
    "\n",
    "\n",
    "#     with open(path + save_as + '.pickle', 'wb') as to_write:\n",
    "#         pickle.dump(model_object, to_write)"
   ]
  },
  {
   "cell_type": "code",
   "execution_count": 22,
   "id": "8da849af",
   "metadata": {},
   "outputs": [],
   "source": [
    "def read_pickle(path, saved_model_name:str):\n",
    "    '''\n",
    "    In:  \n",
    "        path:             folder path to load the model from  \n",
    "        saved_model_name: filename of the pickled model to load  \n",
    "\n",
    "    Out:  \n",
    "        model: the unpickled model object  \n",
    "    '''\n",
    "\n",
    "    with open(path + saved_model_name + '.pickle', 'rb') as to_read:\n",
    "        model = pickle.load(to_read)\n",
    "\n",
    "    return model"
   ]
  },
  {
   "cell_type": "markdown",
   "id": "752f333a",
   "metadata": {},
   "source": [
    "I use the functions defined above to save the model in a pickle file and then read it in."
   ]
  },
  {
   "cell_type": "code",
   "execution_count": 23,
   "id": "43743b53",
   "metadata": {},
   "outputs": [],
   "source": [
    "# write_pickle(path, airline_lr, 'airline_lr')"
   ]
  },
  {
   "cell_type": "code",
   "execution_count": 24,
   "id": "baa6ce03",
   "metadata": {},
   "outputs": [],
   "source": [
    "airline_lr = read_pickle(path, 'airline_lr')"
   ]
  },
  {
   "cell_type": "markdown",
   "id": "008e14d7",
   "metadata": {},
   "source": [
    "### Obtain parameter estimates\n",
    "\n",
    "I will make sure to output the two parameters from my model: the **coefficients** and the **intercept**."
   ]
  },
  {
   "cell_type": "code",
   "execution_count": 25,
   "id": "26266577",
   "metadata": {},
   "outputs": [
    {
     "data": {
      "text/plain": [
       "array([[0.99752883]])"
      ]
     },
     "execution_count": 25,
     "metadata": {},
     "output_type": "execute_result"
    }
   ],
   "source": [
    "airline_lr.coef_"
   ]
  },
  {
   "cell_type": "code",
   "execution_count": 26,
   "id": "307e3961",
   "metadata": {},
   "outputs": [
    {
     "data": {
      "text/plain": [
       "array([-3.19359054])"
      ]
     },
     "execution_count": 26,
     "metadata": {},
     "output_type": "execute_result"
    }
   ],
   "source": [
    "airline_lr.intercept_"
   ]
  },
  {
   "cell_type": "markdown",
   "id": "66d69456",
   "metadata": {},
   "source": [
    "### Create a plot of the model\n",
    "\n",
    "I created a plot of the model to visualize the results using the seaborn package."
   ]
  },
  {
   "cell_type": "code",
   "execution_count": 27,
   "id": "3e650e0e",
   "metadata": {},
   "outputs": [
    {
     "data": {
      "text/plain": [
       "<Axes: xlabel='Inflight entertainment', ylabel='satisfaction'>"
      ]
     },
     "execution_count": 27,
     "metadata": {},
     "output_type": "execute_result"
    },
    {
     "data": {
      "image/png": "[encoded data removed]",
      "text/plain": [
       "<Figure size 640x480 with 1 Axes>"
      ]
     },
     "metadata": {},
     "output_type": "display_data"
    }
   ],
   "source": [
    "sns.regplot(x=\"Inflight entertainment\", y=\"satisfaction\", data=airline_df_subset, logistic=True, ci=None)"
   ]
  },
  {
   "cell_type": "markdown",
   "id": "0976bbeb",
   "metadata": {},
   "source": [
    "#### **Interpreting Customer Satisfaction and Inflight Entertainment Ratings with Logistic Regression**\n",
    "\n",
    "The graph above suggests that higher `Inflight entertainment` ratings are associated with higher customer satisfaction. However, since `Inflight entertainment` is an ordinal categorical variable (with values like 1, 2, 3, 4, 5), treating it as continuous in a regression plot should be interpreted carefully.  \n",
    "\n",
    "By using `logistic=True`, the regression curve models the probability of satisfaction rather than assuming a linear relationship. However, the logistic curve still assumes a smooth numerical effect, which may not fully capture category-specific differences."
   ]
  },
  {
   "cell_type": "markdown",
   "id": "faa59d23",
   "metadata": {},
   "source": [
    "## Results and evaluation"
   ]
  },
  {
   "cell_type": "markdown",
   "id": "17a8d68a",
   "metadata": {},
   "source": [
    "### Predict the outcome for the test dataset\n",
    "\n",
    "First, I input the holdout dataset into the `predict` function to get the predicted labels from the model and saved these predictions as a variable called `y_pred`."
   ]
  },
  {
   "cell_type": "code",
   "execution_count": 28,
   "id": "e4f6eba3",
   "metadata": {},
   "outputs": [],
   "source": [
    "y_pred=airline_lr.predict(X_test)"
   ]
  },
  {
   "cell_type": "markdown",
   "id": "c3995ec2",
   "metadata": {},
   "source": [
    "### Print out `y_pred`\n",
    "\n",
    "I printed out `y_pred` to examine the predictions."
   ]
  },
  {
   "cell_type": "code",
   "execution_count": 29,
   "id": "60da8e13",
   "metadata": {},
   "outputs": [
    {
     "name": "stdout",
     "output_type": "stream",
     "text": [
      "[1. 0. 0. ... 0. 0. 0.]\n"
     ]
    }
   ],
   "source": [
    "print(y_pred)"
   ]
  },
  {
   "cell_type": "markdown",
   "id": "b3c75477",
   "metadata": {},
   "source": [
    "### Use the `predict_proba` and `predict` functions on `X_test`\n",
    "\n",
    "I used the `predict_proba` and `predict` functions on `X_test` to get the probability estimates and predicted labels, respectively. "
   ]
  },
  {
   "cell_type": "markdown",
   "id": "f628285a",
   "metadata": {},
   "source": [
    "- `predict_proba(X_test)` returns the probability estimates for each class."
   ]
  },
  {
   "cell_type": "code",
   "execution_count": 30,
   "id": "a0c3e9ed",
   "metadata": {},
   "outputs": [
    {
     "data": {
      "text/plain": [
       "array([[0.14257646, 0.85742354],\n",
       "       [0.55008251, 0.44991749],\n",
       "       [0.89989529, 0.10010471],\n",
       "       ...,\n",
       "       [0.89989529, 0.10010471],\n",
       "       [0.76826369, 0.23173631],\n",
       "       [0.55008251, 0.44991749]], shape=(38847, 2))"
      ]
     },
     "execution_count": 30,
     "metadata": {},
     "output_type": "execute_result"
    }
   ],
   "source": [
    "airline_lr.predict_proba(X_test)"
   ]
  },
  {
   "cell_type": "markdown",
   "id": "ef755eb1",
   "metadata": {},
   "source": [
    "- `predict(X_test)` gives the predicted class labels based on the model's decision boundary."
   ]
  },
  {
   "cell_type": "code",
   "execution_count": 31,
   "id": "415bd458",
   "metadata": {},
   "outputs": [
    {
     "data": {
      "text/plain": [
       "array([1., 0., 0., ..., 0., 0., 0.], shape=(38847,))"
      ]
     },
     "execution_count": 31,
     "metadata": {},
     "output_type": "execute_result"
    }
   ],
   "source": [
    "airline_lr.predict(X_test)"
   ]
  },
  {
   "cell_type": "markdown",
   "id": "1a29f133",
   "metadata": {},
   "source": [
    "### Analyze the results\n",
    "\n",
    "I printed out the model's accuracy, precision, recall, and F1 score to evaluate its performance on the test data."
   ]
  },
  {
   "cell_type": "code",
   "execution_count": 32,
   "id": "148c0d83",
   "metadata": {},
   "outputs": [
    {
     "name": "stdout",
     "output_type": "stream",
     "text": [
      "Accuracy: 0.801529\n",
      "Precision: 0.816142\n",
      "Recall: 0.821530\n",
      "F1 Score: 0.818827\n"
     ]
    }
   ],
   "source": [
    "print(\"Accuracy:\", \"%.6f\" % metrics.accuracy_score(y_test, y_pred))\n",
    "print(\"Precision:\", \"%.6f\" % metrics.precision_score(y_test, y_pred))\n",
    "print(\"Recall:\", \"%.6f\" % metrics.recall_score(y_test, y_pred))\n",
    "print(\"F1 Score:\", \"%.6f\" % metrics.f1_score(y_test, y_pred))"
   ]
  },
  {
   "cell_type": "markdown",
   "id": "05bf8df5",
   "metadata": {},
   "source": [
    "The logistic regression model demonstrates strong predictive capabilities in identifying customer satisfaction:\n",
    "\n",
    "- The **accuracy** of **80.15%** indicates that the model correctly classified over 80% of the customers as either satisfied or dissatisfied.\n",
    "- A **precision** of **81.61%** means that when the model predicts a customer is satisfied, it is correct about 82% of the time—suggesting a relatively low rate of false positives.\n",
    "- The **recall** of **82.15%** shows that the model successfully identifies a large proportion of truly satisfied customers, with relatively few being missed (false negatives).\n",
    "- The **F1 Score** of **81.88%**, which balances precision and recall, reflects the model’s robust overall performance in handling both types of classification errors."
   ]
  },
  {
   "cell_type": "markdown",
   "id": "eb4d6b76",
   "metadata": {},
   "source": [
    "### Produce a confusion matrix\n",
    "\n",
    "Data professionals often like to know the types of errors made by an algorithm. To obtain this information, I produce a confusion matrix."
   ]
  },
  {
   "cell_type": "code",
   "execution_count": 33,
   "id": "18c7a0d2",
   "metadata": {},
   "outputs": [
    {
     "data": {
      "image/png": "[encoded data removed]",
      "text/plain": [
       "<Figure size 640x480 with 2 Axes>"
      ]
     },
     "metadata": {},
     "output_type": "display_data"
    }
   ],
   "source": [
    "cm = metrics.confusion_matrix(y_test, y_pred, labels = airline_lr.classes_)\n",
    "\n",
    "# disp = metrics.ConfusionMatrixDisplay(confusion_matrix = cm,display_labels = clf.classes_)\n",
    "\n",
    "#or\n",
    "\n",
    "disp = metrics.ConfusionMatrixDisplay(confusion_matrix=cm, display_labels=['Dissatisfied', 'Satisfied'])\n",
    "\n",
    "\n",
    "disp.plot()\n",
    "\n",
    "plt.show()"
   ]
  },
  {
   "cell_type": "markdown",
   "id": "afcfb27b",
   "metadata": {},
   "source": [
    "#### **Insights from the Confusion Matrix: Model Performance and Misclassification Patterns**\n",
    "\n",
    "The **confusion matrix** above visualizes the classification model's performance by breaking down predictions into four categories:\n",
    "\n",
    "- **True Positives (bottom-right | 17,423):** Customers who were truly **satisfied** and were correctly predicted by the model as satisfied.\n",
    "- **True Negatives (upper-left | 13,714):** Customers who were truly **dissatisfied** and were correctly predicted by the model as dissatisfied.  \n",
    "- **False Positives (upper-right | 3,925):** Customers who were actually **dissatisfied** but were incorrectly predicted by the model as **satisfied**.  \n",
    "- **False Negatives (bottom-left | 3,785):** Customers who were actually **satisfied** but were incorrectly predicted by the model as **dissatisfied**.  \n",
    "\n",
    "**Observations:**\n",
    "\n",
    "- What stood out to me was that the false positives are higher than the false negatives. However, the total number of misclassifications is relatively low, indicating that the model performs well overall.  \n",
    "\n",
    "- Additionally, two quadrants in the confusion matrix have values under 4,000, which correspond to false positives and false negatives. Meanwhile, the true positives and true negatives are both above 13,000, showing that the model correctly classifies the majority of cases."
   ]
  },
  {
   "cell_type": "markdown",
   "id": "b4421e3e",
   "metadata": {},
   "source": [
    "#### **False Positives vs False Negatives: Insights into Model Misclassification and Business Implications**\n",
    "\n",
    "I noticed a difference, though it is not very large. The false positives appear to be higher than the false negatives. This could be problematic if the primary concern is avoiding the misclassification of dissatisfied customers as satisfied. However, if the focus is on minimizing resource allocation toward customer retention efforts, then reducing false negatives might be a greater priority."
   ]
  },
  {
   "cell_type": "markdown",
   "id": "5529fec3",
   "metadata": {},
   "source": [
    "#### **Improving Model Performance: Incorporating Additional Variables and Capturing Complex Relationships**\n",
    "\n",
    "Including more independent variables in the model training process could improve performance, as factors like `Departure Delay in Minutes` and `Seat Comfort` likely influence customer satisfaction.  \n",
    "\n",
    "Additionally, considering interaction effects and covariates could help capture complex relationships between variables, leading to a more accurate and robust model."
   ]
  },
  {
   "cell_type": "markdown",
   "id": "f0c61f9e",
   "metadata": {},
   "source": [
    "#### **Key Takeaways** \n",
    "\n",
    "A key takeaway from the logistic regression modeling is that the model performed well with an accuracy of 80.2% on the test data. However, the slightly higher number of false positives indicates room for improvement. To enhance performance, I could explore interaction effects, consider additional covariates, or perform further feature engineering, such as creating new features or tuning hyperparameters. Alternatively, as previously mentioned, I could incorporate other fields and transition to a multiple logistic regression model. These adjustments could help reduce false positives and refine the model's predictions of customer satisfaction."
   ]
  },
  {
   "cell_type": "markdown",
   "id": "11616574",
   "metadata": {},
   "source": [
    "#### **Key Findings to Share with the Data Team**\n",
    "\n",
    "I would share that the logistic regression model performed fairly well, with an accuracy of 80.2% in predicting customer satisfaction.  \n",
    "\n",
    "Additionally, the confusion matrix revealed a balanced number of true positives and true negatives, indicating that the model is making reliable predictions overall. However, the presence of false positives suggests that further refinement, such as incorporating additional features or tuning hyperparameters, could enhance performance."
   ]
  },
  {
   "cell_type": "markdown",
   "id": "84571568",
   "metadata": {},
   "source": [
    "#### **Recommendations for Stakeholders**\n",
    "\n",
    "I would recommend sharing key insights derived from the model's performance and its implications for improving customer satisfaction.  \n",
    "\n",
    "* Customers who rated in-flight entertainment highly were more likely to be satisfied. Enhancing in-flight entertainment offerings could improve overall customer satisfaction.  \n",
    "* The model achieved an accuracy of 80.2%, a significant improvement over the dataset's baseline satisfaction rate of 54.7%.  \n",
    "* The confusion matrix provides valuable insights into prediction accuracy, particularly regarding false positives and false negatives, which should be considered when making business decisions.  \n",
    "* Given the model’s success, further investment in model development is advisable. Exploring additional independent variables may improve predictive power and provide deeper insights into factors influencing customer satisfaction.  "
   ]
  },
  {
   "cell_type": "markdown",
   "id": "e3affdca",
   "metadata": {},
   "source": [
    "## **Conclusion**\n",
    "\n",
    "The binomial logistic regression model successfully predicted customer satisfaction with an accuracy of **80.2%**, significantly outperforming the dataset’s baseline of **54.7%**. A key finding was the strong positive association between **in-flight entertainment ratings** and overall satisfaction—suggesting that improvements in this area could meaningfully elevate the customer experience.  \n",
    "\n",
    "While the model shows promise, the presence of **false positives** indicates room for enhancement. Refinements such as additional features, feature engineering, or hyperparameter tuning may further boost performance.  \n",
    "\n",
    "Next, I will explore a **decision tree model** to evaluate whether it can outperform logistic regression in predicting customer satisfaction. This comparison will rely on key metrics—**accuracy, precision, recall, and F1-score**—to assess the decision tree’s effectiveness and its potential to support more accurate and actionable business insights for Invistico Airlines."
   ]
  },
  {
   "cell_type": "markdown",
   "id": "ba63c862",
   "metadata": {},
   "source": [
    "# Modeling Approach B: Decision Tree Model"
   ]
  },
  {
   "cell_type": "markdown",
   "id": "3057381b",
   "metadata": {},
   "source": [
    "## **Introduction**\n",
    "\n",
    "In this **Modeling Approach B Stage**, I will transition to using a **decision tree model** to predict customer satisfaction at Invistico Airlines. The goal of this stage is to build, evaluate, and validate a decision tree model that can predict whether a customer will be satisfied with their flight experience based on multiple key features. This model offers a more visual and intuitive form of interpretability than logistic regression, clearly illustrating how feature splits lead to predictions and highlighting the relative importance of each feature in determining customer satisfaction. It will also serve as a foundation for assessing potential performance improvements compared to the binomial logistic regression model previously constructed.\n",
    "\n",
    "### **Task**\n",
    "\n",
    "In this phase, I will develop and assess a **decision tree model** using multiple independent variables to predict customer satisfaction. The process will involve importing necessary packages, exploring the data, conducting data cleaning, and fitting the decision tree model. Additionally, I will perform hyperparameter tuning using **GridSearchCV** to optimize the model’s performance. The model will then be evaluated using a **confusion matrix** and various other plots to assess the quality of the predictions and understand the model’s strengths and weaknesses."
   ]
  },
  {
   "cell_type": "markdown",
   "id": "8c687546",
   "metadata": {},
   "source": [
    "### **Overview**\n",
    "\n",
    "In this **Modeling Approach B Stage**, I will demonstrate my ability to implement, interpret, and evaluate a decision tree model while following industry-standard best practices in data preparation, model fitting, and performance evaluation. The primary focus will be on delivering an interpretable and performance-oriented model that can be used to identify the most important factors influencing customer satisfaction. All steps, decisions, and justifications will be clearly documented to ensure transparency and reproducibility. This decision tree model will serve as a valuable reference for future model comparison and will be used as a benchmark for assessing potential improvements in model performance through further refinement.\n",
    "\n",
    "### **Project Background**\n",
    "\n",
    "**Invistico Airlines’ data team** is progressing into the next stage of the **customer satisfaction prediction project**. \n",
    "\n",
    "This stage will focus on building a **decision tree model** to predict customer satisfaction based on multiple features, including **flight distance, class, and inflight entertainment**. The decision tree model will provide important insights into which features most significantly influence customer satisfaction, offering a clear and actionable way to inform airline service improvements. Starting with this model will set the stage for further evaluation and comparison with other predictive models in the future, supporting the overall goal of enhancing customer satisfaction at Invistico Airlines."
   ]
  },
  {
   "cell_type": "markdown",
   "id": "c776ee4b",
   "metadata": {},
   "source": [
    "### **Libraries and Packages Used in This Modeling Approach B Stage**\n",
    "\n",
    "- **Standard operational packages**:\n",
    "  - **Pandas** — for structured data manipulation, preparation, and analysis.\n",
    "  - **NumPy** — for efficient numerical operations and array handling.\n",
    "\n",
    "- **Key packages for modeling and evaluation**:\n",
    "  - **scikit-learn’s `model_selection` module** — for splitting data into training and testing sets with `train_test_split`, and performing hyperparameter tuning with `GridSearchCV`.\n",
    "  - **scikit-learn’s `tree` module** — for building and visualizing decision tree models using `DecisionTreeClassifier` and `plot_tree`.\n",
    "  - **scikit-learn’s `metrics` module** — for assessing model performance through metrics like accuracy, precision, recall, F1 score, and confusion matrices.\n",
    "\n",
    "- **Visualization libraries**:\n",
    "  - **Matplotlib** — for creating static and interactive plots.\n",
    "  - **Seaborn** — for producing attractive, statistically rich visualizations built on Matplotlib."
   ]
  },
  {
   "cell_type": "markdown",
   "id": "2137172d",
   "metadata": {},
   "source": [
    "### Data exploration, data cleaning, and model preparation\n",
    "\n",
    "#### **Prepare the data**\n",
    "\n",
    "After loading the dataset, I prepare the data to be suitable for decision tree classifiers.\n",
    "\n",
    "*   Encoding the data\n",
    "*   Renaming a column\n",
    "*   Creating the training and testing data"
   ]
  },
  {
   "cell_type": "markdown",
   "id": "3a44c486",
   "metadata": {},
   "source": [
    "### Output unique values \n",
    "\n",
    "The `Class` column is ordinal (meaning there is an inherent order that is significant). For example, airlines typically charge more for 'Business' than 'Eco Plus' and 'Eco'. Output the unique values in the `Class` column. "
   ]
  },
  {
   "cell_type": "code",
   "execution_count": 34,
   "id": "8538b60d",
   "metadata": {},
   "outputs": [
    {
     "data": {
      "text/plain": [
       "array(['Eco', 'Business', 'Eco Plus'], dtype=object)"
      ]
     },
     "execution_count": 34,
     "metadata": {},
     "output_type": "execute_result"
    }
   ],
   "source": [
    "airline_df[\"Class\"].unique()"
   ]
  },
  {
   "cell_type": "code",
   "execution_count": 35,
   "id": "79580483",
   "metadata": {},
   "outputs": [],
   "source": [
    "airline_df_subset1 = airline_df.dropna(axis=0).reset_index(drop = True)"
   ]
  },
  {
   "cell_type": "markdown",
   "id": "16ff70a0",
   "metadata": {},
   "source": [
    "### Encode the data\n",
    "\n",
    "Four columns (`satisfaction`, `Customer Type`, `Type of Travel`, `Class`) are the pandas dtype object. Decision trees need numeric columns. Start by converting the ordinal `Class` column into numeric. "
   ]
  },
  {
   "cell_type": "code",
   "execution_count": 36,
   "id": "72e2b73c",
   "metadata": {},
   "outputs": [],
   "source": [
    "airline_df_subset1['Class'] = airline_df_subset1['Class'].map({\"Business\": 3, \"Eco Plus\": 2, \"Eco\": 1}) "
   ]
  },
  {
   "cell_type": "markdown",
   "id": "c22328c6",
   "metadata": {},
   "source": [
    "### Represent the data in the target variable numerically\n",
    "\n",
    "To represent the data in the target variable numerically, I assigned `\"satisfied\"` to the label `1` and `\"dissatisfied\"` to the label `0` in the `satisfaction` column."
   ]
  },
  {
   "cell_type": "code",
   "execution_count": 37,
   "id": "a51f0d60",
   "metadata": {},
   "outputs": [],
   "source": [
    "airline_df_subset1['satisfaction'] = airline_df_subset1['satisfaction'].map({\"satisfied\": 1, \"dissatisfied\": 0})"
   ]
  },
  {
   "cell_type": "code",
   "execution_count": 38,
   "id": "86535da8",
   "metadata": {},
   "outputs": [
    {
     "data": {
      "text/html": [
       "<div>\n",
       "<style scoped>\n",
       "    .dataframe tbody tr th:only-of-type {\n",
       "        vertical-align: middle;\n",
       "    }\n",
       "\n",
       "    .dataframe tbody tr th {\n",
       "        vertical-align: top;\n",
       "    }\n",
       "\n",
       "    .dataframe thead th {\n",
       "        text-align: right;\n",
       "    }\n",
       "</style>\n",
       "<table border=\"1\" class=\"dataframe\">\n",
       "  <thead>\n",
       "    <tr style=\"text-align: right;\">\n",
       "      <th></th>\n",
       "      <th>satisfaction</th>\n",
       "      <th>Customer Type</th>\n",
       "      <th>Age</th>\n",
       "      <th>Type of Travel</th>\n",
       "      <th>Class</th>\n",
       "      <th>Flight Distance</th>\n",
       "      <th>Seat comfort</th>\n",
       "      <th>Departure/Arrival time convenient</th>\n",
       "      <th>Food and drink</th>\n",
       "      <th>Gate location</th>\n",
       "      <th>...</th>\n",
       "      <th>Online support</th>\n",
       "      <th>Ease of Online booking</th>\n",
       "      <th>On-board service</th>\n",
       "      <th>Leg room service</th>\n",
       "      <th>Baggage handling</th>\n",
       "      <th>Checkin service</th>\n",
       "      <th>Cleanliness</th>\n",
       "      <th>Online boarding</th>\n",
       "      <th>Departure Delay in Minutes</th>\n",
       "      <th>Arrival Delay in Minutes</th>\n",
       "    </tr>\n",
       "  </thead>\n",
       "  <tbody>\n",
       "    <tr>\n",
       "      <th>0</th>\n",
       "      <td>1</td>\n",
       "      <td>Loyal Customer</td>\n",
       "      <td>65</td>\n",
       "      <td>Personal Travel</td>\n",
       "      <td>1</td>\n",
       "      <td>265</td>\n",
       "      <td>0</td>\n",
       "      <td>0</td>\n",
       "      <td>0</td>\n",
       "      <td>2</td>\n",
       "      <td>...</td>\n",
       "      <td>2</td>\n",
       "      <td>3</td>\n",
       "      <td>3</td>\n",
       "      <td>0</td>\n",
       "      <td>3</td>\n",
       "      <td>5</td>\n",
       "      <td>3</td>\n",
       "      <td>2</td>\n",
       "      <td>0</td>\n",
       "      <td>0.0</td>\n",
       "    </tr>\n",
       "    <tr>\n",
       "      <th>1</th>\n",
       "      <td>1</td>\n",
       "      <td>Loyal Customer</td>\n",
       "      <td>47</td>\n",
       "      <td>Personal Travel</td>\n",
       "      <td>3</td>\n",
       "      <td>2464</td>\n",
       "      <td>0</td>\n",
       "      <td>0</td>\n",
       "      <td>0</td>\n",
       "      <td>3</td>\n",
       "      <td>...</td>\n",
       "      <td>2</td>\n",
       "      <td>3</td>\n",
       "      <td>4</td>\n",
       "      <td>4</td>\n",
       "      <td>4</td>\n",
       "      <td>2</td>\n",
       "      <td>3</td>\n",
       "      <td>2</td>\n",
       "      <td>310</td>\n",
       "      <td>305.0</td>\n",
       "    </tr>\n",
       "    <tr>\n",
       "      <th>2</th>\n",
       "      <td>1</td>\n",
       "      <td>Loyal Customer</td>\n",
       "      <td>15</td>\n",
       "      <td>Personal Travel</td>\n",
       "      <td>1</td>\n",
       "      <td>2138</td>\n",
       "      <td>0</td>\n",
       "      <td>0</td>\n",
       "      <td>0</td>\n",
       "      <td>3</td>\n",
       "      <td>...</td>\n",
       "      <td>2</td>\n",
       "      <td>2</td>\n",
       "      <td>3</td>\n",
       "      <td>3</td>\n",
       "      <td>4</td>\n",
       "      <td>4</td>\n",
       "      <td>4</td>\n",
       "      <td>2</td>\n",
       "      <td>0</td>\n",
       "      <td>0.0</td>\n",
       "    </tr>\n",
       "    <tr>\n",
       "      <th>3</th>\n",
       "      <td>1</td>\n",
       "      <td>Loyal Customer</td>\n",
       "      <td>60</td>\n",
       "      <td>Personal Travel</td>\n",
       "      <td>1</td>\n",
       "      <td>623</td>\n",
       "      <td>0</td>\n",
       "      <td>0</td>\n",
       "      <td>0</td>\n",
       "      <td>3</td>\n",
       "      <td>...</td>\n",
       "      <td>3</td>\n",
       "      <td>1</td>\n",
       "      <td>1</td>\n",
       "      <td>0</td>\n",
       "      <td>1</td>\n",
       "      <td>4</td>\n",
       "      <td>1</td>\n",
       "      <td>3</td>\n",
       "      <td>0</td>\n",
       "      <td>0.0</td>\n",
       "    </tr>\n",
       "    <tr>\n",
       "      <th>4</th>\n",
       "      <td>1</td>\n",
       "      <td>Loyal Customer</td>\n",
       "      <td>70</td>\n",
       "      <td>Personal Travel</td>\n",
       "      <td>1</td>\n",
       "      <td>354</td>\n",
       "      <td>0</td>\n",
       "      <td>0</td>\n",
       "      <td>0</td>\n",
       "      <td>3</td>\n",
       "      <td>...</td>\n",
       "      <td>4</td>\n",
       "      <td>2</td>\n",
       "      <td>2</td>\n",
       "      <td>0</td>\n",
       "      <td>2</td>\n",
       "      <td>4</td>\n",
       "      <td>2</td>\n",
       "      <td>5</td>\n",
       "      <td>0</td>\n",
       "      <td>0.0</td>\n",
       "    </tr>\n",
       "  </tbody>\n",
       "</table>\n",
       "<p>5 rows × 22 columns</p>\n",
       "</div>"
      ],
      "text/plain": [
       "   satisfaction   Customer Type  Age   Type of Travel  Class  Flight Distance  \\\n",
       "0             1  Loyal Customer   65  Personal Travel      1              265   \n",
       "1             1  Loyal Customer   47  Personal Travel      3             2464   \n",
       "2             1  Loyal Customer   15  Personal Travel      1             2138   \n",
       "3             1  Loyal Customer   60  Personal Travel      1              623   \n",
       "4             1  Loyal Customer   70  Personal Travel      1              354   \n",
       "\n",
       "   Seat comfort  Departure/Arrival time convenient  Food and drink  \\\n",
       "0             0                                  0               0   \n",
       "1             0                                  0               0   \n",
       "2             0                                  0               0   \n",
       "3             0                                  0               0   \n",
       "4             0                                  0               0   \n",
       "\n",
       "   Gate location  ...  Online support  Ease of Online booking  \\\n",
       "0              2  ...               2                       3   \n",
       "1              3  ...               2                       3   \n",
       "2              3  ...               2                       2   \n",
       "3              3  ...               3                       1   \n",
       "4              3  ...               4                       2   \n",
       "\n",
       "   On-board service  Leg room service  Baggage handling  Checkin service  \\\n",
       "0                 3                 0                 3                5   \n",
       "1                 4                 4                 4                2   \n",
       "2                 3                 3                 4                4   \n",
       "3                 1                 0                 1                4   \n",
       "4                 2                 0                 2                4   \n",
       "\n",
       "   Cleanliness  Online boarding  Departure Delay in Minutes  \\\n",
       "0            3                2                           0   \n",
       "1            3                2                         310   \n",
       "2            4                2                           0   \n",
       "3            1                3                           0   \n",
       "4            2                5                           0   \n",
       "\n",
       "   Arrival Delay in Minutes  \n",
       "0                       0.0  \n",
       "1                     305.0  \n",
       "2                       0.0  \n",
       "3                       0.0  \n",
       "4                       0.0  \n",
       "\n",
       "[5 rows x 22 columns]"
      ]
     },
     "execution_count": 38,
     "metadata": {},
     "output_type": "execute_result"
    }
   ],
   "source": [
    "airline_df_subset1.head()"
   ]
  },
  {
   "cell_type": "markdown",
   "id": "272f308d",
   "metadata": {},
   "source": [
    "### Convert categorical columns into numeric\n",
    "\n",
    "There are other columns in the dataset that are still categorical. I will convert categorical columns in the dataset into numeric."
   ]
  },
  {
   "cell_type": "code",
   "execution_count": 39,
   "id": "a0af0a1f",
   "metadata": {},
   "outputs": [],
   "source": [
    "airline_df_subset1 = pd.get_dummies(airline_df_subset1, drop_first = True)"
   ]
  },
  {
   "cell_type": "code",
   "execution_count": 40,
   "id": "0ff4394d",
   "metadata": {},
   "outputs": [
    {
     "data": {
      "text/html": [
       "<div>\n",
       "<style scoped>\n",
       "    .dataframe tbody tr th:only-of-type {\n",
       "        vertical-align: middle;\n",
       "    }\n",
       "\n",
       "    .dataframe tbody tr th {\n",
       "        vertical-align: top;\n",
       "    }\n",
       "\n",
       "    .dataframe thead th {\n",
       "        text-align: right;\n",
       "    }\n",
       "</style>\n",
       "<table border=\"1\" class=\"dataframe\">\n",
       "  <thead>\n",
       "    <tr style=\"text-align: right;\">\n",
       "      <th></th>\n",
       "      <th>satisfaction</th>\n",
       "      <th>Age</th>\n",
       "      <th>Class</th>\n",
       "      <th>Flight Distance</th>\n",
       "      <th>Seat comfort</th>\n",
       "      <th>Departure/Arrival time convenient</th>\n",
       "      <th>Food and drink</th>\n",
       "      <th>Gate location</th>\n",
       "      <th>Inflight wifi service</th>\n",
       "      <th>Inflight entertainment</th>\n",
       "      <th>...</th>\n",
       "      <th>On-board service</th>\n",
       "      <th>Leg room service</th>\n",
       "      <th>Baggage handling</th>\n",
       "      <th>Checkin service</th>\n",
       "      <th>Cleanliness</th>\n",
       "      <th>Online boarding</th>\n",
       "      <th>Departure Delay in Minutes</th>\n",
       "      <th>Arrival Delay in Minutes</th>\n",
       "      <th>Customer Type_disloyal Customer</th>\n",
       "      <th>Type of Travel_Personal Travel</th>\n",
       "    </tr>\n",
       "  </thead>\n",
       "  <tbody>\n",
       "    <tr>\n",
       "      <th>0</th>\n",
       "      <td>1</td>\n",
       "      <td>65</td>\n",
       "      <td>1</td>\n",
       "      <td>265</td>\n",
       "      <td>0</td>\n",
       "      <td>0</td>\n",
       "      <td>0</td>\n",
       "      <td>2</td>\n",
       "      <td>2</td>\n",
       "      <td>4</td>\n",
       "      <td>...</td>\n",
       "      <td>3</td>\n",
       "      <td>0</td>\n",
       "      <td>3</td>\n",
       "      <td>5</td>\n",
       "      <td>3</td>\n",
       "      <td>2</td>\n",
       "      <td>0</td>\n",
       "      <td>0.0</td>\n",
       "      <td>False</td>\n",
       "      <td>True</td>\n",
       "    </tr>\n",
       "    <tr>\n",
       "      <th>1</th>\n",
       "      <td>1</td>\n",
       "      <td>47</td>\n",
       "      <td>3</td>\n",
       "      <td>2464</td>\n",
       "      <td>0</td>\n",
       "      <td>0</td>\n",
       "      <td>0</td>\n",
       "      <td>3</td>\n",
       "      <td>0</td>\n",
       "      <td>2</td>\n",
       "      <td>...</td>\n",
       "      <td>4</td>\n",
       "      <td>4</td>\n",
       "      <td>4</td>\n",
       "      <td>2</td>\n",
       "      <td>3</td>\n",
       "      <td>2</td>\n",
       "      <td>310</td>\n",
       "      <td>305.0</td>\n",
       "      <td>False</td>\n",
       "      <td>True</td>\n",
       "    </tr>\n",
       "    <tr>\n",
       "      <th>2</th>\n",
       "      <td>1</td>\n",
       "      <td>15</td>\n",
       "      <td>1</td>\n",
       "      <td>2138</td>\n",
       "      <td>0</td>\n",
       "      <td>0</td>\n",
       "      <td>0</td>\n",
       "      <td>3</td>\n",
       "      <td>2</td>\n",
       "      <td>0</td>\n",
       "      <td>...</td>\n",
       "      <td>3</td>\n",
       "      <td>3</td>\n",
       "      <td>4</td>\n",
       "      <td>4</td>\n",
       "      <td>4</td>\n",
       "      <td>2</td>\n",
       "      <td>0</td>\n",
       "      <td>0.0</td>\n",
       "      <td>False</td>\n",
       "      <td>True</td>\n",
       "    </tr>\n",
       "    <tr>\n",
       "      <th>3</th>\n",
       "      <td>1</td>\n",
       "      <td>60</td>\n",
       "      <td>1</td>\n",
       "      <td>623</td>\n",
       "      <td>0</td>\n",
       "      <td>0</td>\n",
       "      <td>0</td>\n",
       "      <td>3</td>\n",
       "      <td>3</td>\n",
       "      <td>4</td>\n",
       "      <td>...</td>\n",
       "      <td>1</td>\n",
       "      <td>0</td>\n",
       "      <td>1</td>\n",
       "      <td>4</td>\n",
       "      <td>1</td>\n",
       "      <td>3</td>\n",
       "      <td>0</td>\n",
       "      <td>0.0</td>\n",
       "      <td>False</td>\n",
       "      <td>True</td>\n",
       "    </tr>\n",
       "    <tr>\n",
       "      <th>4</th>\n",
       "      <td>1</td>\n",
       "      <td>70</td>\n",
       "      <td>1</td>\n",
       "      <td>354</td>\n",
       "      <td>0</td>\n",
       "      <td>0</td>\n",
       "      <td>0</td>\n",
       "      <td>3</td>\n",
       "      <td>4</td>\n",
       "      <td>3</td>\n",
       "      <td>...</td>\n",
       "      <td>2</td>\n",
       "      <td>0</td>\n",
       "      <td>2</td>\n",
       "      <td>4</td>\n",
       "      <td>2</td>\n",
       "      <td>5</td>\n",
       "      <td>0</td>\n",
       "      <td>0.0</td>\n",
       "      <td>False</td>\n",
       "      <td>True</td>\n",
       "    </tr>\n",
       "  </tbody>\n",
       "</table>\n",
       "<p>5 rows × 22 columns</p>\n",
       "</div>"
      ],
      "text/plain": [
       "   satisfaction  Age  Class  Flight Distance  Seat comfort  \\\n",
       "0             1   65      1              265             0   \n",
       "1             1   47      3             2464             0   \n",
       "2             1   15      1             2138             0   \n",
       "3             1   60      1              623             0   \n",
       "4             1   70      1              354             0   \n",
       "\n",
       "   Departure/Arrival time convenient  Food and drink  Gate location  \\\n",
       "0                                  0               0              2   \n",
       "1                                  0               0              3   \n",
       "2                                  0               0              3   \n",
       "3                                  0               0              3   \n",
       "4                                  0               0              3   \n",
       "\n",
       "   Inflight wifi service  Inflight entertainment  ...  On-board service  \\\n",
       "0                      2                       4  ...                 3   \n",
       "1                      0                       2  ...                 4   \n",
       "2                      2                       0  ...                 3   \n",
       "3                      3                       4  ...                 1   \n",
       "4                      4                       3  ...                 2   \n",
       "\n",
       "   Leg room service  Baggage handling  Checkin service  Cleanliness  \\\n",
       "0                 0                 3                5            3   \n",
       "1                 4                 4                2            3   \n",
       "2                 3                 4                4            4   \n",
       "3                 0                 1                4            1   \n",
       "4                 0                 2                4            2   \n",
       "\n",
       "   Online boarding  Departure Delay in Minutes  Arrival Delay in Minutes  \\\n",
       "0                2                           0                       0.0   \n",
       "1                2                         310                     305.0   \n",
       "2                2                           0                       0.0   \n",
       "3                3                           0                       0.0   \n",
       "4                5                           0                       0.0   \n",
       "\n",
       "   Customer Type_disloyal Customer  Type of Travel_Personal Travel  \n",
       "0                            False                            True  \n",
       "1                            False                            True  \n",
       "2                            False                            True  \n",
       "3                            False                            True  \n",
       "4                            False                            True  \n",
       "\n",
       "[5 rows x 22 columns]"
      ]
     },
     "execution_count": 40,
     "metadata": {},
     "output_type": "execute_result"
    }
   ],
   "source": [
    "airline_df_subset1.head()"
   ]
  },
  {
   "cell_type": "markdown",
   "id": "8d2d236e",
   "metadata": {},
   "source": [
    "### Check column data types\n",
    "\n",
    "Now that I have converted categorical columns into numeric, I will check the column data types."
   ]
  },
  {
   "cell_type": "code",
   "execution_count": 41,
   "id": "d578ee7c",
   "metadata": {},
   "outputs": [
    {
     "data": {
      "text/plain": [
       "satisfaction                           int64\n",
       "Age                                    int64\n",
       "Class                                  int64\n",
       "Flight Distance                        int64\n",
       "Seat comfort                           int64\n",
       "Departure/Arrival time convenient      int64\n",
       "Food and drink                         int64\n",
       "Gate location                          int64\n",
       "Inflight wifi service                  int64\n",
       "Inflight entertainment                 int64\n",
       "Online support                         int64\n",
       "Ease of Online booking                 int64\n",
       "On-board service                       int64\n",
       "Leg room service                       int64\n",
       "Baggage handling                       int64\n",
       "Checkin service                        int64\n",
       "Cleanliness                            int64\n",
       "Online boarding                        int64\n",
       "Departure Delay in Minutes             int64\n",
       "Arrival Delay in Minutes             float64\n",
       "Customer Type_disloyal Customer         bool\n",
       "Type of Travel_Personal Travel          bool\n",
       "dtype: object"
      ]
     },
     "execution_count": 41,
     "metadata": {},
     "output_type": "execute_result"
    }
   ],
   "source": [
    "airline_df_subset1.dtypes"
   ]
  },
  {
   "cell_type": "markdown",
   "id": "21046b4a",
   "metadata": {},
   "source": [
    "#### **Assumption Check for Decision Tree Model**\n",
    "\n",
    "**For the Decision Tree model**, I ensured that key assumptions were appropriately addressed. Decision trees do **not require assumptions of linearity, normality, or homoscedasticity**, allowing me to work directly with the raw data without transformations. Additionally, decision trees are unaffected by multicollinearity, enabling correlated features to remain in the model without impacting performance.\n",
    "\n",
    "To uphold data integrity, I confirmed that each observation represented an independent passenger survey response, satisfying the assumption of independent observations. Additionally, decision trees are generally **robust to outliers**, and no feature scaling was needed, as splits are based on decision rules rather than numerical distances. The model was developed without violating any core assumptions, ensuring reliable predictive performance."
   ]
  },
  {
   "cell_type": "markdown",
   "id": "7c675b2c",
   "metadata": {},
   "source": [
    "### Create the training and testing data\n",
    "\n",
    "I will put 75% of the data into a training set and the remaining 25% into a testing set."
   ]
  },
  {
   "cell_type": "code",
   "execution_count": 42,
   "id": "197f565c",
   "metadata": {},
   "outputs": [],
   "source": [
    "y = airline_df_subset1[\"satisfaction\"]\n",
    "\n",
    "X = airline_df_subset1.copy()\n",
    "X = X.drop(\"satisfaction\", axis = 1)\n",
    "\n",
    "X_train, X_test, y_train, y_test = train_test_split(X, y, test_size=0.25, random_state=0)"
   ]
  },
  {
   "cell_type": "markdown",
   "id": "cd8621a3",
   "metadata": {},
   "source": [
    "## Model building"
   ]
  },
  {
   "cell_type": "markdown",
   "id": "e435288d",
   "metadata": {},
   "source": [
    "### Fit a decision tree classifier model to the data\n",
    "\n",
    "I will make a decision tree instance called `decision_tree` and pass in `0` to the `random_state` parameter. Then, I will fit the model on the training set, use the `predict()` function on the testing set, and assign those predictions to the variable `y_pred`."
   ]
  },
  {
   "cell_type": "code",
   "execution_count": 43,
   "id": "d383a9ec",
   "metadata": {},
   "outputs": [],
   "source": [
    "# airline_dt = DecisionTreeClassifier(random_state=0)\n",
    "\n",
    "# airline_dt.fit(X_train, y_train)"
   ]
  },
  {
   "cell_type": "markdown",
   "id": "a013e293",
   "metadata": {},
   "source": [
    "I use the functions defined previously to save the model in a pickle file and then read it in."
   ]
  },
  {
   "cell_type": "code",
   "execution_count": 44,
   "id": "3cecdc7b",
   "metadata": {},
   "outputs": [],
   "source": [
    "# write_pickle(path, airline_dt, 'airline_dt')"
   ]
  },
  {
   "cell_type": "code",
   "execution_count": 45,
   "id": "a41808e1",
   "metadata": {},
   "outputs": [],
   "source": [
    "airline_dt = read_pickle(path, 'airline_dt')"
   ]
  },
  {
   "cell_type": "markdown",
   "id": "aece03d5",
   "metadata": {},
   "source": [
    "#### **Advantages of Decision Trees Over Other Models**\n",
    "\n",
    "Decision trees offer several advantages over other models:\n",
    "\n",
    "- **No need for standardization/normalization**: They work with raw data without requiring feature scaling.\n",
    "- **Handles non-linearity**: Decision trees can capture complex, non-linear relationships between features and the target variable.\n",
    "- **Robust to multicollinearity**: Unlike linear models, decision trees do not assume feature independence and can still perform well with correlated data.\n",
    "- **Automatic feature selection**: Irrelevant features are naturally ignored if they do not contribute to better splits.\n",
    "- **Less sensitive to outliers**: Since splits are based on decision rules rather than numerical distance, extreme values have minimal impact."
   ]
  },
  {
   "cell_type": "markdown",
   "id": "fb3e2d09",
   "metadata": {},
   "source": [
    "## Results and evaluation"
   ]
  },
  {
   "cell_type": "markdown",
   "id": "6df8badc",
   "metadata": {},
   "source": [
    "### Predict the outcome for the test dataset\n",
    "\n",
    "I input the holdout dataset into the `predict` function to get the predicted labels from the model and saved these predictions as a variable called `y_pred`."
   ]
  },
  {
   "cell_type": "code",
   "execution_count": 46,
   "id": "3732e9e9",
   "metadata": {},
   "outputs": [],
   "source": [
    "y_pred = airline_dt.predict(X_test)"
   ]
  },
  {
   "cell_type": "markdown",
   "id": "7547355b",
   "metadata": {},
   "source": [
    "### Print out `y_pred`\n",
    "\n",
    "I printed out `y_pred` to examine the predictions."
   ]
  },
  {
   "cell_type": "code",
   "execution_count": 47,
   "id": "428dbc58",
   "metadata": {},
   "outputs": [
    {
     "name": "stdout",
     "output_type": "stream",
     "text": [
      "[0 1 0 ... 1 1 0]\n"
     ]
    }
   ],
   "source": [
    "print(y_pred)"
   ]
  },
  {
   "cell_type": "markdown",
   "id": "97b307c1",
   "metadata": {},
   "source": [
    "I printed out the model's accuracy, precision, recall, and F1 score to evaluate its performance on the test data."
   ]
  },
  {
   "cell_type": "code",
   "execution_count": 48,
   "id": "98038f32",
   "metadata": {},
   "outputs": [
    {
     "name": "stdout",
     "output_type": "stream",
     "text": [
      "Decision Tree\n",
      "Accuracy: 0.935438\n",
      "Precision: 0.942859\n",
      "Recall: 0.939030\n",
      "F1 Score: 0.940940\n"
     ]
    }
   ],
   "source": [
    "print(\"Decision Tree\")\n",
    "print(\"Accuracy:\", \"%.6f\" % metrics.accuracy_score(y_test, y_pred))\n",
    "print(\"Precision:\", \"%.6f\" % metrics.precision_score(y_test, y_pred))\n",
    "print(\"Recall:\", \"%.6f\" % metrics.recall_score(y_test, y_pred))\n",
    "print(\"F1 Score:\", \"%.6f\" % metrics.f1_score(y_test, y_pred))"
   ]
  },
  {
   "cell_type": "markdown",
   "id": "6cffe42b",
   "metadata": {},
   "source": [
    "The decision tree model shows a significant improvement in predictive performance compared to the logistic regression model:\n",
    "\n",
    "- The **accuracy** of **93.54%** indicates that the model correctly classified more than 93% of customers, demonstrating a high overall effectiveness.\n",
    "- A **precision** of **94.29%** means that when the model predicts a customer is satisfied, it is correct over 94% of the time—highlighting a very low false positive rate.\n",
    "- The **recall** of **93.90%** suggests that the model is highly effective at identifying truly satisfied customers, with only a small number being incorrectly classified as dissatisfied.\n",
    "- The **F1 Score** of **94.09%** reflects a strong balance between precision and recall, reinforcing the model's capability to handle both types of classification errors with high reliability."
   ]
  },
  {
   "cell_type": "markdown",
   "id": "e392ae76",
   "metadata": {},
   "source": [
    "#### **Additional Steps to Improve Decision Tree Performance**\n",
    "\n",
    "To improve the performance of a decision tree:\n",
    "\n",
    "- **Hyperparameter tuning**: Optimizing parameters like `max_depth`, `min_samples_split`, and `min_samples_leaf` can help balance bias and variance.\n",
    "- **Pruning**: Techniques like pre-pruning (limiting depth, minimum samples per leaf) or post-pruning (removing weak branches) prevent overfitting.\n",
    "- **Ensemble methods**: Using techniques like bagging (Random Forest) or boosting (XGBoost) can improve stability and accuracy.\n",
    "- **Feature selection**: Removing irrelevant or redundant features can enhance model interpretability and reduce complexity."
   ]
  },
  {
   "cell_type": "markdown",
   "id": "cb28521e",
   "metadata": {},
   "source": [
    "### Produce a confusion matrix\n",
    "\n",
    "Data professionals often like to know the types of errors made by an algorithm. To obtain this information, I produce a confusion matrix."
   ]
  },
  {
   "cell_type": "code",
   "execution_count": 49,
   "id": "8168323d",
   "metadata": {},
   "outputs": [
    {
     "data": {
      "image/png": "[encoded data removed]",
      "text/plain": [
       "<Figure size 640x480 with 2 Axes>"
      ]
     },
     "metadata": {},
     "output_type": "display_data"
    }
   ],
   "source": [
    "cm = metrics.confusion_matrix(y_test, y_pred, labels = airline_dt.classes_)\n",
    "disp = metrics.ConfusionMatrixDisplay(confusion_matrix = cm,display_labels = airline_dt.classes_)\n",
    "disp.plot()\n",
    "plt.show()"
   ]
  },
  {
   "cell_type": "markdown",
   "id": "574b0054",
   "metadata": {},
   "source": [
    "#### **Insights from the Confusion Matrix: Model Performance and Misclassification Patterns**\n",
    "\n",
    "The **confusion matrix** above visualizes the classification model's performance by breaking down predictions into four categories:\n",
    "\n",
    "- **True Positives (bottom-right | 16,649):** Customers who were truly **satisfied** and were correctly predicted by the model as satisfied.\n",
    "- **True Negatives (upper-left | 13,633):** Customers who were truly **dissatisfied** and were correctly predicted by the model as dissatisfied.  \n",
    "- **False Positives (upper-right | 1,009):** Customers who were actually **dissatisfied** but were incorrectly predicted by the model as **satisfied**.  \n",
    "- **False Negatives (bottom-left | 1,081):** Customers who were actually **satisfied** but were incorrectly predicted by the model as **dissatisfied**.  \n",
    "\n",
    "**Observations:**\n",
    "\n",
    "- The high number of TPs and TNs suggests strong overall model accuracy.  \n",
    "- Low FP and FN values indicate the model balances precision and recall well.  \n",
    "- Depending on the application, minimizing FN or FP might be more critical. For example, in customer retention strategies, reducing FN (incorrectly predicting dissatisfaction) could be more important.  "
   ]
  },
  {
   "cell_type": "markdown",
   "id": "5587f8a3",
   "metadata": {},
   "source": [
    "### Plot the decision tree\n",
    "\n",
    "I will examine the decision tree using the `plot_tree` function to produce a visual representation of the tree and pinpoint where the splits in the data are occurring."
   ]
  },
  {
   "cell_type": "code",
   "execution_count": 50,
   "id": "bda77961",
   "metadata": {},
   "outputs": [
    {
     "data": {
      "image/png": "[encoded data removed]",
      "text/plain": [
       "<Figure size 2000x1200 with 1 Axes>"
      ]
     },
     "metadata": {},
     "output_type": "display_data"
    }
   ],
   "source": [
    "plt.figure(figsize=(20,12))\n",
    "plot_tree(airline_dt, max_depth=2, fontsize=14, feature_names=X.columns);"
   ]
  },
  {
   "cell_type": "markdown",
   "id": "4dddee6a",
   "metadata": {},
   "source": [
    "### Calculate feature importance\n",
    "\n",
    "The `DecisionTreeClassifier` class comes with a `feature_importances_` attribute that provides access to the features' relative importance in the model. The feature importances are computed when the `fit()` method is called on the `DecisionTreeClassifier` instance. In other words, it's information that is generated during model training. Here's how it works.\n",
    "\n",
    "For each feature used in the tree, the algorithm finds all of the decision nodes that use that particular feature as the split criterion. Then for each of those decision nodes it computes the decrease in Gini impurity (or entropy, or log loss, or whatever metric one selects when they fit the model&mdash;default is Gini impurity) that results from that split (so, the decrease from parent to children). Then the algorithm sums up the decreases across all the decisions made using that feature and expresses it as a percentage of the total decrease that resulted from _all_ features. \n",
    "\n",
    "Here is a simple example of how one can calculate feature importance from a tree diagram. This tree splits 10 samples using two features, X<sub>1</sub> and X<sub>2</sub>:\n",
    "\n",
    "![feature_imp.png](attachment:feature_imp.png)\n",
    "\n",
    "Notice that the reduction in Gini impurity is weighted based on how many samples are in each node. Ultimately, the reduction that results from each feature is normalized (i.e., expressed as a percentage), and this percentage represents the importance of a given feature.\n",
    "\n",
    "This can be interpreted as: X<sub>1</sub> is responsible for 64.3% of the overall reduction of Gini impurity in the model, and X<sub>2</sub> is responsible for 35.7% of the overall reduction of Gini impurity in the model.\n",
    "\n",
    "Using the `feature_importances_` attribute to fetch the relative importances of each feature, I can then plot the results."
   ]
  },
  {
   "cell_type": "code",
   "execution_count": 51,
   "id": "9be94d0e",
   "metadata": {},
   "outputs": [
    {
     "data": {
      "image/png": "[encoded data removed]",
      "text/plain": [
       "<Figure size 640x480 with 1 Axes>"
      ]
     },
     "metadata": {},
     "output_type": "display_data"
    }
   ],
   "source": [
    "importances = airline_dt.feature_importances_\n",
    "\n",
    "forest_importances = pd.Series(importances, index=X.columns).sort_values(ascending=False)\n",
    "\n",
    "fig, ax = plt.subplots()\n",
    "forest_importances.plot.bar(ax=ax);"
   ]
  },
  {
   "cell_type": "markdown",
   "id": "8165a3ff",
   "metadata": {},
   "source": [
    "The feature importance graph seems to confirm that `'Inflight entertainment'`, `'Seat comfort'`, and `'Ease of Online booking'` are the most important features for this model. "
   ]
  },
  {
   "cell_type": "markdown",
   "id": "d211b99b",
   "metadata": {},
   "source": [
    "### Hyperparameter tuning\n",
    "\n",
    "Knowing how and when to adjust or tune a model can help a data professional significantly increase performance. In this section, I will find the best values for the hyperparameters `max_depth` and `min_samples_leaf` using grid search and cross-validation. Below are some values for the hyperparameters `max_depth` and `min_samples_leaf`."
   ]
  },
  {
   "cell_type": "code",
   "execution_count": 52,
   "id": "0512fc71",
   "metadata": {},
   "outputs": [],
   "source": [
    "tree_para = {'max_depth':[1,2,3,4,5,6,7,8,9,10,11,12,13,14,15,16,17,18,19,20,30,40,50],\n",
    "             'min_samples_leaf': [2,3,4,5,6,7,8,9, 10, 15, 20, 50]}\n",
    "\n",
    "scoring = {\n",
    "    'accuracy': 'accuracy',\n",
    "    'precision': 'precision',\n",
    "    'f1': 'f1',\n",
    "    'recall': 'recall'\n",
    "}"
   ]
  },
  {
   "cell_type": "markdown",
   "id": "b9fe5ddb",
   "metadata": {},
   "source": [
    "### Check combinations of values\n",
    "\n",
    "I will check every combination of values to examine which pair has the best evaluation metrics. I’ll make a decision tree instance called `tuned_decision_tree` with `random_state=0`, make a `GridSearchCV` instance called `clf`, make sure to refit the estimator using `\"f1\"`, and fit the model on the training set."
   ]
  },
  {
   "cell_type": "code",
   "execution_count": 53,
   "id": "b53141c7",
   "metadata": {},
   "outputs": [],
   "source": [
    "# base_airline_dt = DecisionTreeClassifier(random_state=0)\n",
    "\n",
    "# tuned_airline_dt = GridSearchCV(\n",
    "#     base_airline_dt, \n",
    "#     tree_para, \n",
    "#     scoring=scoring, \n",
    "#     cv=5, \n",
    "#     refit=\"f1\"  \n",
    "# )\n",
    "\n",
    "# tuned_airline_dt.fit(X_train, y_train)"
   ]
  },
  {
   "cell_type": "code",
   "execution_count": 54,
   "id": "09e6991f",
   "metadata": {},
   "outputs": [],
   "source": [
    "# write_pickle(path, tuned_airline_dt, 'tuned_airline_dt')"
   ]
  },
  {
   "cell_type": "code",
   "execution_count": 55,
   "id": "9ddcb548",
   "metadata": {},
   "outputs": [],
   "source": [
    "tuned_airline_dt = read_pickle(path, 'tuned_airline_dt')"
   ]
  },
  {
   "cell_type": "markdown",
   "id": "73c407c3",
   "metadata": {},
   "source": [
    "#### **Determining the Best Hyperparameter Combination: GridSearchCV and RandomizedSearchCV**\n",
    "\n",
    "The best combination of hyperparameter values can be determined using **GridSearchCV** or **RandomizedSearchCV**. These methods systematically search through different hyperparameter combinations to find the optimal configuration.\n",
    "\n",
    "- **GridSearchCV**: Evaluates all possible combinations of hyperparameters using cross-validation and selects the best based on a chosen metric (e.g., F1-score, accuracy).\n",
    "- **RandomizedSearchCV**: Randomly samples a subset of hyperparameter combinations, which can be more efficient for large search spaces.\n",
    "\n",
    "Once the search is complete, the **best estimator** from GridSearchCV or RandomizedSearchCV provides the optimal model with the best hyperparameters."
   ]
  },
  {
   "cell_type": "markdown",
   "id": "16605aeb",
   "metadata": {},
   "source": [
    "### Compute the best combination of values for the hyperparameters"
   ]
  },
  {
   "cell_type": "code",
   "execution_count": 56,
   "id": "6811954e",
   "metadata": {},
   "outputs": [
    {
     "data": {
      "text/html": [
       "<style>#sk-container-id-1 {\n",
       "  /* Definition of color scheme common for light and dark mode */\n",
       "  --sklearn-color-text: #000;\n",
       "  --sklearn-color-text-muted: #666;\n",
       "  --sklearn-color-line: gray;\n",
       "  /* Definition of color scheme for unfitted estimators */\n",
       "  --sklearn-color-unfitted-level-0: #fff5e6;\n",
       "  --sklearn-color-unfitted-level-1: #f6e4d2;\n",
       "  --sklearn-color-unfitted-level-2: #ffe0b3;\n",
       "  --sklearn-color-unfitted-level-3: chocolate;\n",
       "  /* Definition of color scheme for fitted estimators */\n",
       "  --sklearn-color-fitted-level-0: #f0f8ff;\n",
       "  --sklearn-color-fitted-level-1: #d4ebff;\n",
       "  --sklearn-color-fitted-level-2: #b3dbfd;\n",
       "  --sklearn-color-fitted-level-3: cornflowerblue;\n",
       "\n",
       "  /* Specific color for light theme */\n",
       "  --sklearn-color-text-on-default-background: var(--sg-text-color, var(--theme-code-foreground, var(--jp-content-font-color1, black)));\n",
       "  --sklearn-color-background: var(--sg-background-color, var(--theme-background, var(--jp-layout-color0, white)));\n",
       "  --sklearn-color-border-box: var(--sg-text-color, var(--theme-code-foreground, var(--jp-content-font-color1, black)));\n",
       "  --sklearn-color-icon: #696969;\n",
       "\n",
       "  @media (prefers-color-scheme: dark) {\n",
       "    /* Redefinition of color scheme for dark theme */\n",
       "    --sklearn-color-text-on-default-background: var(--sg-text-color, var(--theme-code-foreground, var(--jp-content-font-color1, white)));\n",
       "    --sklearn-color-background: var(--sg-background-color, var(--theme-background, var(--jp-layout-color0, #111)));\n",
       "    --sklearn-color-border-box: var(--sg-text-color, var(--theme-code-foreground, var(--jp-content-font-color1, white)));\n",
       "    --sklearn-color-icon: #878787;\n",
       "  }\n",
       "}\n",
       "\n",
       "#sk-container-id-1 {\n",
       "  color: var(--sklearn-color-text);\n",
       "}\n",
       "\n",
       "#sk-container-id-1 pre {\n",
       "  padding: 0;\n",
       "}\n",
       "\n",
       "#sk-container-id-1 input.sk-hidden--visually {\n",
       "  border: 0;\n",
       "  clip: rect(1px 1px 1px 1px);\n",
       "  clip: rect(1px, 1px, 1px, 1px);\n",
       "  height: 1px;\n",
       "  margin: -1px;\n",
       "  overflow: hidden;\n",
       "  padding: 0;\n",
       "  position: absolute;\n",
       "  width: 1px;\n",
       "}\n",
       "\n",
       "#sk-container-id-1 div.sk-dashed-wrapped {\n",
       "  border: 1px dashed var(--sklearn-color-line);\n",
       "  margin: 0 0.4em 0.5em 0.4em;\n",
       "  box-sizing: border-box;\n",
       "  padding-bottom: 0.4em;\n",
       "  background-color: var(--sklearn-color-background);\n",
       "}\n",
       "\n",
       "#sk-container-id-1 div.sk-container {\n",
       "  /* jupyter's `normalize.less` sets `[hidden] { display: none; }`\n",
       "     but bootstrap.min.css set `[hidden] { display: none !important; }`\n",
       "     so we also need the `!important` here to be able to override the\n",
       "     default hidden behavior on the sphinx rendered scikit-learn.org.\n",
       "     See: https://github.com/scikit-learn/scikit-learn/issues/21755 */\n",
       "  display: inline-block !important;\n",
       "  position: relative;\n",
       "}\n",
       "\n",
       "#sk-container-id-1 div.sk-text-repr-fallback {\n",
       "  display: none;\n",
       "}\n",
       "\n",
       "div.sk-parallel-item,\n",
       "div.sk-serial,\n",
       "div.sk-item {\n",
       "  /* draw centered vertical line to link estimators */\n",
       "  background-image: linear-gradient(var(--sklearn-color-text-on-default-background), var(--sklearn-color-text-on-default-background));\n",
       "  background-size: 2px 100%;\n",
       "  background-repeat: no-repeat;\n",
       "  background-position: center center;\n",
       "}\n",
       "\n",
       "/* Parallel-specific style estimator block */\n",
       "\n",
       "#sk-container-id-1 div.sk-parallel-item::after {\n",
       "  content: \"\";\n",
       "  width: 100%;\n",
       "  border-bottom: 2px solid var(--sklearn-color-text-on-default-background);\n",
       "  flex-grow: 1;\n",
       "}\n",
       "\n",
       "#sk-container-id-1 div.sk-parallel {\n",
       "  display: flex;\n",
       "  align-items: stretch;\n",
       "  justify-content: center;\n",
       "  background-color: var(--sklearn-color-background);\n",
       "  position: relative;\n",
       "}\n",
       "\n",
       "#sk-container-id-1 div.sk-parallel-item {\n",
       "  display: flex;\n",
       "  flex-direction: column;\n",
       "}\n",
       "\n",
       "#sk-container-id-1 div.sk-parallel-item:first-child::after {\n",
       "  align-self: flex-end;\n",
       "  width: 50%;\n",
       "}\n",
       "\n",
       "#sk-container-id-1 div.sk-parallel-item:last-child::after {\n",
       "  align-self: flex-start;\n",
       "  width: 50%;\n",
       "}\n",
       "\n",
       "#sk-container-id-1 div.sk-parallel-item:only-child::after {\n",
       "  width: 0;\n",
       "}\n",
       "\n",
       "/* Serial-specific style estimator block */\n",
       "\n",
       "#sk-container-id-1 div.sk-serial {\n",
       "  display: flex;\n",
       "  flex-direction: column;\n",
       "  align-items: center;\n",
       "  background-color: var(--sklearn-color-background);\n",
       "  padding-right: 1em;\n",
       "  padding-left: 1em;\n",
       "}\n",
       "\n",
       "\n",
       "/* Toggleable style: style used for estimator/Pipeline/ColumnTransformer box that is\n",
       "clickable and can be expanded/collapsed.\n",
       "- Pipeline and ColumnTransformer use this feature and define the default style\n",
       "- Estimators will overwrite some part of the style using the `sk-estimator` class\n",
       "*/\n",
       "\n",
       "/* Pipeline and ColumnTransformer style (default) */\n",
       "\n",
       "#sk-container-id-1 div.sk-toggleable {\n",
       "  /* Default theme specific background. It is overwritten whether we have a\n",
       "  specific estimator or a Pipeline/ColumnTransformer */\n",
       "  background-color: var(--sklearn-color-background);\n",
       "}\n",
       "\n",
       "/* Toggleable label */\n",
       "#sk-container-id-1 label.sk-toggleable__label {\n",
       "  cursor: pointer;\n",
       "  display: flex;\n",
       "  width: 100%;\n",
       "  margin-bottom: 0;\n",
       "  padding: 0.5em;\n",
       "  box-sizing: border-box;\n",
       "  text-align: center;\n",
       "  align-items: start;\n",
       "  justify-content: space-between;\n",
       "  gap: 0.5em;\n",
       "}\n",
       "\n",
       "#sk-container-id-1 label.sk-toggleable__label .caption {\n",
       "  font-size: 0.6rem;\n",
       "  font-weight: lighter;\n",
       "  color: var(--sklearn-color-text-muted);\n",
       "}\n",
       "\n",
       "#sk-container-id-1 label.sk-toggleable__label-arrow:before {\n",
       "  /* Arrow on the left of the label */\n",
       "  content: \"▸\";\n",
       "  float: left;\n",
       "  margin-right: 0.25em;\n",
       "  color: var(--sklearn-color-icon);\n",
       "}\n",
       "\n",
       "#sk-container-id-1 label.sk-toggleable__label-arrow:hover:before {\n",
       "  color: var(--sklearn-color-text);\n",
       "}\n",
       "\n",
       "/* Toggleable content - dropdown */\n",
       "\n",
       "#sk-container-id-1 div.sk-toggleable__content {\n",
       "  max-height: 0;\n",
       "  max-width: 0;\n",
       "  overflow: hidden;\n",
       "  text-align: left;\n",
       "  /* unfitted */\n",
       "  background-color: var(--sklearn-color-unfitted-level-0);\n",
       "}\n",
       "\n",
       "#sk-container-id-1 div.sk-toggleable__content.fitted {\n",
       "  /* fitted */\n",
       "  background-color: var(--sklearn-color-fitted-level-0);\n",
       "}\n",
       "\n",
       "#sk-container-id-1 div.sk-toggleable__content pre {\n",
       "  margin: 0.2em;\n",
       "  border-radius: 0.25em;\n",
       "  color: var(--sklearn-color-text);\n",
       "  /* unfitted */\n",
       "  background-color: var(--sklearn-color-unfitted-level-0);\n",
       "}\n",
       "\n",
       "#sk-container-id-1 div.sk-toggleable__content.fitted pre {\n",
       "  /* unfitted */\n",
       "  background-color: var(--sklearn-color-fitted-level-0);\n",
       "}\n",
       "\n",
       "#sk-container-id-1 input.sk-toggleable__control:checked~div.sk-toggleable__content {\n",
       "  /* Expand drop-down */\n",
       "  max-height: 200px;\n",
       "  max-width: 100%;\n",
       "  overflow: auto;\n",
       "}\n",
       "\n",
       "#sk-container-id-1 input.sk-toggleable__control:checked~label.sk-toggleable__label-arrow:before {\n",
       "  content: \"▾\";\n",
       "}\n",
       "\n",
       "/* Pipeline/ColumnTransformer-specific style */\n",
       "\n",
       "#sk-container-id-1 div.sk-label input.sk-toggleable__control:checked~label.sk-toggleable__label {\n",
       "  color: var(--sklearn-color-text);\n",
       "  background-color: var(--sklearn-color-unfitted-level-2);\n",
       "}\n",
       "\n",
       "#sk-container-id-1 div.sk-label.fitted input.sk-toggleable__control:checked~label.sk-toggleable__label {\n",
       "  background-color: var(--sklearn-color-fitted-level-2);\n",
       "}\n",
       "\n",
       "/* Estimator-specific style */\n",
       "\n",
       "/* Colorize estimator box */\n",
       "#sk-container-id-1 div.sk-estimator input.sk-toggleable__control:checked~label.sk-toggleable__label {\n",
       "  /* unfitted */\n",
       "  background-color: var(--sklearn-color-unfitted-level-2);\n",
       "}\n",
       "\n",
       "#sk-container-id-1 div.sk-estimator.fitted input.sk-toggleable__control:checked~label.sk-toggleable__label {\n",
       "  /* fitted */\n",
       "  background-color: var(--sklearn-color-fitted-level-2);\n",
       "}\n",
       "\n",
       "#sk-container-id-1 div.sk-label label.sk-toggleable__label,\n",
       "#sk-container-id-1 div.sk-label label {\n",
       "  /* The background is the default theme color */\n",
       "  color: var(--sklearn-color-text-on-default-background);\n",
       "}\n",
       "\n",
       "/* On hover, darken the color of the background */\n",
       "#sk-container-id-1 div.sk-label:hover label.sk-toggleable__label {\n",
       "  color: var(--sklearn-color-text);\n",
       "  background-color: var(--sklearn-color-unfitted-level-2);\n",
       "}\n",
       "\n",
       "/* Label box, darken color on hover, fitted */\n",
       "#sk-container-id-1 div.sk-label.fitted:hover label.sk-toggleable__label.fitted {\n",
       "  color: var(--sklearn-color-text);\n",
       "  background-color: var(--sklearn-color-fitted-level-2);\n",
       "}\n",
       "\n",
       "/* Estimator label */\n",
       "\n",
       "#sk-container-id-1 div.sk-label label {\n",
       "  font-family: monospace;\n",
       "  font-weight: bold;\n",
       "  display: inline-block;\n",
       "  line-height: 1.2em;\n",
       "}\n",
       "\n",
       "#sk-container-id-1 div.sk-label-container {\n",
       "  text-align: center;\n",
       "}\n",
       "\n",
       "/* Estimator-specific */\n",
       "#sk-container-id-1 div.sk-estimator {\n",
       "  font-family: monospace;\n",
       "  border: 1px dotted var(--sklearn-color-border-box);\n",
       "  border-radius: 0.25em;\n",
       "  box-sizing: border-box;\n",
       "  margin-bottom: 0.5em;\n",
       "  /* unfitted */\n",
       "  background-color: var(--sklearn-color-unfitted-level-0);\n",
       "}\n",
       "\n",
       "#sk-container-id-1 div.sk-estimator.fitted {\n",
       "  /* fitted */\n",
       "  background-color: var(--sklearn-color-fitted-level-0);\n",
       "}\n",
       "\n",
       "/* on hover */\n",
       "#sk-container-id-1 div.sk-estimator:hover {\n",
       "  /* unfitted */\n",
       "  background-color: var(--sklearn-color-unfitted-level-2);\n",
       "}\n",
       "\n",
       "#sk-container-id-1 div.sk-estimator.fitted:hover {\n",
       "  /* fitted */\n",
       "  background-color: var(--sklearn-color-fitted-level-2);\n",
       "}\n",
       "\n",
       "/* Specification for estimator info (e.g. \"i\" and \"?\") */\n",
       "\n",
       "/* Common style for \"i\" and \"?\" */\n",
       "\n",
       ".sk-estimator-doc-link,\n",
       "a:link.sk-estimator-doc-link,\n",
       "a:visited.sk-estimator-doc-link {\n",
       "  float: right;\n",
       "  font-size: smaller;\n",
       "  line-height: 1em;\n",
       "  font-family: monospace;\n",
       "  background-color: var(--sklearn-color-background);\n",
       "  border-radius: 1em;\n",
       "  height: 1em;\n",
       "  width: 1em;\n",
       "  text-decoration: none !important;\n",
       "  margin-left: 0.5em;\n",
       "  text-align: center;\n",
       "  /* unfitted */\n",
       "  border: var(--sklearn-color-unfitted-level-1) 1pt solid;\n",
       "  color: var(--sklearn-color-unfitted-level-1);\n",
       "}\n",
       "\n",
       ".sk-estimator-doc-link.fitted,\n",
       "a:link.sk-estimator-doc-link.fitted,\n",
       "a:visited.sk-estimator-doc-link.fitted {\n",
       "  /* fitted */\n",
       "  border: var(--sklearn-color-fitted-level-1) 1pt solid;\n",
       "  color: var(--sklearn-color-fitted-level-1);\n",
       "}\n",
       "\n",
       "/* On hover */\n",
       "div.sk-estimator:hover .sk-estimator-doc-link:hover,\n",
       ".sk-estimator-doc-link:hover,\n",
       "div.sk-label-container:hover .sk-estimator-doc-link:hover,\n",
       ".sk-estimator-doc-link:hover {\n",
       "  /* unfitted */\n",
       "  background-color: var(--sklearn-color-unfitted-level-3);\n",
       "  color: var(--sklearn-color-background);\n",
       "  text-decoration: none;\n",
       "}\n",
       "\n",
       "div.sk-estimator.fitted:hover .sk-estimator-doc-link.fitted:hover,\n",
       ".sk-estimator-doc-link.fitted:hover,\n",
       "div.sk-label-container:hover .sk-estimator-doc-link.fitted:hover,\n",
       ".sk-estimator-doc-link.fitted:hover {\n",
       "  /* fitted */\n",
       "  background-color: var(--sklearn-color-fitted-level-3);\n",
       "  color: var(--sklearn-color-background);\n",
       "  text-decoration: none;\n",
       "}\n",
       "\n",
       "/* Span, style for the box shown on hovering the info icon */\n",
       ".sk-estimator-doc-link span {\n",
       "  display: none;\n",
       "  z-index: 9999;\n",
       "  position: relative;\n",
       "  font-weight: normal;\n",
       "  right: .2ex;\n",
       "  padding: .5ex;\n",
       "  margin: .5ex;\n",
       "  width: min-content;\n",
       "  min-width: 20ex;\n",
       "  max-width: 50ex;\n",
       "  color: var(--sklearn-color-text);\n",
       "  box-shadow: 2pt 2pt 4pt #999;\n",
       "  /* unfitted */\n",
       "  background: var(--sklearn-color-unfitted-level-0);\n",
       "  border: .5pt solid var(--sklearn-color-unfitted-level-3);\n",
       "}\n",
       "\n",
       ".sk-estimator-doc-link.fitted span {\n",
       "  /* fitted */\n",
       "  background: var(--sklearn-color-fitted-level-0);\n",
       "  border: var(--sklearn-color-fitted-level-3);\n",
       "}\n",
       "\n",
       ".sk-estimator-doc-link:hover span {\n",
       "  display: block;\n",
       "}\n",
       "\n",
       "/* \"?\"-specific style due to the `<a>` HTML tag */\n",
       "\n",
       "#sk-container-id-1 a.estimator_doc_link {\n",
       "  float: right;\n",
       "  font-size: 1rem;\n",
       "  line-height: 1em;\n",
       "  font-family: monospace;\n",
       "  background-color: var(--sklearn-color-background);\n",
       "  border-radius: 1rem;\n",
       "  height: 1rem;\n",
       "  width: 1rem;\n",
       "  text-decoration: none;\n",
       "  /* unfitted */\n",
       "  color: var(--sklearn-color-unfitted-level-1);\n",
       "  border: var(--sklearn-color-unfitted-level-1) 1pt solid;\n",
       "}\n",
       "\n",
       "#sk-container-id-1 a.estimator_doc_link.fitted {\n",
       "  /* fitted */\n",
       "  border: var(--sklearn-color-fitted-level-1) 1pt solid;\n",
       "  color: var(--sklearn-color-fitted-level-1);\n",
       "}\n",
       "\n",
       "/* On hover */\n",
       "#sk-container-id-1 a.estimator_doc_link:hover {\n",
       "  /* unfitted */\n",
       "  background-color: var(--sklearn-color-unfitted-level-3);\n",
       "  color: var(--sklearn-color-background);\n",
       "  text-decoration: none;\n",
       "}\n",
       "\n",
       "#sk-container-id-1 a.estimator_doc_link.fitted:hover {\n",
       "  /* fitted */\n",
       "  background-color: var(--sklearn-color-fitted-level-3);\n",
       "}\n",
       "</style><div id=\"sk-container-id-1\" class=\"sk-top-container\"><div class=\"sk-text-repr-fallback\"><pre>DecisionTreeClassifier(max_depth=18, min_samples_leaf=2, random_state=0)</pre><b>In a Jupyter environment, please rerun this cell to show the HTML representation or trust the notebook. <br />On GitHub, the HTML representation is unable to render, please try loading this page with nbviewer.org.</b></div><div class=\"sk-container\" hidden><div class=\"sk-item\"><div class=\"sk-estimator fitted sk-toggleable\"><input class=\"sk-toggleable__control sk-hidden--visually\" id=\"sk-estimator-id-1\" type=\"checkbox\" checked><label for=\"sk-estimator-id-1\" class=\"sk-toggleable__label fitted sk-toggleable__label-arrow\"><div><div>DecisionTreeClassifier</div></div><div><a class=\"sk-estimator-doc-link fitted\" rel=\"noreferrer\" target=\"_blank\" href=\"https://scikit-learn.org/1.6/modules/generated/sklearn.tree.DecisionTreeClassifier.html\">?<span>Documentation for DecisionTreeClassifier</span></a><span class=\"sk-estimator-doc-link fitted\">i<span>Fitted</span></span></div></label><div class=\"sk-toggleable__content fitted\"><pre>DecisionTreeClassifier(max_depth=18, min_samples_leaf=2, random_state=0)</pre></div> </div></div></div></div>"
      ],
      "text/plain": [
       "DecisionTreeClassifier(max_depth=18, min_samples_leaf=2, random_state=0)"
      ]
     },
     "execution_count": 56,
     "metadata": {},
     "output_type": "execute_result"
    }
   ],
   "source": [
    "tuned_airline_dt.best_estimator_"
   ]
  },
  {
   "cell_type": "markdown",
   "id": "f40a0f46",
   "metadata": {},
   "source": [
    "#### **Best Hyperparameter Combination for Decision Tree**  \n",
    "\n",
    "The best combination of hyperparameter values is determined through **GridSearchCV** or **RandomizedSearchCV**. After running the **DecisionTreeClassifier**, the optimal values found are:\n",
    "\n",
    "- **Max Depth**: 18  \n",
    "  Limits how deep the tree can grow, preventing overfitting.  \n",
    "- **Min Samples Split**: 2  \n",
    "  Ensures that a node must have at least two samples before it can be split.\n",
    "\n",
    "These values result in the best-performing model based on the chosen evaluation metric (e.g., F1-score, accuracy)."
   ]
  },
  {
   "cell_type": "markdown",
   "id": "c6e18110",
   "metadata": {},
   "source": [
    "### Determine the best average validation score"
   ]
  },
  {
   "cell_type": "code",
   "execution_count": 57,
   "id": "8f72d1c0",
   "metadata": {},
   "outputs": [
    {
     "name": "stdout",
     "output_type": "stream",
     "text": [
      "Best Avg. Validation Score:  0.9454\n"
     ]
    }
   ],
   "source": [
    "print(f\"Best Avg. Validation Score: {tuned_airline_dt.best_score_: .4f}\")"
   ]
  },
  {
   "cell_type": "markdown",
   "id": "525287e7",
   "metadata": {},
   "source": [
    "#### **Best Average Validation Score Achieved During Cross-Validation**\n",
    "\n",
    "The best average validation score, determined through cross-validation, is **0.9454**.  \n",
    "This indicates that, on average, the model performs well across different validation folds, ensuring it generalizes effectively to unseen data."
   ]
  },
  {
   "cell_type": "markdown",
   "id": "dab5370b",
   "metadata": {},
   "source": [
    "### Determine the \"best\" decision tree model's accuracy, precision, recall, and F1 score\n",
    "\n",
    "I will print out the decision tree model's accuracy, precision, recall, and F1 score. This task can be done in a number of ways."
   ]
  },
  {
   "cell_type": "code",
   "execution_count": 58,
   "id": "00991a75",
   "metadata": {},
   "outputs": [],
   "source": [
    "results = pd.DataFrame(columns=['Model', 'F1', 'Recall', 'Precision', 'Accuracy'])\n",
    "\n",
    "def make_results(model_name, model_object):\n",
    "    \"\"\"\n",
    "    Accepts as arguments a model name (user's choice - string) and\n",
    "    a fit GridSearchCV model object.\n",
    "\n",
    "    Returns a pandas df with the F1, recall, precision, and accuracy scores\n",
    "    for the model with the best mean F1 score across all validation folds.  \n",
    "    \"\"\"\n",
    "\n",
    "    # Get all the results from the CV and put them in a df.\n",
    "    cv_results = pd.DataFrame(model_object.cv_results_)\n",
    "\n",
    "    # Isolate the row of the df with the max(mean f1 score).\n",
    "    best_estimator_results = cv_results.iloc[cv_results['mean_test_f1'].idxmax(), :]\n",
    "\n",
    "    # Extract accuracy, precision, recall, and f1 score from that row.\n",
    "    f1 = best_estimator_results.mean_test_f1\n",
    "    recall = best_estimator_results.mean_test_recall\n",
    "    precision = best_estimator_results.mean_test_precision\n",
    "    accuracy = best_estimator_results.mean_test_accuracy\n",
    "\n",
    " \n",
    "    # Create table of results\n",
    "    table = pd.DataFrame({'Model': [model_name],\n",
    "                          'F1': [f1],\n",
    "                          'Recall': [recall],\n",
    "                          'Precision': [precision],\n",
    "                          'Accuracy': [accuracy]\n",
    "                         }\n",
    "                        )\n",
    "\n",
    "    return table"
   ]
  },
  {
   "cell_type": "code",
   "execution_count": 59,
   "id": "7176c8aa",
   "metadata": {},
   "outputs": [
    {
     "data": {
      "text/html": [
       "<div>\n",
       "<style scoped>\n",
       "    .dataframe tbody tr th:only-of-type {\n",
       "        vertical-align: middle;\n",
       "    }\n",
       "\n",
       "    .dataframe tbody tr th {\n",
       "        vertical-align: top;\n",
       "    }\n",
       "\n",
       "    .dataframe thead th {\n",
       "        text-align: right;\n",
       "    }\n",
       "</style>\n",
       "<table border=\"1\" class=\"dataframe\">\n",
       "  <thead>\n",
       "    <tr style=\"text-align: right;\">\n",
       "      <th></th>\n",
       "      <th>Model</th>\n",
       "      <th>F1</th>\n",
       "      <th>Recall</th>\n",
       "      <th>Precision</th>\n",
       "      <th>Accuracy</th>\n",
       "    </tr>\n",
       "  </thead>\n",
       "  <tbody>\n",
       "    <tr>\n",
       "      <th>0</th>\n",
       "      <td>Tuned Decision Tree</td>\n",
       "      <td>0.945422</td>\n",
       "      <td>0.935863</td>\n",
       "      <td>0.955197</td>\n",
       "      <td>0.940864</td>\n",
       "    </tr>\n",
       "  </tbody>\n",
       "</table>\n",
       "</div>"
      ],
      "text/plain": [
       "                 Model        F1    Recall  Precision  Accuracy\n",
       "0  Tuned Decision Tree  0.945422  0.935863   0.955197  0.940864"
      ]
     },
     "execution_count": 59,
     "metadata": {},
     "output_type": "execute_result"
    }
   ],
   "source": [
    "dt_result_table = make_results(\"Tuned Decision Tree\", tuned_airline_dt)\n",
    "\n",
    "dt_result_table"
   ]
  },
  {
   "cell_type": "markdown",
   "id": "332ede2b",
   "metadata": {},
   "source": [
    "#### **Evaluating the Tradeoff Between Hyperparameter Tuning Performance Gains and Computational Cost**\n",
    "\n",
    "The F1 score improved from **0.9409** to **0.9454** after hyperparameter tuning, indicating a slight performance gain. However, the improvement is marginal, suggesting that the computational cost may not have been fully justified. While tuning helps prevent overfitting, in this case, it did not significantly enhance model performance."
   ]
  },
  {
   "cell_type": "markdown",
   "id": "3b4fd3d7",
   "metadata": {},
   "source": [
    "### Plot the \"best\" decision tree\n",
    "\n",
    "I will use the `plot_tree` function to produce a representation of the tree to pinpoint where the splits in the data are occurring. This will allow me to review the \"best\" decision tree."
   ]
  },
  {
   "cell_type": "code",
   "execution_count": 60,
   "id": "d81612b5",
   "metadata": {},
   "outputs": [
    {
     "data": {
      "image/png": "[encoded data removed]",
      "text/plain": [
       "<Figure size 2000x1200 with 1 Axes>"
      ]
     },
     "metadata": {},
     "output_type": "display_data"
    }
   ],
   "source": [
    "plt.figure(figsize=(20,12))\n",
    "plot_tree(tuned_airline_dt.best_estimator_, max_depth=2, fontsize=14, feature_names=X.columns);"
   ]
  },
  {
   "cell_type": "markdown",
   "id": "09939b54",
   "metadata": {},
   "source": [
    "#### **Key Features Used for Initial Splitting in the Decision Tree**\n",
    "\n",
    "The plot makes it seem like `'Inflight entertainment'`, `'Seat comfort'`, and `'Ease of Online booking'` are among the most important features. The code below outputs a \"most important\" features graph from the model."
   ]
  },
  {
   "cell_type": "markdown",
   "id": "00252239",
   "metadata": {},
   "source": [
    "### Build another feature importance graph\n",
    "\n",
    "I can build another feature importance graph to validate which features are most important."
   ]
  },
  {
   "cell_type": "code",
   "execution_count": 61,
   "id": "8cb896d4",
   "metadata": {},
   "outputs": [
    {
     "data": {
      "image/png": "[encoded data removed]",
      "text/plain": [
       "<Figure size 640x480 with 1 Axes>"
      ]
     },
     "metadata": {},
     "output_type": "display_data"
    }
   ],
   "source": [
    "importances = tuned_airline_dt.best_estimator_.feature_importances_\n",
    "\n",
    "forest_importances = pd.Series(importances, index=X.columns).sort_values(ascending=False)\n",
    "\n",
    "fig, ax = plt.subplots()\n",
    "forest_importances.plot.bar(ax=ax);"
   ]
  },
  {
   "cell_type": "markdown",
   "id": "6c4e6b19",
   "metadata": {},
   "source": [
    "The feature importance graph seems to confirm that `'Inflight entertainment'`, `'Seat comfort'`, and `'Ease of Online booking'` are the \"most important\" features for this model. "
   ]
  },
  {
   "cell_type": "markdown",
   "id": "122d17ca",
   "metadata": {},
   "source": [
    "### Evaluate the model\n",
    "\n",
    "Finally, I will create a table of results to evaluate the performance of the model, including metrics like accuracy, precision, recall, and F1 score."
   ]
  },
  {
   "cell_type": "code",
   "execution_count": 62,
   "id": "1bb5e73e",
   "metadata": {},
   "outputs": [],
   "source": [
    "ps_test = precision_score(y_test, y_pred, pos_label=1)\n",
    "rs_test = recall_score(y_test, y_pred, pos_label=1)\n",
    "f1_test = f1_score(y_test, y_pred, pos_label=1)\n",
    "as_test = accuracy_score(y_test, y_pred)"
   ]
  },
  {
   "cell_type": "code",
   "execution_count": 63,
   "id": "fb4059e7",
   "metadata": {},
   "outputs": [
    {
     "data": {
      "text/html": [
       "<div>\n",
       "<style scoped>\n",
       "    .dataframe tbody tr th:only-of-type {\n",
       "        vertical-align: middle;\n",
       "    }\n",
       "\n",
       "    .dataframe tbody tr th {\n",
       "        vertical-align: top;\n",
       "    }\n",
       "\n",
       "    .dataframe thead th {\n",
       "        text-align: right;\n",
       "    }\n",
       "</style>\n",
       "<table border=\"1\" class=\"dataframe\">\n",
       "  <thead>\n",
       "    <tr style=\"text-align: right;\">\n",
       "      <th></th>\n",
       "      <th>Model</th>\n",
       "      <th>F1</th>\n",
       "      <th>Recall</th>\n",
       "      <th>Precision</th>\n",
       "      <th>Accuracy</th>\n",
       "    </tr>\n",
       "  </thead>\n",
       "  <tbody>\n",
       "    <tr>\n",
       "      <th>0</th>\n",
       "      <td>Logistic Regression</td>\n",
       "      <td>0.818827</td>\n",
       "      <td>0.82153</td>\n",
       "      <td>0.816142</td>\n",
       "      <td>0.801529</td>\n",
       "    </tr>\n",
       "    <tr>\n",
       "      <th>1</th>\n",
       "      <td>Tuned Decision Tree</td>\n",
       "      <td>0.940940</td>\n",
       "      <td>0.93903</td>\n",
       "      <td>0.942859</td>\n",
       "      <td>0.935438</td>\n",
       "    </tr>\n",
       "  </tbody>\n",
       "</table>\n",
       "</div>"
      ],
      "text/plain": [
       "                 Model        F1   Recall  Precision  Accuracy\n",
       "0  Logistic Regression  0.818827  0.82153   0.816142  0.801529\n",
       "1  Tuned Decision Tree  0.940940  0.93903   0.942859  0.935438"
      ]
     },
     "execution_count": 63,
     "metadata": {},
     "output_type": "execute_result"
    }
   ],
   "source": [
    "table = pd.DataFrame({'Model': [\"Logistic Regression\", \"Tuned Decision Tree\"],\n",
    "                        'F1':  [0.818827, f1_test],\n",
    "                        'Recall': [0.821530, rs_test],\n",
    "                        'Precision': [0.816142, ps_test],\n",
    "                        'Accuracy': [0.801529, as_test]\n",
    "                      }\n",
    "                    )\n",
    "table"
   ]
  },
  {
   "cell_type": "markdown",
   "id": "c786a4ed",
   "metadata": {},
   "source": [
    "#### **Comparison of Decision Tree vs. Logistic Regression Model Performance and Trade-Offs**\n",
    "\n",
    "The **Tuned Decision Tree model** clearly outperforms the **Logistic Regression model** across all key evaluation metrics:\n",
    "\n",
    "- **F1-score**:  \n",
    "  - Tuned Decision Tree: **0.9409**  \n",
    "  - Logistic Regression: **0.8188**  \n",
    "  - The Tuned Decision Tree achieves a significantly better balance between precision and recall.\n",
    "\n",
    "- **Recall**:  \n",
    "  - Tuned Decision Tree: **0.9390**  \n",
    "  - Logistic Regression: **0.8215**  \n",
    "  - The Decision Tree captures a higher proportion of true positive cases, indicating better sensitivity.\n",
    "\n",
    "- **Precision**:  \n",
    "  - Tuned Decision Tree: **0.9429**  \n",
    "  - Logistic Regression: **0.8161**  \n",
    "  - With higher precision, the Decision Tree reduces false positives more effectively.\n",
    "\n",
    "- **Accuracy**:  \n",
    "  - Tuned Decision Tree: **0.9354**  \n",
    "  - Logistic Regression: **0.8015**  \n",
    "  - The Decision Tree delivers a substantial improvement in overall prediction correctness.\n",
    "\n",
    "**Key Insights:**  \n",
    "The **Tuned Decision Tree model** substantially outperforms Logistic Regression in all major metrics, making it the more reliable choice for this classification task. Its ability to capture complex patterns likely contributes to its superior performance, though logistic regression might still be considered in scenarios requiring simplicity and interpretability—especially when extended to a **multiple logistic regression** model incorporating several predictor variables."
   ]
  },
  {
   "cell_type": "markdown",
   "id": "5d467069",
   "metadata": {},
   "source": [
    "### Key Metric for Business Case: Balancing Precision and Recall with F1 Score\n",
    "\n",
    "The most important metric depends on the business goal:\n",
    "\n",
    "- **Accuracy**: Easily interpretable for stakeholders but may not be the best choice if the dataset is imbalanced.\n",
    "- **Precision**: Useful if the airline wants to minimize false positives—predicting a customer is satisfied when they are not, which could lead to churn.\n",
    "- **Recall**: Important if the airline wants to avoid false negatives—incorrectly predicting an unsatisfied customer, leading to wasted resources trying to improve their experience unnecessarily.\n",
    "- **F1 Score**: A balanced metric when both precision and recall are important.\n",
    "\n",
    "In this case, **F1 score** might be the most valuable, as it balances both false positives and false negatives."
   ]
  },
  {
   "cell_type": "markdown",
   "id": "d6c1c5f6",
   "metadata": {},
   "source": [
    "#### **Key Takeaways** \n",
    "\n",
    "- **Data Preparation**: Machine learning workflows help clean and encode data to make it suitable for modeling.\n",
    "- **Hyperparameter Tuning**: While tuning can improve performance, the gains may not always be significant.\n",
    "- **Model Interpretation**: Decision tree visualizations and feature importance graphs help identify which features influence predictions the most."
   ]
  },
  {
   "cell_type": "markdown",
   "id": "de16fe79",
   "metadata": {},
   "source": [
    "#### **Key Findings to Share with the Data Team**\n",
    "\n",
    "- **High Model Accuracy**: Decision trees predicted customer satisfaction with over 94% accuracy.\n",
    "- **Confusion Matrix Insights**: The model maintains a good balance between true positives and true negatives.\n",
    "- **Feature Importance**: The most influential factors in customer satisfaction are `'Inflight entertainment'`, `'Seat comfort'`, and `'Ease of Online booking'`, as shown by the decision tree visualization and feature importance graph."
   ]
  },
  {
   "cell_type": "markdown",
   "id": "bb904fda",
   "metadata": {},
   "source": [
    "#### **Recommendations for Stakeholders**\n",
    "\n",
    "- **Enhance Key Features**: Since customer satisfaction is strongly linked to `'Inflight entertainment'`, `'Seat comfort'`, and `'Ease of Online booking'`, investing in these areas is likely to improve overall satisfaction.\n",
    "- **Leverage Predictive Modeling**: The high **precision** and **accuracy** of the decision tree model suggests that data-driven insights can be valuable. Further investment in model development and analysis could enhance customer experience strategies."
   ]
  },
  {
   "cell_type": "markdown",
   "id": "8537a694",
   "metadata": {},
   "source": [
    "## **Conclusion**\n",
    "\n",
    "The **decision tree model** delivered a significant performance boost over the logistic regression model, achieving an impressive **accuracy of 93.54%** and an **F1-score of 94.09%**, indicating a well-balanced model in terms of precision and recall. This high level of predictive performance reinforces the value of data-driven modeling in understanding and anticipating customer satisfaction.\n",
    "\n",
    "The model identified **inflight entertainment**, **seat comfort**, and **ease of online booking** as the most influential factors, offering actionable insights for enhancing the passenger experience. The confusion matrix also confirmed the model’s reliability, with low rates of false positives and false negatives—strengthening confidence in its real-world applicability.\n",
    "\n",
    "While hyperparameter tuning offered marginal gains, the decision tree’s inherent interpretability and strong predictive ability make it a practical tool for strategic decision-making. Looking ahead, exploring **ensemble methods** such as **Random Forest** or **XGBoost** may yield further improvements in performance and provide deeper insights into customer satisfaction dynamics at Invistico Airlines."
   ]
  },
  {
   "cell_type": "markdown",
   "id": "f1162a37",
   "metadata": {},
   "source": [
    "# Modeling Approach C: Random Forest Model"
   ]
  },
  {
   "cell_type": "markdown",
   "id": "9fd3af07",
   "metadata": {},
   "source": [
    "\n",
    "## **Introduction**\n",
    "\n",
    "In this **Modeling Approach C Stage**, I will advance to developing a Random Forest model to predict customer satisfaction at Invistico Airlines. The objective is to develop a high-performing ensemble model that builds upon insights from the previously constructed decision tree. Random Forests are known for reducing variance and overfitting, while also improving generalization by aggregating predictions from multiple decision trees. This approach provides a more robust and accurate solution for handling complex, real-world datasets. Ultimately, this model will help determine whether ensemble learning offers measurable performance improvements over the decision tree model in predicting customer satisfaction.\n",
    "\n",
    "\n",
    "### **Task**\n",
    "\n",
    "In this phase, I will construct and evaluate a **Random Forest model** using multiple independent variables to predict customer satisfaction. The process will begin with preparing the dataset for modeling. Once the data is prepared, I will fit the Random Forest model and conduct **hyperparameter tuning using GridSearchCV** to optimize its performance. The final model will be evaluated using key metrics such as **accuracy, precision, recall, F1-score**, and a **confusion matrix** to assess its overall effectiveness in predicting customer satisfaction."
   ]
  },
  {
   "cell_type": "markdown",
   "id": "8cf12844",
   "metadata": {},
   "source": [
    "### **Overview**\n",
    "\n",
    "This **Modeling Approach C Stage** stage will demonstrate my ability to apply an advanced ensemble technique while adhering to best practices in data analytics. The focus will be on balancing **performance and generalizability** through careful model tuning and validation. The Random Forest model will be used not only to maximize predictive accuracy but also to identify which service-related features (e.g., **flight class, inflight entertainment, seat comfort**) most influence customer satisfaction. All steps and decisions will be clearly documented to maintain transparency and ensure reproducibility for future iterations and comparisons.\n",
    "\n",
    "### **Project Background**\n",
    "\n",
    "The **Invistico Airlines data team** is continuing its efforts to improve **customer satisfaction prediction** by exploring more sophisticated modeling approaches. This stage focuses on implementing a **Random Forest classifier**, an ensemble method designed to outperform individual decision trees by aggregating the predictions of multiple trees. The model will utilize a comprehensive set of features, including **flight distance, travel class, and onboard service ratings**, to provide actionable insights for customer experience strategies. The performance of this model will serve as an important benchmark for potential adoption in real-world airline operations and future enhancements using other ensemble methods such as **XGBoost**."
   ]
  },
  {
   "cell_type": "markdown",
   "id": "caaa66e6",
   "metadata": {},
   "source": [
    "### **Libraries and Packages Used in This Modeling Approach C Stage**\n",
    "\n",
    "- **Standard operational packages**:\n",
    "  - **Pandas** — for managing, cleaning, and analyzing structured data.\n",
    "  - **NumPy** — for numerical operations and efficient array handling.\n",
    "  - **Pickle** — for saving and loading Python objects like trained models for future use.\n",
    "\n",
    "- **Key packages for modeling and evaluation**:\n",
    "  - **scikit-learn’s `ensemble` module** — for constructing ensemble models, specifically using `RandomForestClassifier` to build a robust, multi-tree classification model.\n",
    "  - **scikit-learn’s `model_selection` module** — for splitting data with `train_test_split`, managing custom train-test splits using `PredefinedSplit`, and performing hyperparameter tuning with `GridSearchCV`.\n",
    "  - **scikit-learn’s `metrics` module** — for evaluating model performance through classification metrics like F1 score, precision, recall, and accuracy."
   ]
  },
  {
   "cell_type": "code",
   "execution_count": 64,
   "id": "0750f23c",
   "metadata": {},
   "outputs": [],
   "source": [
    "airline_df_subset2 = airline_df.dropna(axis=0).reset_index(drop = True)"
   ]
  },
  {
   "cell_type": "markdown",
   "id": "e77a84d9",
   "metadata": {},
   "source": [
    "Next, I will convert the categorical features to indicator (one-hot encoded) features. The `drop_first` argument can be kept as default (`False`) during one-hot encoding for random forest models, and the target variable, `satisfaction`, does not need to be encoded and will be extracted in a later step."
   ]
  },
  {
   "cell_type": "code",
   "execution_count": 65,
   "id": "fe51e3f9",
   "metadata": {},
   "outputs": [],
   "source": [
    "airline_df_subset2_dummies = pd.get_dummies   (airline_df_subset2, \n",
    "                                         columns=\n",
    "                                         ['Customer Type','Type of Travel','Class'])"
   ]
  },
  {
   "cell_type": "markdown",
   "id": "6b117f13",
   "metadata": {},
   "source": [
    "#### **Importance of Converting Categorical Data into Dummy Variables for Machine Learning Models**\n",
    "\n",
    "It is necessary to convert categorical data into dummy variables because most machine learning models, including random forests, require numerical input to perform calculations.  \n",
    "\n",
    "Categorical variables contain text-based values (e.g., \"Business\", \"Economy\" for `Class`), which models cannot directly process. One-hot encoding with `pd.get_dummies()` converts each category into a separate binary (0 or 1) column, making the data suitable for model training.  \n",
    "\n",
    "For example, if `Class` has three categories (`Economy`, `Business`, `First`), one-hot encoding creates three new columns (`Class_Economy`, `Class_Business`, `Class_First`), where each row has a 1 in the corresponding category's column and 0s elsewhere.  \n",
    "\n",
    "This transformation ensures categorical features are properly interpreted by the model without introducing incorrect ordinal relationships."
   ]
  },
  {
   "cell_type": "markdown",
   "id": "9fe90c34",
   "metadata": {},
   "source": [
    "Next, I will display the first 10 rows to review the `airline_df_subset2_dummies`."
   ]
  },
  {
   "cell_type": "code",
   "execution_count": 66,
   "id": "7268bffd",
   "metadata": {},
   "outputs": [
    {
     "data": {
      "text/html": [
       "<div>\n",
       "<style scoped>\n",
       "    .dataframe tbody tr th:only-of-type {\n",
       "        vertical-align: middle;\n",
       "    }\n",
       "\n",
       "    .dataframe tbody tr th {\n",
       "        vertical-align: top;\n",
       "    }\n",
       "\n",
       "    .dataframe thead th {\n",
       "        text-align: right;\n",
       "    }\n",
       "</style>\n",
       "<table border=\"1\" class=\"dataframe\">\n",
       "  <thead>\n",
       "    <tr style=\"text-align: right;\">\n",
       "      <th></th>\n",
       "      <th>satisfaction</th>\n",
       "      <th>Age</th>\n",
       "      <th>Flight Distance</th>\n",
       "      <th>Seat comfort</th>\n",
       "      <th>Departure/Arrival time convenient</th>\n",
       "      <th>Food and drink</th>\n",
       "      <th>Gate location</th>\n",
       "      <th>Inflight wifi service</th>\n",
       "      <th>Inflight entertainment</th>\n",
       "      <th>Online support</th>\n",
       "      <th>...</th>\n",
       "      <th>Online boarding</th>\n",
       "      <th>Departure Delay in Minutes</th>\n",
       "      <th>Arrival Delay in Minutes</th>\n",
       "      <th>Customer Type_Loyal Customer</th>\n",
       "      <th>Customer Type_disloyal Customer</th>\n",
       "      <th>Type of Travel_Business travel</th>\n",
       "      <th>Type of Travel_Personal Travel</th>\n",
       "      <th>Class_Business</th>\n",
       "      <th>Class_Eco</th>\n",
       "      <th>Class_Eco Plus</th>\n",
       "    </tr>\n",
       "  </thead>\n",
       "  <tbody>\n",
       "    <tr>\n",
       "      <th>0</th>\n",
       "      <td>satisfied</td>\n",
       "      <td>65</td>\n",
       "      <td>265</td>\n",
       "      <td>0</td>\n",
       "      <td>0</td>\n",
       "      <td>0</td>\n",
       "      <td>2</td>\n",
       "      <td>2</td>\n",
       "      <td>4</td>\n",
       "      <td>2</td>\n",
       "      <td>...</td>\n",
       "      <td>2</td>\n",
       "      <td>0</td>\n",
       "      <td>0.0</td>\n",
       "      <td>True</td>\n",
       "      <td>False</td>\n",
       "      <td>False</td>\n",
       "      <td>True</td>\n",
       "      <td>False</td>\n",
       "      <td>True</td>\n",
       "      <td>False</td>\n",
       "    </tr>\n",
       "    <tr>\n",
       "      <th>1</th>\n",
       "      <td>satisfied</td>\n",
       "      <td>47</td>\n",
       "      <td>2464</td>\n",
       "      <td>0</td>\n",
       "      <td>0</td>\n",
       "      <td>0</td>\n",
       "      <td>3</td>\n",
       "      <td>0</td>\n",
       "      <td>2</td>\n",
       "      <td>2</td>\n",
       "      <td>...</td>\n",
       "      <td>2</td>\n",
       "      <td>310</td>\n",
       "      <td>305.0</td>\n",
       "      <td>True</td>\n",
       "      <td>False</td>\n",
       "      <td>False</td>\n",
       "      <td>True</td>\n",
       "      <td>True</td>\n",
       "      <td>False</td>\n",
       "      <td>False</td>\n",
       "    </tr>\n",
       "    <tr>\n",
       "      <th>2</th>\n",
       "      <td>satisfied</td>\n",
       "      <td>15</td>\n",
       "      <td>2138</td>\n",
       "      <td>0</td>\n",
       "      <td>0</td>\n",
       "      <td>0</td>\n",
       "      <td>3</td>\n",
       "      <td>2</td>\n",
       "      <td>0</td>\n",
       "      <td>2</td>\n",
       "      <td>...</td>\n",
       "      <td>2</td>\n",
       "      <td>0</td>\n",
       "      <td>0.0</td>\n",
       "      <td>True</td>\n",
       "      <td>False</td>\n",
       "      <td>False</td>\n",
       "      <td>True</td>\n",
       "      <td>False</td>\n",
       "      <td>True</td>\n",
       "      <td>False</td>\n",
       "    </tr>\n",
       "    <tr>\n",
       "      <th>3</th>\n",
       "      <td>satisfied</td>\n",
       "      <td>60</td>\n",
       "      <td>623</td>\n",
       "      <td>0</td>\n",
       "      <td>0</td>\n",
       "      <td>0</td>\n",
       "      <td>3</td>\n",
       "      <td>3</td>\n",
       "      <td>4</td>\n",
       "      <td>3</td>\n",
       "      <td>...</td>\n",
       "      <td>3</td>\n",
       "      <td>0</td>\n",
       "      <td>0.0</td>\n",
       "      <td>True</td>\n",
       "      <td>False</td>\n",
       "      <td>False</td>\n",
       "      <td>True</td>\n",
       "      <td>False</td>\n",
       "      <td>True</td>\n",
       "      <td>False</td>\n",
       "    </tr>\n",
       "    <tr>\n",
       "      <th>4</th>\n",
       "      <td>satisfied</td>\n",
       "      <td>70</td>\n",
       "      <td>354</td>\n",
       "      <td>0</td>\n",
       "      <td>0</td>\n",
       "      <td>0</td>\n",
       "      <td>3</td>\n",
       "      <td>4</td>\n",
       "      <td>3</td>\n",
       "      <td>4</td>\n",
       "      <td>...</td>\n",
       "      <td>5</td>\n",
       "      <td>0</td>\n",
       "      <td>0.0</td>\n",
       "      <td>True</td>\n",
       "      <td>False</td>\n",
       "      <td>False</td>\n",
       "      <td>True</td>\n",
       "      <td>False</td>\n",
       "      <td>True</td>\n",
       "      <td>False</td>\n",
       "    </tr>\n",
       "    <tr>\n",
       "      <th>5</th>\n",
       "      <td>satisfied</td>\n",
       "      <td>30</td>\n",
       "      <td>1894</td>\n",
       "      <td>0</td>\n",
       "      <td>0</td>\n",
       "      <td>0</td>\n",
       "      <td>3</td>\n",
       "      <td>2</td>\n",
       "      <td>0</td>\n",
       "      <td>2</td>\n",
       "      <td>...</td>\n",
       "      <td>2</td>\n",
       "      <td>0</td>\n",
       "      <td>0.0</td>\n",
       "      <td>True</td>\n",
       "      <td>False</td>\n",
       "      <td>False</td>\n",
       "      <td>True</td>\n",
       "      <td>False</td>\n",
       "      <td>True</td>\n",
       "      <td>False</td>\n",
       "    </tr>\n",
       "    <tr>\n",
       "      <th>6</th>\n",
       "      <td>satisfied</td>\n",
       "      <td>66</td>\n",
       "      <td>227</td>\n",
       "      <td>0</td>\n",
       "      <td>0</td>\n",
       "      <td>0</td>\n",
       "      <td>3</td>\n",
       "      <td>2</td>\n",
       "      <td>5</td>\n",
       "      <td>5</td>\n",
       "      <td>...</td>\n",
       "      <td>3</td>\n",
       "      <td>17</td>\n",
       "      <td>15.0</td>\n",
       "      <td>True</td>\n",
       "      <td>False</td>\n",
       "      <td>False</td>\n",
       "      <td>True</td>\n",
       "      <td>False</td>\n",
       "      <td>True</td>\n",
       "      <td>False</td>\n",
       "    </tr>\n",
       "    <tr>\n",
       "      <th>7</th>\n",
       "      <td>satisfied</td>\n",
       "      <td>10</td>\n",
       "      <td>1812</td>\n",
       "      <td>0</td>\n",
       "      <td>0</td>\n",
       "      <td>0</td>\n",
       "      <td>3</td>\n",
       "      <td>2</td>\n",
       "      <td>0</td>\n",
       "      <td>2</td>\n",
       "      <td>...</td>\n",
       "      <td>2</td>\n",
       "      <td>0</td>\n",
       "      <td>0.0</td>\n",
       "      <td>True</td>\n",
       "      <td>False</td>\n",
       "      <td>False</td>\n",
       "      <td>True</td>\n",
       "      <td>False</td>\n",
       "      <td>True</td>\n",
       "      <td>False</td>\n",
       "    </tr>\n",
       "    <tr>\n",
       "      <th>8</th>\n",
       "      <td>satisfied</td>\n",
       "      <td>56</td>\n",
       "      <td>73</td>\n",
       "      <td>0</td>\n",
       "      <td>0</td>\n",
       "      <td>0</td>\n",
       "      <td>3</td>\n",
       "      <td>5</td>\n",
       "      <td>3</td>\n",
       "      <td>5</td>\n",
       "      <td>...</td>\n",
       "      <td>4</td>\n",
       "      <td>0</td>\n",
       "      <td>0.0</td>\n",
       "      <td>True</td>\n",
       "      <td>False</td>\n",
       "      <td>False</td>\n",
       "      <td>True</td>\n",
       "      <td>True</td>\n",
       "      <td>False</td>\n",
       "      <td>False</td>\n",
       "    </tr>\n",
       "    <tr>\n",
       "      <th>9</th>\n",
       "      <td>satisfied</td>\n",
       "      <td>22</td>\n",
       "      <td>1556</td>\n",
       "      <td>0</td>\n",
       "      <td>0</td>\n",
       "      <td>0</td>\n",
       "      <td>3</td>\n",
       "      <td>2</td>\n",
       "      <td>0</td>\n",
       "      <td>2</td>\n",
       "      <td>...</td>\n",
       "      <td>2</td>\n",
       "      <td>30</td>\n",
       "      <td>26.0</td>\n",
       "      <td>True</td>\n",
       "      <td>False</td>\n",
       "      <td>False</td>\n",
       "      <td>True</td>\n",
       "      <td>False</td>\n",
       "      <td>True</td>\n",
       "      <td>False</td>\n",
       "    </tr>\n",
       "  </tbody>\n",
       "</table>\n",
       "<p>10 rows × 26 columns</p>\n",
       "</div>"
      ],
      "text/plain": [
       "  satisfaction  Age  Flight Distance  Seat comfort  \\\n",
       "0    satisfied   65              265             0   \n",
       "1    satisfied   47             2464             0   \n",
       "2    satisfied   15             2138             0   \n",
       "3    satisfied   60              623             0   \n",
       "4    satisfied   70              354             0   \n",
       "5    satisfied   30             1894             0   \n",
       "6    satisfied   66              227             0   \n",
       "7    satisfied   10             1812             0   \n",
       "8    satisfied   56               73             0   \n",
       "9    satisfied   22             1556             0   \n",
       "\n",
       "   Departure/Arrival time convenient  Food and drink  Gate location  \\\n",
       "0                                  0               0              2   \n",
       "1                                  0               0              3   \n",
       "2                                  0               0              3   \n",
       "3                                  0               0              3   \n",
       "4                                  0               0              3   \n",
       "5                                  0               0              3   \n",
       "6                                  0               0              3   \n",
       "7                                  0               0              3   \n",
       "8                                  0               0              3   \n",
       "9                                  0               0              3   \n",
       "\n",
       "   Inflight wifi service  Inflight entertainment  Online support  ...  \\\n",
       "0                      2                       4               2  ...   \n",
       "1                      0                       2               2  ...   \n",
       "2                      2                       0               2  ...   \n",
       "3                      3                       4               3  ...   \n",
       "4                      4                       3               4  ...   \n",
       "5                      2                       0               2  ...   \n",
       "6                      2                       5               5  ...   \n",
       "7                      2                       0               2  ...   \n",
       "8                      5                       3               5  ...   \n",
       "9                      2                       0               2  ...   \n",
       "\n",
       "   Online boarding  Departure Delay in Minutes  Arrival Delay in Minutes  \\\n",
       "0                2                           0                       0.0   \n",
       "1                2                         310                     305.0   \n",
       "2                2                           0                       0.0   \n",
       "3                3                           0                       0.0   \n",
       "4                5                           0                       0.0   \n",
       "5                2                           0                       0.0   \n",
       "6                3                          17                      15.0   \n",
       "7                2                           0                       0.0   \n",
       "8                4                           0                       0.0   \n",
       "9                2                          30                      26.0   \n",
       "\n",
       "   Customer Type_Loyal Customer  Customer Type_disloyal Customer  \\\n",
       "0                          True                            False   \n",
       "1                          True                            False   \n",
       "2                          True                            False   \n",
       "3                          True                            False   \n",
       "4                          True                            False   \n",
       "5                          True                            False   \n",
       "6                          True                            False   \n",
       "7                          True                            False   \n",
       "8                          True                            False   \n",
       "9                          True                            False   \n",
       "\n",
       "   Type of Travel_Business travel  Type of Travel_Personal Travel  \\\n",
       "0                           False                            True   \n",
       "1                           False                            True   \n",
       "2                           False                            True   \n",
       "3                           False                            True   \n",
       "4                           False                            True   \n",
       "5                           False                            True   \n",
       "6                           False                            True   \n",
       "7                           False                            True   \n",
       "8                           False                            True   \n",
       "9                           False                            True   \n",
       "\n",
       "   Class_Business  Class_Eco  Class_Eco Plus  \n",
       "0           False       True           False  \n",
       "1            True      False           False  \n",
       "2           False       True           False  \n",
       "3           False       True           False  \n",
       "4           False       True           False  \n",
       "5           False       True           False  \n",
       "6           False       True           False  \n",
       "7           False       True           False  \n",
       "8            True      False           False  \n",
       "9           False       True           False  \n",
       "\n",
       "[10 rows x 26 columns]"
      ]
     },
     "execution_count": 66,
     "metadata": {},
     "output_type": "execute_result"
    }
   ],
   "source": [
    "airline_df_subset2_dummies.head(10)"
   ]
  },
  {
   "cell_type": "markdown",
   "id": "1ea1e7f1",
   "metadata": {},
   "source": [
    "Then, I will check the variables of `airline_df_subset2_dummies`."
   ]
  },
  {
   "cell_type": "code",
   "execution_count": 67,
   "id": "951a4864",
   "metadata": {},
   "outputs": [
    {
     "data": {
      "text/plain": [
       "satisfaction                          object\n",
       "Age                                    int64\n",
       "Flight Distance                        int64\n",
       "Seat comfort                           int64\n",
       "Departure/Arrival time convenient      int64\n",
       "Food and drink                         int64\n",
       "Gate location                          int64\n",
       "Inflight wifi service                  int64\n",
       "Inflight entertainment                 int64\n",
       "Online support                         int64\n",
       "Ease of Online booking                 int64\n",
       "On-board service                       int64\n",
       "Leg room service                       int64\n",
       "Baggage handling                       int64\n",
       "Checkin service                        int64\n",
       "Cleanliness                            int64\n",
       "Online boarding                        int64\n",
       "Departure Delay in Minutes             int64\n",
       "Arrival Delay in Minutes             float64\n",
       "Customer Type_Loyal Customer            bool\n",
       "Customer Type_disloyal Customer         bool\n",
       "Type of Travel_Business travel          bool\n",
       "Type of Travel_Personal Travel          bool\n",
       "Class_Business                          bool\n",
       "Class_Eco                               bool\n",
       "Class_Eco Plus                          bool\n",
       "dtype: object"
      ]
     },
     "execution_count": 67,
     "metadata": {},
     "output_type": "execute_result"
    }
   ],
   "source": [
    "airline_df_subset2_dummies.dtypes"
   ]
  },
  {
   "cell_type": "markdown",
   "id": "2990b72b",
   "metadata": {},
   "source": [
    "#### **Changes After Converting String Data to Dummy Variables**\n",
    "\n",
    "After converting the string (categorical) data to dummy variables, I observe the following changes:  \n",
    "\n",
    "- **New Binary Columns:**  \n",
    "  - Categorical variables (`Customer Type`, `Type of Travel`, and `Class`) have been replaced with multiple binary (0 or 1) columns, representing each category.  \n",
    "  - For example, `Customer Type` is now split into `Customer Type_Loyal Customer` and `Customer Type_disloyal Customer`, where each row has a 1 in the corresponding category's column.  \n",
    "\n",
    "- **Data Type Changes:**  \n",
    "  - The newly created dummy variable columns are now of type `bool` instead of `object`, making them compatible with numerical processing in machine learning models.  \n",
    "\n",
    "- **Original Categorical Variables Removed:**  \n",
    "  - The original string-based categorical columns are no longer in the dataset, as they have been replaced by their corresponding dummy variable columns.  \n",
    "\n",
    "- **Other Columns Remain Unchanged:**  \n",
    "  - Numeric columns (`Age`, `Flight Distance`, `Seat Comfort`, etc.) remain in their original integer (`int64`) or float (`float64`) format.  \n",
    "\n",
    "These changes allow machine learning models to process categorical data effectively without misinterpreting them as ordinal variables."
   ]
  },
  {
   "cell_type": "markdown",
   "id": "1ecb35e4",
   "metadata": {},
   "source": [
    "### Assumption Check for Random Forest Model\n",
    "\n",
    "**For the Random Forest model**, I followed the same foundational principles as decision trees while also considering ensemble-specific aspects. Like decision trees, random forests do **not require assumptions of linearity, normal feature distributions, or multicollinearity** to perform well.  \n",
    "\n",
    "To satisfy the assumption of independent observations—critical for the **bootstrap aggregation (bagging)** process—I confirmed that each record represented a unique passenger. Random forests are **highly robust to outliers**, and no feature scaling was necessary.  \n",
    "\n",
    "I also performed careful **hyperparameter tuning**, adjusting `n_estimators`, `max_depth`, and `min_samples_leaf` to balance model complexity and generalization. This allowed the Random Forest model to perform efficiently and reliably without breaching any key assumptions."
   ]
  },
  {
   "cell_type": "markdown",
   "id": "6ed48973",
   "metadata": {},
   "source": [
    "## Model building"
   ]
  },
  {
   "cell_type": "markdown",
   "id": "56697672",
   "metadata": {},
   "source": [
    "The first step to building the model is separating the labels (y) from the features (X)."
   ]
  },
  {
   "cell_type": "code",
   "execution_count": 68,
   "id": "b43d1a07",
   "metadata": {},
   "outputs": [],
   "source": [
    "y = airline_df_subset2_dummies[\"satisfaction\"]\n",
    "X = airline_df_subset2_dummies.drop(\"satisfaction\", axis=1)"
   ]
  },
  {
   "cell_type": "markdown",
   "id": "3413fbe0",
   "metadata": {},
   "source": [
    "Once separated, I will split the data into train, validate, and test sets. "
   ]
  },
  {
   "cell_type": "code",
   "execution_count": 69,
   "id": "f60ed3dd",
   "metadata": {},
   "outputs": [],
   "source": [
    "X_train, X_test, y_train, y_test = train_test_split(X, y, test_size = 0.25, random_state = 0)\n",
    "X_tr, X_val, y_tr, y_val = train_test_split(X_train, y_train, test_size = 0.25, random_state = 0)"
   ]
  },
  {
   "cell_type": "markdown",
   "id": "71064dee",
   "metadata": {},
   "source": [
    "### Tune the model\n",
    "\n",
    "Now, I will fit and tune a random forest model with a separate validation set. I’ll begin by determining a set of hyperparameters for tuning the model using GridSearchCV."
   ]
  },
  {
   "cell_type": "code",
   "execution_count": 70,
   "id": "bcebbe4e",
   "metadata": {},
   "outputs": [],
   "source": [
    "cv_params = {'n_estimators' : [50,100], \n",
    "              'max_depth' : [10,50],        \n",
    "              'min_samples_leaf' : [0.5,1], \n",
    "              'min_samples_split' : [0.001, 0.01],\n",
    "              'max_features' : [\"sqrt\"], \n",
    "              'max_samples' : [.5,.9]}"
   ]
  },
  {
   "cell_type": "markdown",
   "id": "43786850",
   "metadata": {},
   "source": [
    "Next, I create a list of split indices."
   ]
  },
  {
   "cell_type": "code",
   "execution_count": 71,
   "id": "110f04f6",
   "metadata": {},
   "outputs": [],
   "source": [
    "split_index = [0 if x in X_val.index else -1 for x in X_train.index]\n",
    "custom_split = PredefinedSplit(split_index)"
   ]
  },
  {
   "cell_type": "markdown",
   "id": "5f0c5467",
   "metadata": {},
   "source": [
    "To incorporate a custom validation set during hyperparameter tuning, I use `PredefinedSplit` instead of traditional K-fold cross-validation, since the validation set was created beforehand. This allows `GridSearchCV` to use the predefined split, evaluating models on a fixed validation set for consistent comparison. The `split_index` array marks validation samples with `0` and training samples with `-1` within `X_train`."
   ]
  },
  {
   "cell_type": "markdown",
   "id": "269a4792",
   "metadata": {},
   "source": [
    "Now, I will instantiate the model and then use GridSearchCV to search over the specified parameters."
   ]
  },
  {
   "cell_type": "code",
   "execution_count": 72,
   "id": "f9ef651b",
   "metadata": {},
   "outputs": [],
   "source": [
    "# base_airline_rf = RandomForestClassifier(random_state=0)\n",
    "\n",
    "# tuned_airline_rf_val = GridSearchCV(base_airline_rf, cv_params, cv=custom_split, refit='f1', n_jobs = -1, verbose = 1)"
   ]
  },
  {
   "cell_type": "markdown",
   "id": "9ced9255",
   "metadata": {},
   "source": [
    "Now, I will fit the model."
   ]
  },
  {
   "cell_type": "code",
   "execution_count": 73,
   "id": "39bfe6f1",
   "metadata": {},
   "outputs": [],
   "source": [
    "# %%time\n",
    "\n",
    "# tuned_airline_rf_val.fit(X_train, y_train)"
   ]
  },
  {
   "cell_type": "code",
   "execution_count": 74,
   "id": "2c4ffa95",
   "metadata": {},
   "outputs": [],
   "source": [
    "# write_pickle(path, tuned_airline_rf_val, 'tuned_airline_rf_val')"
   ]
  },
  {
   "cell_type": "code",
   "execution_count": 75,
   "id": "3944e76e",
   "metadata": {},
   "outputs": [],
   "source": [
    "tuned_airline_rf_val = read_pickle(path, 'tuned_airline_rf_val')"
   ]
  },
  {
   "cell_type": "markdown",
   "id": "92b9566e",
   "metadata": {},
   "source": [
    "Finally, I obtain the optimal parameters."
   ]
  },
  {
   "cell_type": "code",
   "execution_count": 76,
   "id": "d9df3fe6",
   "metadata": {},
   "outputs": [
    {
     "data": {
      "text/plain": [
       "{'max_depth': 50,\n",
       " 'max_features': 'sqrt',\n",
       " 'max_samples': 0.9,\n",
       " 'min_samples_leaf': 1,\n",
       " 'min_samples_split': 0.001,\n",
       " 'n_estimators': 50}"
      ]
     },
     "execution_count": 76,
     "metadata": {},
     "output_type": "execute_result"
    }
   ],
   "source": [
    "tuned_airline_rf_val.best_params_"
   ]
  },
  {
   "cell_type": "markdown",
   "id": "b0d633cb",
   "metadata": {},
   "source": [
    "## Results and evaluation"
   ]
  },
  {
   "cell_type": "markdown",
   "id": "e4b99930",
   "metadata": {},
   "source": [
    "After using `PredefinedSplit` to allocate a portion of the training data as a validation set for `GridSearchCV`, the model was initially trained on a subset of the training data, resulting in the `tuned_airline_rf_val` model. With the optimal hyperparameters now identified, I proceed to re-train the final model, `tuned_airline_rf`, on the **entire training set** (`X_train`) to fully leverage all available data for improved performance. \n",
    "Finally, I will use the selected model to make predictions on the test data, applying the optimal parameters discovered during GridSearchCV."
   ]
  },
  {
   "cell_type": "code",
   "execution_count": 77,
   "id": "83077cc5",
   "metadata": {},
   "outputs": [],
   "source": [
    "# tuned_airline_rf = RandomForestClassifier(n_estimators = 50, max_depth = 50, \n",
    "#                                 min_samples_leaf = 1, min_samples_split = 0.001,\n",
    "#                                 max_features=\"sqrt\", max_samples = 0.9, random_state = 0)"
   ]
  },
  {
   "cell_type": "markdown",
   "id": "282a064f",
   "metadata": {},
   "source": [
    "Once again, I fit the optimal model."
   ]
  },
  {
   "cell_type": "code",
   "execution_count": 78,
   "id": "58efe846",
   "metadata": {},
   "outputs": [],
   "source": [
    "# tuned_airline_rf.fit(X_train, y_train)"
   ]
  },
  {
   "cell_type": "code",
   "execution_count": 79,
   "id": "11ed556a",
   "metadata": {},
   "outputs": [],
   "source": [
    "# write_pickle(path, tuned_airline_rf, 'tuned_airline_rf')"
   ]
  },
  {
   "cell_type": "code",
   "execution_count": 80,
   "id": "d33c6e87",
   "metadata": {},
   "outputs": [],
   "source": [
    "tuned_airline_rf = read_pickle(path, 'tuned_airline_rf')"
   ]
  },
  {
   "cell_type": "markdown",
   "id": "68143ea4",
   "metadata": {},
   "source": [
    "Then I predict on the test set using the optimal model."
   ]
  },
  {
   "cell_type": "code",
   "execution_count": 81,
   "id": "ff72ede7",
   "metadata": {},
   "outputs": [],
   "source": [
    "y_pred = tuned_airline_rf.predict(X_test)"
   ]
  },
  {
   "cell_type": "markdown",
   "id": "d18beffb",
   "metadata": {},
   "source": [
    "I printed out `y_pred` to examine the predictions."
   ]
  },
  {
   "cell_type": "code",
   "execution_count": 82,
   "id": "443835fe",
   "metadata": {},
   "outputs": [
    {
     "name": "stdout",
     "output_type": "stream",
     "text": [
      "['dissatisfied' 'satisfied' 'dissatisfied' ... 'satisfied' 'satisfied'\n",
      " 'dissatisfied']\n"
     ]
    }
   ],
   "source": [
    "print(y_pred)"
   ]
  },
  {
   "cell_type": "markdown",
   "id": "5d94d127",
   "metadata": {},
   "source": [
    "### Obtain performance scores\n",
    "\n",
    "First, I will get the precision score."
   ]
  },
  {
   "cell_type": "code",
   "execution_count": 83,
   "id": "bea9c362",
   "metadata": {},
   "outputs": [
    {
     "name": "stdout",
     "output_type": "stream",
     "text": [
      "The precision score is 0.950\n"
     ]
    }
   ],
   "source": [
    "ps_test = precision_score(y_test, y_pred, pos_label = \"satisfied\")\n",
    "print(\"The precision score is {pc:.3f}\".format(pc = ps_test))"
   ]
  },
  {
   "cell_type": "markdown",
   "id": "e5171d8a",
   "metadata": {},
   "source": [
    "Then, I collect the recall score."
   ]
  },
  {
   "cell_type": "code",
   "execution_count": 84,
   "id": "f50a38fe",
   "metadata": {},
   "outputs": [
    {
     "name": "stdout",
     "output_type": "stream",
     "text": [
      "The recall score is 0.945\n"
     ]
    }
   ],
   "source": [
    "rs_test = recall_score(y_test, y_pred, pos_label = \"satisfied\")\n",
    "print(\"The recall score is {rc:.3f}\".format(rc = rs_test))"
   ]
  },
  {
   "cell_type": "markdown",
   "id": "8332be76",
   "metadata": {},
   "source": [
    "Next, I obtain the accuracy score."
   ]
  },
  {
   "cell_type": "code",
   "execution_count": 85,
   "id": "0b6f48b7",
   "metadata": {},
   "outputs": [
    {
     "name": "stdout",
     "output_type": "stream",
     "text": [
      "The accuracy score is 0.942\n"
     ]
    }
   ],
   "source": [
    "as_test = accuracy_score(y_test, y_pred)\n",
    "print(\"The accuracy score is {ac:.3f}\".format(ac = as_test))"
   ]
  },
  {
   "cell_type": "markdown",
   "id": "829815a0",
   "metadata": {},
   "source": [
    "Finally, I will collect the F1-score."
   ]
  },
  {
   "cell_type": "code",
   "execution_count": 86,
   "id": "e8830433",
   "metadata": {},
   "outputs": [
    {
     "name": "stdout",
     "output_type": "stream",
     "text": [
      "The F1 score is 0.947\n"
     ]
    }
   ],
   "source": [
    "f1_test = f1_score(y_test, y_pred, pos_label = \"satisfied\")\n",
    "print(\"The F1 score is {f1:.3f}\".format(f1 = f1_test))"
   ]
  },
  {
   "cell_type": "markdown",
   "id": "e3b6f260",
   "metadata": {},
   "source": [
    "### **Understanding the F1-Score Calculation**\n",
    "\n",
    "The **F1-score** is a measure of a model's accuracy that considers both precision and recall. It is the **harmonic mean** of precision and recall, ensuring a balance between the two. The formula for the F1-score is:  \n",
    "\n",
    "F1 = 2 × (Precision × Recall) / (Precision + Recall)\n",
    "\n",
    "Where:  \n",
    "- **Precision** = (True Positives) / (True Positives + False Positives)  \n",
    "- **Recall** = (True Positives) / (True Positives + False Negatives)  \n",
    "\n",
    "The F1-score ranges between **0 and 1**, where **1** represents a perfect model and **0** means poor performance. It is particularly useful when there is an **imbalance** in the dataset, ensuring that both precision and recall are considered in the model evaluation."
   ]
  },
  {
   "cell_type": "markdown",
   "id": "40bf00c4",
   "metadata": {},
   "source": [
    "#### **Pros and Cons of Using Test Data for Model Selection**\n",
    "\n",
    "Performing model selection using test data instead of a separate validation dataset has both advantages and disadvantages.  \n",
    "\n",
    "**Pros:**  \n",
    "- Reduces the coding workload by eliminating the need for a separate validation set.  \n",
    "- Shortens the data splitting process and simplifies the workflow.  \n",
    "- Requires only a single evaluation on the test dataset instead of two separate evaluations (validation and test).  \n",
    "\n",
    "**Cons:**  \n",
    "- **Bias in Evaluation**: The model may produce overly optimistic results if the test set is used for both tuning and evaluation.  \n",
    "- **Risk of Overfitting**: The model might be fine-tuned based on the test set, reducing its ability to generalize to truly unseen data.  \n",
    "- **Data Leakage**: Using the test set for model selection means that it indirectly influences model development, which undermines its role as an independent evaluation dataset.  \n",
    "\n",
    "**Best Practice:**  \n",
    "A separate validation set or cross-validation should be used for model selection, ensuring that the test data remains untouched until the final performance assessment."
   ]
  },
  {
   "cell_type": "markdown",
   "id": "9b0ff84c",
   "metadata": {},
   "source": [
    "### Performance Metrics Overview\n",
    "\n",
    "Now that I have the results, I will proceed with the evaluation of the model."
   ]
  },
  {
   "cell_type": "markdown",
   "id": "d8bc493a",
   "metadata": {},
   "source": [
    "#### **Key Parameters for Evaluating Classification Model Performance**\n",
    "\n",
    "The four basic parameters for evaluating the performance of a classification model are:\n",
    "\n",
    "- **True Positives (TP):** Cases where the model correctly predicts a positive outcome.  \n",
    "- **True Negatives (TN):** Cases where the model correctly predicts a negative outcome.  \n",
    "- **False Positives (FP):** Cases where the model incorrectly predicts a positive outcome when it is actually negative (also known as a Type I error).  \n",
    "- **False Negatives (FN):** Cases where the model incorrectly predicts a negative outcome when it is actually positive (also known as a Type II error).  \n",
    "\n",
    "These parameters are essential for calculating performance metrics such as accuracy, precision, recall, and F1-score, helping to assess the effectiveness of a classification model."
   ]
  },
  {
   "cell_type": "markdown",
   "id": "302b79fd",
   "metadata": {},
   "source": [
    "#### **Interpreting Classification Metrics: Precision, Recall, Accuracy, and F1-Score**\n",
    "\n",
    "**Precision:**  \n",
    "- Measures the proportion of positive predictions that are actually correct.  \n",
    "- Formula: `Precision = TP / (TP + FP)`  \n",
    "- High precision means fewer false positives.  \n",
    "\n",
    "**Recall (Sensitivity):**  \n",
    "- Measures the model’s ability to correctly identify all actual positive cases.  \n",
    "- Formula: `Recall = TP / (TP + FN)`  \n",
    "- High recall means fewer false negatives.  \n",
    "\n",
    "**Accuracy:**  \n",
    "- Measures the overall correctness of predictions.  \n",
    "- Formula: `Accuracy = (TP + TN) / (TP + TN + FP + FN)`  \n",
    "- High accuracy indicates the model performs well on both positive and negative classes.  \n",
    "\n",
    "**F1-score:**  \n",
    "- The harmonic mean of precision and recall, balancing both metrics.  \n",
    "- Formula: `F1-score = 2 × (Precision × Recall) / (Precision + Recall)`  \n",
    "- Useful when both false positives and false negatives need to be minimized.  \n",
    "\n",
    "Each metric provides unique insights into model performance. The choice of metric depends on the problem—recall is crucial in medical diagnoses (minimizing false negatives), while precision is more important in fraud detection (minimizing false positives)."
   ]
  },
  {
   "cell_type": "markdown",
   "id": "357ad4ae",
   "metadata": {},
   "source": [
    "I will Calculate the scores: precision score, recall score, accuracy score, F1 score."
   ]
  },
  {
   "cell_type": "code",
   "execution_count": 87,
   "id": "3ce378fa",
   "metadata": {},
   "outputs": [
    {
     "name": "stdout",
     "output_type": "stream",
     "text": [
      "The precision score is: 0.950 for the test set,\n",
      "which means of all positive predictions, 95.0% prediction are true positive.\n"
     ]
    }
   ],
   "source": [
    "print(f\"The precision score is: {ps_test:.3f} for the test set,\"\n",
    "      f\"\\nwhich means of all positive predictions, {ps_test * 100:.1f}% prediction are true positive.\")"
   ]
  },
  {
   "cell_type": "code",
   "execution_count": 88,
   "id": "f6050457",
   "metadata": {},
   "outputs": [
    {
     "name": "stdout",
     "output_type": "stream",
     "text": [
      "\n",
      "The recall score is: 0.945 for the test set,\n",
      "which means of all real positive cases in test set, 94.5% are predicted positive.\n"
     ]
    }
   ],
   "source": [
    "print(f\"\\nThe recall score is: {rs_test:.3f} for the test set,\"\n",
    "      f\"\\nwhich means of all real positive cases in test set, {rs_test * 100:.1f}% are predicted positive.\")"
   ]
  },
  {
   "cell_type": "code",
   "execution_count": 89,
   "id": "73be6a72",
   "metadata": {},
   "outputs": [
    {
     "name": "stdout",
     "output_type": "stream",
     "text": [
      "\n",
      "The accuracy score is: 0.942 for the test set,\n",
      "which means of all cases in test set, 94.2% are predicted true positive or true negative.\n"
     ]
    }
   ],
   "source": [
    "print(f\"\\nThe accuracy score is: {as_test:.3f} for the test set,\"\n",
    "      f\"\\nwhich means of all cases in test set, {as_test * 100:.1f}% are predicted true positive or true negative.\")"
   ]
  },
  {
   "cell_type": "code",
   "execution_count": 90,
   "id": "41758551",
   "metadata": {},
   "outputs": [
    {
     "name": "stdout",
     "output_type": "stream",
     "text": [
      "\n",
      "The F1 score is: 0.947 for the test set,\n",
      "which means the test set's harmonic mean is 94.7%.\n"
     ]
    }
   ],
   "source": [
    "print(f\"\\nThe F1 score is: {f1_test:.3f} for the test set,\"\n",
    "      f\"\\nwhich means the test set's harmonic mean is {f1_test * 100:.1f}%.\")"
   ]
  },
  {
   "cell_type": "markdown",
   "id": "09125196",
   "metadata": {},
   "source": [
    "#### **Model Performance Summary Based on Key Evaluation Metrics**\n",
    "\n",
    "The model performs well based on the four evaluation scores:\n",
    "\n",
    "- **Precision (0.950)**: The model correctly identifies 95% of the positive predictions as actual positives, indicating a low false positive rate.\n",
    "- **Recall (0.945)**: The model successfully captures 94.5% of the actual positive cases, suggesting minimal false negatives.\n",
    "- **Accuracy (0.942)**: The model correctly predicts 94.2% of all instances, demonstrating strong overall performance.\n",
    "- **F1-score (0.947)**: A balanced score between precision and recall, indicating the model effectively handles both false positives and false negatives.\n",
    "\n",
    "**Key Insights:**  \n",
    "With high precision, recall, accuracy, and an F1-score close to 1, the model demonstrates strong performance. However, further testing on unseen data is recommended to confirm its generalizability."
   ]
  },
  {
   "cell_type": "markdown",
   "id": "a6c76c4a",
   "metadata": {},
   "source": [
    "### Evaluate the model\n",
    "\n",
    "Finally, I will create a table of results that I can use to evaluate the performace of the model."
   ]
  },
  {
   "cell_type": "code",
   "execution_count": 91,
   "id": "c21d35ee",
   "metadata": {},
   "outputs": [
    {
     "data": {
      "text/html": [
       "<div>\n",
       "<style scoped>\n",
       "    .dataframe tbody tr th:only-of-type {\n",
       "        vertical-align: middle;\n",
       "    }\n",
       "\n",
       "    .dataframe tbody tr th {\n",
       "        vertical-align: top;\n",
       "    }\n",
       "\n",
       "    .dataframe thead th {\n",
       "        text-align: right;\n",
       "    }\n",
       "</style>\n",
       "<table border=\"1\" class=\"dataframe\">\n",
       "  <thead>\n",
       "    <tr style=\"text-align: right;\">\n",
       "      <th></th>\n",
       "      <th>Model</th>\n",
       "      <th>F1</th>\n",
       "      <th>Recall</th>\n",
       "      <th>Precision</th>\n",
       "      <th>Accuracy</th>\n",
       "    </tr>\n",
       "  </thead>\n",
       "  <tbody>\n",
       "    <tr>\n",
       "      <th>0</th>\n",
       "      <td>Logistic Rgression</td>\n",
       "      <td>0.818827</td>\n",
       "      <td>0.821530</td>\n",
       "      <td>0.816142</td>\n",
       "      <td>0.801529</td>\n",
       "    </tr>\n",
       "    <tr>\n",
       "      <th>1</th>\n",
       "      <td>Tuned Decision Tree</td>\n",
       "      <td>0.945422</td>\n",
       "      <td>0.935863</td>\n",
       "      <td>0.955197</td>\n",
       "      <td>0.940864</td>\n",
       "    </tr>\n",
       "    <tr>\n",
       "      <th>2</th>\n",
       "      <td>Tuned Random Forest</td>\n",
       "      <td>0.947306</td>\n",
       "      <td>0.944501</td>\n",
       "      <td>0.950128</td>\n",
       "      <td>0.942450</td>\n",
       "    </tr>\n",
       "  </tbody>\n",
       "</table>\n",
       "</div>"
      ],
      "text/plain": [
       "                 Model        F1    Recall  Precision  Accuracy\n",
       "0   Logistic Rgression  0.818827  0.821530   0.816142  0.801529\n",
       "1  Tuned Decision Tree  0.945422  0.935863   0.955197  0.940864\n",
       "2  Tuned Random Forest  0.947306  0.944501   0.950128  0.942450"
      ]
     },
     "execution_count": 91,
     "metadata": {},
     "output_type": "execute_result"
    }
   ],
   "source": [
    "table = pd.DataFrame({'Model': [\"Logistic Rgression\", \"Tuned Decision Tree\", \"Tuned Random Forest\"],\n",
    "                        'F1':  [0.818827, 0.945422, f1_test],\n",
    "                        'Recall': [0.821530, 0.935863, rs_test],\n",
    "                        'Precision': [0.816142, 0.955197, ps_test],\n",
    "                        'Accuracy': [0.801529, 0.940864, as_test]\n",
    "                      }\n",
    "                    )\n",
    "table"
   ]
  },
  {
   "cell_type": "markdown",
   "id": "e7bc709a",
   "metadata": {},
   "source": [
    "#### **Comparative Model Performance: Random Forest vs. Logistic Regression and Decision Tree**\n",
    "\n",
    "The **Tuned Random Forest model** outperforms both the **Logistic Regression model (Modeling Approach A)** and the **Tuned Decision Tree model (Modeling Approach B)** across nearly all performance metrics:\n",
    "\n",
    "- **F1-score**:  \n",
    "  - **Random Forest**: **0.9473**  \n",
    "  - **Decision Tree**: **0.9454**  \n",
    "  - **Logistic Regression**: **0.8188**  \n",
    "  - The Random Forest model has the best balance between precision and recall, with Logistic Regression trailing far behind.\n",
    "\n",
    "- **Recall**:  \n",
    "  - **Random Forest**: **0.9445**  \n",
    "  - **Decision Tree**: **0.9359**  \n",
    "  - **Logistic Regression**: **0.8215**  \n",
    "  - The Random Forest model captures more actual positives, making it more reliable in identifying satisfied customers.\n",
    "\n",
    "- **Precision**:  \n",
    "  - **Decision Tree**: **0.9552**  \n",
    "  - **Random Forest**: **0.9501**  \n",
    "  - **Logistic Regression**: **0.8161**  \n",
    "  - While the Decision Tree edges out slightly in precision (fewer false positives), the Random Forest is very close behind.\n",
    "\n",
    "- **Accuracy**:  \n",
    "  - **Random Forest**: **0.9425**  \n",
    "  - **Decision Tree**: **0.9409**  \n",
    "  - **Logistic Regression**: **0.8015**  \n",
    "  - The Random Forest model again leads in overall correctness, followed closely by the Decision Tree.\n",
    "\n",
    "\n",
    "**Key Insights:**  \n",
    "\n",
    "The **Random Forest model** clearly outperforms both previous models in terms of F1-score, recall, and accuracy, making it the most robust and well-rounded option. While the Decision Tree has a slight edge in precision, the Random Forest's ability to generalize better—thanks to ensemble learning—makes it the best choice overall.  \n",
    "\n",
    "Compared to the **Logistic Regression model (Approach A)**, the improvement is substantial across all metrics, highlighting the limitations of simple linear models for this task. The **Decision Tree (Approach B)** performs well, but the Random Forest enhances performance further without a significant loss in interpretability or speed."
   ]
  },
  {
   "cell_type": "markdown",
   "id": "f1e1a588",
   "metadata": {},
   "source": [
    "#### **Key Takeaways**\n",
    "\n",
    "- **Data Preparation**: Careful preprocessing, including handling missing values and encoding categorical features, ensures the dataset is suitable for machine learning models.\n",
    "- **Hyperparameter Tuning**: Applying techniques like `GridSearchCV` helps optimize model parameters, though improvements may vary depending on the dataset and model type.\n",
    "- **Model Interpretation**: Tools like decision tree plots and feature importance rankings offer clear insights into which variables most affect prediction outcomes."
   ]
  },
  {
   "cell_type": "markdown",
   "id": "d7943228",
   "metadata": {},
   "source": [
    "#### **Key Findings to Share with the Data Team**\n",
    "\n",
    "- **Strong Predictive Accuracy**: The decision tree model achieved over **94% accuracy** in predicting customer satisfaction outcomes.\n",
    "- **Balanced Classification Performance**: The confusion matrix confirmed a good distribution of true positive and true negative predictions.\n",
    "- **Top Influencing Features**: According to both the decision tree visualization and feature importance scores, the leading drivers of customer satisfaction are **‘Inflight entertainment’**, **‘Seat comfort’**, and **‘Ease of Online booking’**."
   ]
  },
  {
   "cell_type": "markdown",
   "id": "49f9e397",
   "metadata": {},
   "source": [
    "#### **Recommendations for Stakeholders**\n",
    "\n",
    "- **Prioritize Service Enhancements**: Focus on improving **inflight entertainment**, **seat comfort**, and **online booking convenience** as these factors have the strongest relationship with customer satisfaction.\n",
    "- **Expand Predictive Modeling Capabilities**: Given the high performance and clarity of insights from the decision tree model, continued investment in advanced modeling and analytics can further support customer experience improvements and strategic decision-making."
   ]
  },
  {
   "cell_type": "markdown",
   "id": "6ca8963b",
   "metadata": {},
   "source": [
    "## **Conclusion**\n",
    "\n",
    "The **Random Forest model** delivered a notable performance improvement over both the logistic regression and decision tree models, achieving an excellent **accuracy of 94.25%** and an **F1-score of 94.73%**. This strong predictive capability highlights the advantages of ensemble techniques in balancing precision and recall while reducing overfitting risks commonly seen in individual decision trees.\n",
    "\n",
    "The model reaffirmed **inflight entertainment**, **seat comfort**, and **ease of online booking** as the most influential factors driving customer satisfaction, consistent with earlier findings. Its high reliability and predictive strength position it as a valuable tool for informing strategic decisions and enhancing the passenger experience at Invistico Airlines.\n",
    "\n",
    "Looking ahead, further gains could be achieved by exploring more advanced ensemble approaches such as **XGBoost**, which will be developed in the upcoming **Modeling Approach D Stage** of this project. Integrating this technique alongside potential real-time feedback systems could provide deeper insights and enable proactive, data-driven service adjustments, ultimately enhancing customer loyalty, improving operational decision-making, and driving long-term customer retention strategies for Invistico Airlines."
   ]
  },
  {
   "cell_type": "markdown",
   "id": "0bc3af9d",
   "metadata": {},
   "source": [
    "# Modeling Approach D: XGBoost Model"
   ]
  },
  {
   "cell_type": "markdown",
   "id": "6a2f2ebf",
   "metadata": {},
   "source": [
    "## **Introduction**\n",
    "\n",
    "In this **Modeling Approach D Stage**, I will transition to constructing an **XGBoost model** to predict customer satisfaction at Invistico Airlines. XGBoost, an advanced extension of decision trees, is a highly efficient and powerful ensemble machine learning algorithm known for its exceptional performance in classification tasks. Building on the insights and techniques gained from the previous **logistic regression**, **decision tree**, and **random forest** models, this stage aims to enhance predictive accuracy and model robustness. By utilizing the power of gradient boosting, this model will assess whether XGBoost delivers a performance boost over prior models and provide more refined insights into the key drivers of customer satisfaction.\n",
    "\n",
    "### **Task**\n",
    "\n",
    "In this phase, I will construct and evaluate an **XGBoost classification model**. The process will involve training the model, conducting **hyperparameter tuning with GridSearchCV** to optimize its performance, and evaluating the model using key metrics such as **accuracy, precision, recall, F1-score**, and a **confusion matrix**. The goal is to build a model that can handle complex relationships within the data and deliver superior predictive results over the decision tree and random forest models."
   ]
  },
  {
   "cell_type": "markdown",
   "id": "765b930d",
   "metadata": {},
   "source": [
    "### **Overview**\n",
    "\n",
    "This **Modeling Approach D Stage** will demonstrate my ability to implement a cutting-edge ensemble technique—XGBoost. The focus will be on tuning the model for **optimal performance**, enhancing generalization through **cross-validation**, and interpreting the feature importances to understand the key drivers of customer satisfaction. This process will not only provide a more accurate solution but also offer a deeper understanding of the factors that influence satisfaction. All steps will be documented thoroughly, ensuring transparency and reproducibility for future comparisons and refinements.\n",
    "\n",
    "### **Project Background**\n",
    "\n",
    "The **Invistico Airlines data team** has entered its final modeling stage to enhance **customer satisfaction prediction** using more advanced machine learning techniques. This stage is centered around building an **XGBoost model**, recognized for its efficiency and superior predictive power. The model will leverage the same dataset, incorporating features such as **inflight entertainment, seat comfort, and ease of booking**, to extract valuable insights aimed at improving the overall customer experience. The performance of this model will be a pivotal benchmark, guiding future predictive modeling efforts and shaping customer satisfaction strategies."
   ]
  },
  {
   "cell_type": "markdown",
   "id": "7d2dda4f",
   "metadata": {},
   "source": [
    "### **Libraries and Packages Used in This Modeling Approach D Stage**\n",
    "\n",
    "- **Standard operational packages**:\n",
    "  - **Pandas** — for data manipulation, organization, and cleaning of structured datasets.\n",
    "  - **NumPy** — for efficient numerical computations and array operations.\n",
    "  - **Pickle** — for serializing and saving trained models or Python objects for later reuse.\n",
    "\n",
    "- **Key packages for modeling and evaluation**:\n",
    "  - **scikit-learn’s `model_selection` module** — for splitting data into training and testing sets with `train_test_split` and conducting hyperparameter tuning using `GridSearchCV`.\n",
    "  - **scikit-learn’s `metrics` module** — for evaluating classification model performance through metrics such as accuracy, precision, recall, and F1-score.\n",
    "\n",
    "- **Specialized packages for gradient boosting**:\n",
    "  - **XGBoost’s `XGBClassifier`** — for constructing a high-performance, gradient-boosted ensemble model tailored for classification tasks.\n",
    "  - **XGBoost’s `plot_importance`** — for visualizing feature importance scores, helping interpret which variables most influence customer satisfaction predictions."
   ]
  },
  {
   "cell_type": "markdown",
   "id": "8544827e",
   "metadata": {},
   "source": [
    "#### **Identifying the Target Variable and Formulating an Initial Hypothesis for Predictors of Passenger Satisfaction**\n",
    "\n",
    "\n",
    "**Target Variable:**  \n",
    "The target variable for passenger satisfaction is **\"satisfaction\"**, as this is the outcome I aim to predict.  \n",
    "\n",
    "**Initial Hypothesis:**  \n",
    "Key factors likely to influence passenger satisfaction can be grouped into three main categories:  \n",
    "\n",
    "- **Service-Related Factors** (Expected to have a strong positive impact):  \n",
    "- Seat comfort  \n",
    "- Food and drink  \n",
    "- Inflight WiFi service  \n",
    "- Inflight entertainment  \n",
    "- Online support  \n",
    "- Ease of online booking  \n",
    "- On-board service  \n",
    "- Legroom service  \n",
    "- Check-in service  \n",
    "- Cleanliness  \n",
    "- Baggage handling  \n",
    "\n",
    "- **Travel-Related Factors** (May influence satisfaction based on travel preferences):  \n",
    "- Flight distance  \n",
    "- Type of travel (business vs. personal)  \n",
    "- Travel class (economy, business, first class)  \n",
    "\n",
    "- **Delay-Related Factors** (Expected to have a negative correlation with satisfaction):  \n",
    "- Departure delay in minutes  \n",
    "- Arrival delay in minutes  \n",
    "\n",
    "**Hypothesis:**  \n",
    "Passengers who experience **better service quality, premium travel accommodations, and minimal delays** are more likely to report higher satisfaction. In particular, **departure and arrival delays** may have a **negative correlation** with satisfaction, as delays tend to impact passengers' overall experience."
   ]
  },
  {
   "cell_type": "markdown",
   "id": "4084e40c",
   "metadata": {},
   "source": [
    "### Prepare the data for predictions\n",
    "\n",
    "To prepare this DataFrame for modeling, I will first convert the non-numerical variables (`object` data types) within the dataset into a numerical format."
   ]
  },
  {
   "cell_type": "code",
   "execution_count": 92,
   "id": "d0d63fd6",
   "metadata": {},
   "outputs": [],
   "source": [
    "airline_df_subset3_dummies = pd.get_dummies(airline_df, \n",
    "                                         columns=['satisfaction','Customer Type','Type of Travel','Class'])"
   ]
  },
  {
   "cell_type": "markdown",
   "id": "c673a347",
   "metadata": {},
   "source": [
    "In this case, `pd.get_dummies()` is applied without `drop_first=True`, meaning it creates dummy variables for all categories of the categorical columns. This approach is often used for models that do not require a strict avoidance of multicollinearity, such as tree-based models (e.g., decision trees, random forests, and boosting algorithms)."
   ]
  },
  {
   "cell_type": "markdown",
   "id": "9f2d1ec2",
   "metadata": {},
   "source": [
    "### Model preparation\n",
    "\n",
    "Before I proceed with modeling, I will consider which metrics I ultimately want to leverage to evaluate my model."
   ]
  },
  {
   "cell_type": "markdown",
   "id": "eb3c33ac",
   "metadata": {},
   "source": [
    "#### **Selecting Appropriate Evaluation Metrics for a Binary Classification Model**\n",
    "\n",
    "- Since this is a **binary classification problem**, evaluating model performance requires more than just accuracy.  \n",
    "- **Key metrics include**:  \n",
    "  - **Precision** (useful when minimizing false positives is critical)  \n",
    "  - **Recall** (important when reducing false negatives is a priority)  \n",
    "  - **F1 Score** (balances precision and recall, making it ideal for imbalanced data)  \n",
    "  - **ROC AUC Score** (measures the model's ability to distinguish between classes across different thresholds)  \n",
    "- The choice of metric depends on whether the focus is on reducing **false positives (Type I error)** or **false negatives (Type II error)**, or achieving a balance between them."
   ]
  },
  {
   "cell_type": "markdown",
   "id": "712db727",
   "metadata": {},
   "source": [
    "### Assumption Check for XGBoost Model\n",
    "\n",
    "**For the XGBoost model**, I accounted for both tree-based assumptions and boosting-specific considerations to ensure a reliable and optimized implementation. Like decision trees and random forests, XGBoost does **not require assumptions of linearity, normality, or multicollinearity** for effective performance.\n",
    "\n",
    "Since XGBoost builds trees sequentially through **boosting**, it can be more sensitive to noisy or extreme values early in training. However, its **built-in regularization (L1 and L2 penalties)** mitigates overfitting risks and controls for feature interaction complexities. I confirmed that the assumption of independent observations was satisfied, as each record corresponded to a distinct passenger.\n",
    "\n",
    "To manage model complexity and enhance generalization, I carefully tuned key hyperparameters, including `learning_rate`, `max_depth`, and `n_estimators`. I also employed **early stopping** during validation to prevent overfitting. As with other tree-based models, **feature scaling was unnecessary**, and the model handled missing values internally. These checks ensured that the XGBoost model was built on solid assumptions and structured for reliable, interpretable performance."
   ]
  },
  {
   "cell_type": "markdown",
   "id": "8d3cd71c",
   "metadata": {},
   "source": [
    "### Isolate the target and predictor variables\n",
    "\n",
    "I will separately define the target variable (`satisfaction`) and the features."
   ]
  },
  {
   "cell_type": "code",
   "execution_count": 93,
   "id": "d36b9cd5",
   "metadata": {},
   "outputs": [],
   "source": [
    "y = airline_df_subset3_dummies['satisfaction_satisfied']\n",
    "\n",
    "X = airline_df_subset3_dummies.drop(['satisfaction_satisfied','satisfaction_dissatisfied'], axis = 1)"
   ]
  },
  {
   "cell_type": "markdown",
   "id": "52ebb24c",
   "metadata": {},
   "source": [
    "### Divide the data \n",
    "\n",
    "I will divide my data into a training set (75% of the data) and a test set (25% of the data). This is an important step in the process, as it allows me to reserve a part of the data that the model has not used to test how well the model generalizes (or performs) on new data."
   ]
  },
  {
   "cell_type": "code",
   "execution_count": 94,
   "id": "3bd78b10",
   "metadata": {},
   "outputs": [],
   "source": [
    "X_train, X_test, y_train, y_test = train_test_split(X, y, test_size = 0.25, random_state = 0)"
   ]
  },
  {
   "cell_type": "markdown",
   "id": "86d5a5ea",
   "metadata": {},
   "source": [
    "## Model building"
   ]
  },
  {
   "cell_type": "markdown",
   "id": "59105378",
   "metadata": {},
   "source": [
    "### \"Instantiate\" your XGBClassifer\n",
    "\n",
    "Before I fit my model to the airline dataset, I will first create the XGB Classifier model and define its objective. I’ll use this model to fit and score different hyperparameters during the GridSearch cross-validation process."
   ]
  },
  {
   "cell_type": "code",
   "execution_count": 95,
   "id": "be2e49da",
   "metadata": {},
   "outputs": [],
   "source": [
    "base_airline_xgb = XGBClassifier(objective='binary:logistic', random_state=0)"
   ]
  },
  {
   "cell_type": "markdown",
   "id": "d7c8be20",
   "metadata": {},
   "source": [
    "### Define the parameters for hyperparameter tuning\n",
    "\n",
    "To identify suitable parameters for my `xgboost` model, I will first define the parameters for hyperparameter tuning. Specifically, I’ll consider tuning `max_depth`, `min_child_weight`, `learning_rate`, `n_estimators`, `subsample`, and `colsample_bytree` within a limited range for timely iteration and model training:\n",
    "\n",
    "```\n",
    "{\n",
    "    'max_depth': [4],\n",
    "    'min_child_weight': [3],\n",
    "    'learning_rate': [0.1],\n",
    "    'n_estimators': [5],\n",
    "    'subsample': [0.7],\n",
    "    'colsample_bytree': [0.7]\n",
    "}\n",
    "```\n",
    "\n",
    "If I add just one new option — for example, by changing `max_depth: [4]` to `max_depth: [3, 6]` — and keep everything else the same, I can expect the run time to approximately double. If I use two possibilities for each hyperparameter, the run time would extend to around ~1 hour."
   ]
  },
  {
   "cell_type": "code",
   "execution_count": 96,
   "id": "d0f25442",
   "metadata": {},
   "outputs": [],
   "source": [
    "cv_params = {'max_depth': [4, 6],\n",
    "              'min_child_weight': [3, 5],\n",
    "              'learning_rate': [0.1, 0.2, 0.3],\n",
    "              'n_estimators': [5,10,15],\n",
    "              'subsample': [0.7],\n",
    "              'colsample_bytree': [0.7]\n",
    "              }"
   ]
  },
  {
   "cell_type": "markdown",
   "id": "0cef021e",
   "metadata": {},
   "source": [
    "#### **Effect of Increasing Estimators in GridSearch Tuning**\n",
    "\n",
    "Adding more estimators in GridSearch increases the number of boosting rounds, which can enhance model accuracy but also comes with trade-offs:  \n",
    "\n",
    "- **Improved Performance**: Initially, more estimators contribute to better learning and reduce bias, leading to higher accuracy.  \n",
    "- **Longer Training Time**: As the number of estimators increases, computation time grows significantly, making GridSearch more resource-intensive.  \n",
    "- **Risk of Overfitting**: Excessive estimators can cause the model to fit noise in the training data, reducing generalization to unseen data.  \n",
    "- **Tuned with Learning Rate**: A **higher number of estimators** is often balanced with a **lower learning rate** to prevent overfitting while maintaining strong performance."
   ]
  },
  {
   "cell_type": "markdown",
   "id": "dc19ed67",
   "metadata": {},
   "source": [
    "### Define how the models will be evaluated\n",
    "\n",
    "I will define how the models will be evaluated for hyperparameter tuning. To yield the best understanding of model performance, I will utilize a suite of metrics."
   ]
  },
  {
   "cell_type": "code",
   "execution_count": 97,
   "id": "38e23f70",
   "metadata": {},
   "outputs": [],
   "source": [
    "scoring = {\n",
    "    'accuracy': 'accuracy',\n",
    "    'precision': 'precision',\n",
    "    'recall': 'recall',\n",
    "    'f1': 'f1'\n",
    "}"
   ]
  },
  {
   "cell_type": "markdown",
   "id": "67a43958",
   "metadata": {},
   "source": [
    "### Construct the GridSearch cross-validation \n",
    "\n",
    "I will construct the GridSearch cross-validation using the model, parameters, and scoring metrics I defined. Additionally, I will define the number of folds and specify which metric from above will guide the refit strategy."
   ]
  },
  {
   "cell_type": "code",
   "execution_count": 98,
   "id": "75567dda",
   "metadata": {},
   "outputs": [],
   "source": [
    "# tuned_airline_xgb_cv = GridSearchCV(base_airline_xgb,\n",
    "#                       cv_params,\n",
    "#                       scoring = scoring,\n",
    "#                       cv = 5,\n",
    "#                       refit = 'f1'\n",
    "#                      )"
   ]
  },
  {
   "cell_type": "markdown",
   "id": "e95433f9",
   "metadata": {},
   "source": [
    "### Fit the GridSearch model to your training data\n",
    "\n",
    "If my GridSearch takes too long, I will revisit the parameter ranges above and consider narrowing the range and reducing the number of estimators."
   ]
  },
  {
   "cell_type": "code",
   "execution_count": 99,
   "id": "4ed1f79b",
   "metadata": {},
   "outputs": [],
   "source": [
    "# %%time\n",
    "\n",
    "# tuned_airline_xgb_cv = tuned_airline_xgb_cv.fit(X_train, y_train)\n",
    "# tuned_airline_xgb_cv"
   ]
  },
  {
   "cell_type": "code",
   "execution_count": 100,
   "id": "6adbb530",
   "metadata": {},
   "outputs": [],
   "source": [
    "# write_pickle(path, tuned_airline_xgb_cv, 'tuned_airline_xgb_cv')"
   ]
  },
  {
   "cell_type": "code",
   "execution_count": 101,
   "id": "fb26c0ea",
   "metadata": {},
   "outputs": [],
   "source": [
    "tuned_airline_xgb_cv = read_pickle(path, 'tuned_airline_xgb_cv')"
   ]
  },
  {
   "cell_type": "code",
   "execution_count": 102,
   "id": "1256f7c2",
   "metadata": {},
   "outputs": [
    {
     "data": {
      "text/plain": [
       "{'colsample_bytree': 0.7,\n",
       " 'learning_rate': 0.3,\n",
       " 'max_depth': 6,\n",
       " 'min_child_weight': 5,\n",
       " 'n_estimators': 15,\n",
       " 'subsample': 0.7}"
      ]
     },
     "execution_count": 102,
     "metadata": {},
     "output_type": "execute_result"
    }
   ],
   "source": [
    "tuned_airline_xgb_cv.best_params_"
   ]
  },
  {
   "cell_type": "markdown",
   "id": "6811c620",
   "metadata": {},
   "source": [
    "#### **Optimal Hyperparameters Identified by GridSearch**\n",
    "\n",
    "After performing hyperparameter tuning using GridSearchCV on the XGBoost classifier, the following combination of parameters was found to yield the best validation performance:\n",
    "\n",
    "- `colsample_bytree`: **0.7**  \n",
    "- `learning_rate`: **0.3**  \n",
    "- `max_depth`: **6**  \n",
    "- `min_child_weight`: **5**  \n",
    "- `n_estimators`: **15**  \n",
    "- `subsample`: **0.7**"
   ]
  },
  {
   "cell_type": "markdown",
   "id": "ed419309",
   "metadata": {},
   "source": [
    "## Results and evaluation"
   ]
  },
  {
   "cell_type": "markdown",
   "id": "64c68ce8",
   "metadata": {},
   "source": [
    "### Formulate predictions on your test set\n",
    "\n",
    "To evaluate the predictions yielded from my model, I will leverage a series of metrics and evaluation techniques from scikit-learn by examining the actual observed values in the test set relative to my model’s predictions. \n",
    "\n",
    "First, I will use my trained model to formulate predictions on my test set."
   ]
  },
  {
   "cell_type": "code",
   "execution_count": 103,
   "id": "18c884d7",
   "metadata": {},
   "outputs": [],
   "source": [
    "y_pred = tuned_airline_xgb_cv.predict(X_test)"
   ]
  },
  {
   "cell_type": "markdown",
   "id": "e393b66d",
   "metadata": {},
   "source": [
    "### Leverage metrics to evaluate your model's performance\n",
    "\n",
    "I will apply a series of metrics from scikit-learn to assess my model. Specifically, I will print the accuracy score, precision score, recall score, and F1 score associated with my test data and predicted values."
   ]
  },
  {
   "cell_type": "code",
   "execution_count": 104,
   "id": "f8a7d4db",
   "metadata": {},
   "outputs": [
    {
     "name": "stdout",
     "output_type": "stream",
     "text": [
      "accuracy score: 0.9364952263627965\n",
      "precision score: 0.9482680295286768\n",
      "recall score: 0.9355182072829131\n",
      "f1 score: 0.9418499717992104\n"
     ]
    }
   ],
   "source": [
    "ac_score = metrics.accuracy_score(y_test, y_pred)\n",
    "print('accuracy score:', ac_score)\n",
    "\n",
    "pc_score = metrics.precision_score(y_test, y_pred)\n",
    "print('precision score:', pc_score)\n",
    "\n",
    "rc_score = metrics.recall_score(y_test, y_pred)\n",
    "print('recall score:', rc_score)\n",
    "\n",
    "f1_score = metrics.f1_score(y_test, y_pred)\n",
    "print('f1 score:', f1_score)"
   ]
  },
  {
   "cell_type": "markdown",
   "id": "3e81587d",
   "metadata": {},
   "source": [
    "#### **Interpreting the Model’s Accuracy Score**\n",
    "\n",
    "The accuracy score of 0.9365 (or 93.65%) indicates that the model correctly classified 93.65% of all instances in the dataset. This means that, overall, the model performs well in distinguishing between the classes."
   ]
  },
  {
   "cell_type": "markdown",
   "id": "456be41b",
   "metadata": {},
   "source": [
    "#### **Limitations of Accuracy in Model Evaluation**\n",
    "\n",
    "Accuracy alone is not sufficient to evaluate the model. If the dataset has class imbalance, a high accuracy score may be misleading, as the model could simply predict the majority class most of the time. Instead, metrics like **precision, recall, and F1-score** provide a more comprehensive evaluation by considering false positives and false negatives, ensuring balanced performance across both classes."
   ]
  },
  {
   "cell_type": "markdown",
   "id": "bdd46856",
   "metadata": {},
   "source": [
    "#### **Interpreting Precision, Recall, and Their Importance in Model Evaluation**\n",
    "\n",
    "**Interpreting Precision and Recall Scores**  \n",
    "\n",
    "- **Precision (0.948)**: **94.8% of the instances predicted as satisfied were actually satisfied**. A high precision score indicates that the model makes relatively few false positive errors.  \n",
    "- **Recall (0.936)**: **93.6% of actual satisfied passengers were correctly identified by the model**. A high recall score suggests that the model effectively captures most of the positive cases while keeping false negatives low.  \n",
    "\n",
    "**Which Metric is More Important?**  \n",
    "It depends on the problem context:  \n",
    "\n",
    "- If reducing **false positives** is a priority (e.g., predicting VIP customers for premium services), **precision matters more**.  \n",
    "- If minimizing **false negatives** is crucial (e.g., ensuring all satisfied customers receive retention offers), **recall is more important**.  \n",
    "\n",
    "**Balancing Both Metrics**  \n",
    "- The **F1 score (0.942)** balances precision and recall, ensuring the model performs well in both areas.  \n",
    "- Since **precision and recall are close**, the model is well-calibrated, minimizing both types of errors."
   ]
  },
  {
   "cell_type": "markdown",
   "id": "ef0d8e2e",
   "metadata": {},
   "source": [
    "#### **Understanding the F1 Score and Its Role in Model Evaluation**\n",
    "\n",
    "The **F1 score** provides a **balance between precision and recall**, offering a single metric that accounts for both false positives and false negatives.  \n",
    "\n",
    "**Interpretation of Your F1 Score (0.9418)**\n",
    "- **Precision (0.9483)**: **94.83% of predicted positive cases are actually positive** (i.e., fewer false positives).  \n",
    "- **Recall (0.9355)**: **93.55% of actual positive cases were correctly identified** (i.e., fewer false negatives).  \n",
    "- The **F1 score (0.9418)** combines both, ensuring a balanced measure of predictive performance.  \n",
    "\n",
    "**F1 Score Importance**\n",
    "- If **precision is high** but **recall is low**, the model is **too conservative**, missing many real positives.  \n",
    "- If **recall is high** but **precision is low**, the model is **too lenient**, leading to too many false positives.  \n",
    "- **F1 balances this trade-off**, making it especially useful when **both false positives and false negatives have consequences** (e.g., fraud detection, medical diagnosis).  \n",
    "\n",
    "While **F1 is harder to interpret** than precision or recall alone, it **ensures the model isn’t overly biased toward one metric**, providing a more comprehensive evaluation."
   ]
  },
  {
   "cell_type": "markdown",
   "id": "224c60cc",
   "metadata": {},
   "source": [
    "### Gain clarity with the confusion matrix\n",
    "\n",
    "I will create a confusion matrix based on my predicted values for the test set. This will provide a visual representation of the true and false positives, as well as the true and false negatives, which feed into the metrics like accuracy, precision, recall, and F1 score."
   ]
  },
  {
   "cell_type": "code",
   "execution_count": 105,
   "id": "72802aef",
   "metadata": {},
   "outputs": [
    {
     "data": {
      "image/png": "[encoded data removed]",
      "text/plain": [
       "<Figure size 640x480 with 2 Axes>"
      ]
     },
     "metadata": {},
     "output_type": "display_data"
    }
   ],
   "source": [
    "cm = metrics.confusion_matrix(y_test, y_pred)\n",
    "\n",
    "disp = metrics.ConfusionMatrixDisplay(confusion_matrix=cm, display_labels=tuned_airline_xgb_cv.classes_)\n",
    "\n",
    "disp.plot()\n",
    "\n",
    "plt.show()"
   ]
  },
  {
   "cell_type": "markdown",
   "id": "855310a3",
   "metadata": {},
   "source": [
    "#### **Interpreting the Confusion Matrix and Its Correlation with Evaluation Metrics**\n",
    "\n",
    "**Observations from the Confusion Matrix**  \n",
    "\n",
    "- **True Positives (TP) = 16,699** → Correctly predicted **satisfied (1)** cases.  \n",
    "- **True Negatives (TN) = 13,709** → Correctly predicted **dissatisfied (0)** cases.  \n",
    "- **False Positives (FP) = 911** → Incorrectly predicted **satisfied (1)** when actually **dissatisfied (0)**.  \n",
    "- **False Negatives (FN) = 1,151** → Incorrectly predicted **dissatisfied (0)** when actually **satisfied (1)**.  \n",
    "\n",
    "Since **false negatives (1,151) are higher than false positives (911)**, the model **misses** satisfied customers more often than it incorrectly predicts dissatisfaction.  \n",
    "\n",
    "### **Does This Correlate to Other Metrics?**  \n",
    "\n",
    "- **Accuracy:**  \n",
    "  $$  \n",
    "  \\frac{TP + TN}{TP + TN + FP + FN} = \\frac{16699 + 13709}{16699 + 13709 + 911 + 1151} \\approx 0.937  \n",
    "  $$  \n",
    "  This matches the **accuracy score: 0.9365**.  \n",
    "\n",
    "- **Precision (for satisfied class):**  \n",
    "  $$  \n",
    "  \\frac{TP}{TP + FP} = \\frac{16699}{16699 + 911} \\approx 0.948  \n",
    "  $$  \n",
    "  This aligns with the **precision score: 0.9483**, indicating that **94.83% of predicted \"satisfied\" cases were actually satisfied**.  \n",
    "\n",
    "- **Recall (for satisfied class):**  \n",
    "  $$  \n",
    "  \\frac{TP}{TP + FN} = \\frac{16699}{16699 + 1151} \\approx 0.935  \n",
    "  $$  \n",
    "  This matches the **recall score: 0.9355**, meaning the model correctly identified **93.55% of all actual satisfied customers**.  \n",
    "\n",
    "- **F1 Score:**  \n",
    "  $$  \n",
    "  2 \\times \\frac{\\text{Precision} \\times \\text{Recall}}{\\text{Precision} + \\text{Recall}} = 2 \\times \\frac{0.948 \\times 0.935}{0.948 + 0.935} \\approx 0.942  \n",
    "  $$  \n",
    "  This corresponds to the **F1 score: 0.9418**, balancing precision and recall."
   ]
  },
  {
   "cell_type": "markdown",
   "id": "537a8aa0",
   "metadata": {},
   "source": [
    "### Visualize most important features\n",
    "\n",
    "I will use `xgboost`'s built-in function to visualize the relative importance of the features in the model using `matplotlib`. Then, I will output and examine the feature importance of my model."
   ]
  },
  {
   "cell_type": "code",
   "execution_count": 106,
   "id": "8c24eb96",
   "metadata": {},
   "outputs": [
    {
     "data": {
      "text/plain": [
       "<Axes: title={'center': 'Feature importance'}, xlabel='Importance score', ylabel='Features'>"
      ]
     },
     "execution_count": 106,
     "metadata": {},
     "output_type": "execute_result"
    },
    {
     "data": {
      "image/png": "[encoded data removed]",
      "text/plain": [
       "<Figure size 640x480 with 1 Axes>"
      ]
     },
     "metadata": {},
     "output_type": "display_data"
    }
   ],
   "source": [
    "plot_importance(tuned_airline_xgb_cv.best_estimator_)"
   ]
  },
  {
   "cell_type": "markdown",
   "id": "0a027ee3",
   "metadata": {},
   "source": [
    "#### **Assessment and Insights from Feature Importance in Passenger Satisfaction**\n",
    "\n",
    "**Assessment of Feature Importance Results**  \n",
    "\n",
    "1. **Most Influential Feature: \"Seat Comfort\" (90.0)**  \n",
    "   - It is expected that seat comfort plays the biggest role in passenger satisfaction, as it directly affects the overall flight experience.  \n",
    "   - The strong influence could also be related to the differences in seating between first class and economy, reinforcing how premium seating enhances satisfaction.  \n",
    "\n",
    "2. **Surprisingly High Impact of \"Age\" (49.0)**  \n",
    "   - Age ranking second is unexpected. While it may correlate with travel preferences, its strong influence suggests potential underlying factors, such as differences in expectations or comfort needs across age groups.  \n",
    "\n",
    "3. **Food & Drink (46.0) and Service Factors**  \n",
    "   - In-flight meals and beverages significantly impact the passenger experience, making this ranking logical.  \n",
    "   - Other service-related factors such as **cleanliness (36.0), gate location (37.0), inflight entertainment (29.0), ease of online booking (29.0), and baggage handling (22.0)** also contribute meaningfully to satisfaction.  \n",
    "\n",
    "4. **\"Type of Travel\" (Business Travel: 39.0)**  \n",
    "   - Business travelers likely have higher expectations regarding service and comfort, which aligns with this feature’s importance.  \n",
    "\n",
    "5. **Surprise: Low Impact of Delays**  \n",
    "   - *Departure Delay (14.0) and Arrival Delay (11.0)* ranked lower than expected.  \n",
    "   - This suggests that while delays are frustrating, passengers might prioritize overall comfort and service over punctuality.  \n",
    "\n",
    "6. **Surprise: Class Importance is Lower than Expected**  \n",
    "   - *Class (Business: 18.0, Economy: 9.0, Economy Plus: 1.0)* had less influence than anticipated.  \n",
    "   - This indicates that **within-class service quality matters more than simply flying in a premium class**.  \n",
    "\n",
    "**Observations:**  \n",
    "- The results reinforce that **comfort and service-related factors** dominate passenger satisfaction.  \n",
    "- The **unexpected importance of age** and the **lower-than-expected influence of delays and travel class** were surprising.  \n",
    "- **Airlines should prioritize enhancing seat comfort, food quality, and service experiences rather than focusing solely on reducing delays** to improve overall satisfaction."
   ]
  },
  {
   "cell_type": "markdown",
   "id": "e121f5ea",
   "metadata": {},
   "source": [
    "### Compare models\n",
    "\n",
    "I will create a table of results to compare model performance."
   ]
  },
  {
   "cell_type": "code",
   "execution_count": 107,
   "id": "c892250c",
   "metadata": {},
   "outputs": [
    {
     "data": {
      "text/html": [
       "<div>\n",
       "<style scoped>\n",
       "    .dataframe tbody tr th:only-of-type {\n",
       "        vertical-align: middle;\n",
       "    }\n",
       "\n",
       "    .dataframe tbody tr th {\n",
       "        vertical-align: top;\n",
       "    }\n",
       "\n",
       "    .dataframe thead th {\n",
       "        text-align: right;\n",
       "    }\n",
       "</style>\n",
       "<table border=\"1\" class=\"dataframe\">\n",
       "  <thead>\n",
       "    <tr style=\"text-align: right;\">\n",
       "      <th></th>\n",
       "      <th>Model</th>\n",
       "      <th>F1</th>\n",
       "      <th>Recall</th>\n",
       "      <th>Precision</th>\n",
       "      <th>Accuracy</th>\n",
       "    </tr>\n",
       "  </thead>\n",
       "  <tbody>\n",
       "    <tr>\n",
       "      <th>0</th>\n",
       "      <td>Logistic Regression</td>\n",
       "      <td>0.818827</td>\n",
       "      <td>0.821530</td>\n",
       "      <td>0.816142</td>\n",
       "      <td>0.801529</td>\n",
       "    </tr>\n",
       "    <tr>\n",
       "      <th>1</th>\n",
       "      <td>Tuned Decision Tree</td>\n",
       "      <td>0.945422</td>\n",
       "      <td>0.935863</td>\n",
       "      <td>0.955197</td>\n",
       "      <td>0.940864</td>\n",
       "    </tr>\n",
       "    <tr>\n",
       "      <th>2</th>\n",
       "      <td>Tuned Random Forest</td>\n",
       "      <td>0.947306</td>\n",
       "      <td>0.944501</td>\n",
       "      <td>0.950128</td>\n",
       "      <td>0.942450</td>\n",
       "    </tr>\n",
       "    <tr>\n",
       "      <th>3</th>\n",
       "      <td>Tuned XGBoost</td>\n",
       "      <td>0.941850</td>\n",
       "      <td>0.935518</td>\n",
       "      <td>0.948268</td>\n",
       "      <td>0.936495</td>\n",
       "    </tr>\n",
       "  </tbody>\n",
       "</table>\n",
       "</div>"
      ],
      "text/plain": [
       "                 Model        F1    Recall  Precision  Accuracy\n",
       "0  Logistic Regression  0.818827  0.821530   0.816142  0.801529\n",
       "1  Tuned Decision Tree  0.945422  0.935863   0.955197  0.940864\n",
       "2  Tuned Random Forest  0.947306  0.944501   0.950128  0.942450\n",
       "3        Tuned XGBoost  0.941850  0.935518   0.948268  0.936495"
      ]
     },
     "execution_count": 107,
     "metadata": {},
     "output_type": "execute_result"
    }
   ],
   "source": [
    "table = pd.DataFrame({'Model': [\"Logistic Regression\", \"Tuned Decision Tree\", \"Tuned Random Forest\", \"Tuned XGBoost\"],\n",
    "                      'F1': [0.818827, 0.945422, 0.947306, f1_score],\n",
    "                      'Recall': [0.821530, 0.935863, 0.944501, rc_score],\n",
    "                      'Precision': [0.816142, 0.955197, 0.950128, pc_score],\n",
    "                      'Accuracy': [0.801529, 0.940864, 0.942450, ac_score]\n",
    "                     }\n",
    "                    )\n",
    "table"
   ]
  },
  {
   "cell_type": "markdown",
   "id": "ce544c8b",
   "metadata": {},
   "source": [
    "## Comparison of Models: Logistic Regression, Decision Tree, Random Forest, and XGBoost\n",
    "\n",
    "- **Best Overall Model: Tuned Random Forest**\n",
    "   - **Highest F1 Score (0.9473)** → This model strikes the best balance between precision and recall.\n",
    "   - **Highest Recall (0.9445)** → It captures the most actual positive cases.\n",
    "   - **Highest Accuracy (0.9425)** → Provides the most reliable and consistent overall performance.\n",
    "\n",
    "- **Decision Tree vs. XGBoost**\n",
    "   - **Decision Tree** achieves the highest **precision (0.9552)**, meaning it is the best at minimizing false positives.\n",
    "   - **Decision Tree** also slightly outperforms **XGBoost** in terms of **F1 score (0.9454 vs. 0.9418)**, providing a more balanced performance when considering both precision and recall.\n",
    "   - **XGBoost** performs well in maintaining a high **recall (0.9355)**, demonstrating its ability to capture true positives effectively, while **precision (0.9483)** remains competitive.\n",
    "\n",
    "- **Logistic Regression Performance**\n",
    "   - Logistic regression has the **lowest F1 score (0.8188)** and **accuracy (0.8015)** when compared to the other models.\n",
    "   - **Recall (0.8215)** is relatively high, but precision (0.8161) lags behind, suggesting that while it detects a good portion of true positives, it also misidentifies many false positives.\n",
    "   \n",
    "- **Tuned Model Trade-offs**\n",
    "   - **Tuned Decision Tree** and **Random Forest** excel at balancing precision, recall, and accuracy. However, **Random Forest** is more reliable across all key metrics.\n",
    "   - **XGBoost** performs well in terms of recall and precision but shows slightly lower F1 score and accuracy compared to **Random Forest** and **Decision Tree**.\n",
    "\n",
    "**Key Insights:**  \n",
    "- **Random Forest** emerges as the strongest model, offering the highest overall performance across precision, recall, F1 score, and accuracy.\n",
    "- **Decision Tree** excels in precision, making it an ideal choice when minimizing false positives is crucial.\n",
    "- **XGBoost** maintains competitive performance but slightly lags behind in overall metrics.\n",
    "- **Logistic Regression**, while effective in simpler models, does not perform as well compared to the tuned tree-based models, especially in terms of F1 score and accuracy. \n",
    "\n",
    "For overall performance with balanced metrics, **Random Forest** is the top choice, offering the best combination of precision, recall, F1 score, and accuracy. **Decision Tree** follows closely, especially valuable when minimizing false positives is a priority. **XGBoost** remains a solid option for those seeking strong, balanced performance with better computational efficiency than a deep decision tree. Meanwhile, **Logistic Regression**, while useful for simpler, interpretable models, falls short against the tuned tree-based models in overall predictive strength and should primarily serve as a baseline benchmark in this scenario."
   ]
  },
  {
   "cell_type": "markdown",
   "id": "5e6c963f",
   "metadata": {},
   "source": [
    "#### **Key Takeaways**\n",
    "\n",
    "- **Model Performance Evaluation Matters**: Random Forest achieved the **highest F1 score (0.9473)**, offering the best balance of precision and recall across models tested.\n",
    "- **Metrics Beyond Accuracy Are Critical**: Precision, recall, and F1 score provided a clearer picture of model quality, especially important when addressing potential class imbalance.\n",
    "- **Feature Importance Insights**: Variables like **seat comfort**, **food quality**, and **passenger age** were consistently the strongest predictors of customer satisfaction — while **flight delays showed a surprisingly minor impact**.\n",
    "- **Prediction Trade-offs Should Be Managed**: The tuned models tended to **miss satisfied customers (false negatives) more than incorrectly predicting satisfaction (false positives)**, suggesting an opportunity for **threshold adjustment** if business goals shift toward recall.\n",
    "- **Proper Data Splitting Secures Valid Evaluation**: A well-planned **train-test split ensured model results generalize to new, unseen data**, safeguarding against overfitting."
   ]
  },
  {
   "cell_type": "markdown",
   "id": "3059a147",
   "metadata": {},
   "source": [
    "#### **Key Findings to Share with the Data Team**\n",
    "\n",
    "- **Random Forest Delivered the Strongest Performance**: With an F1 score of **0.9473**, it outperformed Decision Tree, XGBoost, and Logistic Regression models.\n",
    "- **Balanced Classification Across Models**: Confusion matrices confirmed reliable prediction distributions, with Random Forest and Decision Tree achieving particularly balanced classifications.\n",
    "- **Most Influential Features Identified**: Feature importance rankings consistently highlighted **seat comfort**, **food quality**, and **passenger age** as the primary satisfaction drivers — a valuable insight for operational teams."
   ]
  },
  {
   "cell_type": "markdown",
   "id": "e0e2e755",
   "metadata": {},
   "source": [
    "#### **Recommendations for Stakeholders**\n",
    "\n",
    "- **Invest in Service Enhancements**: Focus improvements on **seat comfort** and **inflight services**, including food and beverage options, as these factors are the most predictive of satisfaction.\n",
    "- **Leverage Personalization by Passenger Age**: Consider developing **age-specific service bundles**, entertainment options, or loyalty offers to cater to demographic preferences.\n",
    "- **Prioritize Experience Over Delays**: Given that **flight delays ranked low in importance**, resources may yield better returns when directed toward **service quality improvements**, such as check-in, baggage handling, and inflight experience.\n",
    "- **Explore Threshold Tuning for Customer Retention**: If retaining satisfied customers is a priority, adjusting the decision threshold could help identify and engage high-value passengers more effectively through tailored marketing or loyalty initiatives."
   ]
  },
  {
   "cell_type": "markdown",
   "id": "4c76f651",
   "metadata": {},
   "source": [
    "## **Conclusion**\n",
    "\n",
    "The **XGBoost model** delivered highly competitive performance, achieving an impressive **accuracy of 93.65%** and an **F1-score of 94.18%**. While it fell slightly short of the **Random Forest model’s F1-score of 94.73%**, XGBoost demonstrated a strong balance between **precision (94.83%) and recall (93.55%)**, confirming its effectiveness for classification tasks in customer satisfaction prediction.\n",
    "\n",
    "Consistent with earlier models, **seat comfort**, **food and drink quality**, and **service-related factors** emerged as the leading predictors of passenger satisfaction. These recurring insights reinforce the importance of focusing on **onboard experience enhancements** to elevate overall customer satisfaction at **Invistico Airlines**.\n",
    "\n",
    "Although **Random Forest remains the top-performing model**, **XGBoost offers a scalable, efficient alternative**, particularly valuable for larger or more complex datasets where computational speed and flexibility are essential. Future opportunities include refining the model through **feature engineering, hyperparameter tuning**, and possibly **integrating ensemble stacking** to further improve predictive accuracy.\n",
    "\n",
    "Ultimately, incorporating these advanced models into **real-time analytics platforms** can empower Invistico Airlines to make proactive, data-driven service improvements, strengthen customer loyalty, and support strategic decision-making for long-term operational success."
   ]
  },
  {
   "cell_type": "markdown",
   "id": "44165326",
   "metadata": {},
   "source": [
    "# **Final Thoughts & Process Overview**\n",
    "\n",
    "This project followed a **structured, end-to-end analytics workflow** to address **Invistico Airlines’ customer satisfaction prediction challenge**. The process moved through **data exploration, preprocessing, model development, model evaluation, and insight generation**, applying four machine learning models: **Logistic Regression, Decision Tree, Random Forest, and XGBoost**. Each phase built iteratively on the last, ensuring a comprehensive and rigorous approach to identifying the strongest predictive solution.\n",
    "\n",
    "Through **exploratory data analysis (EDA)** and statistical modeling, key passenger preferences emerged, with **seat comfort, inflight entertainment, and service quality** consistently ranking as the most influential satisfaction drivers. The modeling phase confirmed that **ensemble methods (Random Forest and XGBoost)** outperformed simpler models, with **Random Forest achieving the highest F1-score and overall performance**.\n",
    "\n",
    "Ultimately, this project highlights the value of **data-driven decision-making** in the airline industry, equipping Invistico Airlines to **enhance customer experiences, optimize services, and implement proactive retention strategies** based on reliable, predictive insights."
   ]
  },
  {
   "cell_type": "markdown",
   "id": "6b4b553d",
   "metadata": {},
   "source": [
    "# **Key Skills Demonstrated**\n",
    "\n",
    "### **Technical Skills**\n",
    "\n",
    "#### **Data Analysis & Exploration**\n",
    "- **Exploratory Data Analysis (EDA):** Uncovered satisfaction patterns and feature relationships using **Pandas, Matplotlib, and Seaborn**.\n",
    "- **Data Cleaning & Preparation:** Addressed missing values, encoded categorical variables, and prepared data for machine learning workflows.\n",
    "\n",
    "#### **Machine Learning & Predictive Modeling**\n",
    "- **Model Development:** Built and compared four models — **Logistic Regression (80.15% accuracy)**, **Decision Tree (93.54%)**, **Random Forest (94.25%)**, and **XGBoost (93.65%)**.\n",
    "- **Hyperparameter Tuning:** Applied **GridSearchCV** to optimize model performance.\n",
    "- **Model Evaluation:** Assessed models using **accuracy, precision, recall, F1-score, and confusion matrices**, ensuring balanced and interpretable performance.\n",
    "\n",
    "### **Programming & Data Management**\n",
    "- **Python Programming:** Utilized **Pandas, Numpy, Matplotlib, Seaborn, Scikit-learn, and XGBoost** for data handling, modeling, and visualization.\n",
    "- **Version Control:** Maintained clean, documented, and reproducible code through **GitHub**.\n",
    "\n",
    "### **Business & Analytical Skills**\n",
    "\n",
    "#### **Insight Generation & Communication**\n",
    "- **Feature Importance Interpretation:** Identified **seat comfort, food quality, and service factors** as primary satisfaction drivers.\n",
    "- **Stakeholder Communication:** Converted technical model results into **clear, actionable recommendations** for operational leaders.\n",
    "\n",
    "#### **Strategic Decision Support**\n",
    "- **Operational Insights:** Discovered that **delays had less impact on satisfaction than expected**, recommending a focus shift to **onboard experience improvements**.\n",
    "- **Decision Threshold Management:** Suggested threshold adjustments to reduce missed satisfied customers, improving retention and loyalty initiatives."
   ]
  },
  {
   "cell_type": "markdown",
   "id": "1f2f0b93",
   "metadata": {},
   "source": [
    "# **Conclusion**\n",
    "\n",
    "The **Invistico Airlines Customer Satisfaction Prediction** project delivered a **comprehensive, end-to-end solution** to forecast passenger satisfaction using **exploratory data analysis (EDA), machine learning techniques**, and **model evaluation**. Through in-depth analysis, I identified **seat comfort**, **inflight entertainment**, and **service quality** as the primary drivers of satisfaction, while factors like **flight delays** and **travel class** had a lesser impact than anticipated.  \n",
    "\n",
    "The **Random Forest model** emerged as the top performer, achieving **94.25% accuracy** and a **94.73% F1-score**, offering interpretable, actionable insights to guide operational strategy. These findings enable Invistico Airlines to proactively improve the **onboard experience, personalize services based on passenger demographics**, and make data-driven decisions to enhance overall customer satisfaction.  \n",
    "\n",
    "By implementing these insights and integrating predictive models into **real-time analytics systems**, Invistico Airlines can effectively **increase customer retention, strengthen brand loyalty**, and position itself for long-term competitive advantage in the aviation market."
   ]
  },
  {
   "cell_type": "markdown",
   "id": "16819d1d",
   "metadata": {},
   "source": [
    "# **Top Recommendations Based on Insights**\n",
    "\n",
    "1. **Deploy the Random Forest Model for Proactive Satisfaction Management**  \n",
    "The **Random Forest model** delivered the highest performance with a **94.73% F1-score**, making it the most reliable tool for predicting customer satisfaction.\n",
    "\n",
    "**Implementation**:  \n",
    "- Integrate the model into **customer experience dashboards** to track satisfaction trends in real time.  \n",
    "- Use predictions to **proactively flag at-risk passengers** and trigger early service recovery interventions.  \n",
    "- Align model outputs with **feedback and loyalty systems** to validate insights and refine retention strategies.\n",
    "\n",
    "2. **Prioritize Enhancements to Seat Comfort and Inflight Services**  \n",
    "**Seat comfort** surfaced as the single most influential factor affecting satisfaction, alongside **food and drink quality** and **inflight entertainment**.\n",
    "\n",
    "**Implementation**:  \n",
    "- Invest in **seat upgrades**, including ergonomic seating and premium legroom options.  \n",
    "- Revamp **meal and beverage offerings**, with emphasis on dietary flexibility and improved presentation.  \n",
    "- Expand **entertainment selections**, improve **Wi-Fi stability**, and introduce **interactive content**.\n",
    "\n",
    "3. **Optimize the Online Booking Process**  \n",
    "Ease of booking ranked among the top predictors of satisfaction, underscoring the importance of a seamless digital experience.\n",
    "\n",
    "**Implementation**:  \n",
    "- Redesign the **booking interface** for intuitive, mobile-friendly navigation.  \n",
    "- Remove redundant steps in the **checkout process** to reduce friction.  \n",
    "- Personalize booking options using **past travel behavior** to increase convenience and satisfaction.\n",
    "\n",
    "4. **Develop Age-Based Service Personalization**  \n",
    "Passenger **age** proved a surprisingly strong satisfaction predictor, suggesting varying expectations across age groups.\n",
    "\n",
    "**Implementation**:  \n",
    "- Design **age-specific service bundles** — family-friendly amenities for younger travelers and premium comfort packages for older customers.  \n",
    "- Train cabin crews to adapt services to **generational preferences**.  \n",
    "- Offer **customized loyalty rewards** aligned with age-related travel habits.\n",
    "\n",
    "5. **Refine Delay Management Focus**  \n",
    "Contrary to expectations, **flight delays** had less impact on satisfaction than service-related factors.\n",
    "\n",
    "**Implementation**:  \n",
    "- Maintain delay management efforts but shift some resources toward **onboard service quality improvements**.  \n",
    "- Enhance **delay communication practices** with proactive updates, compensation options, and seamless rebooking processes."
   ]
  },
  {
   "cell_type": "markdown",
   "id": "d715cbe8",
   "metadata": {},
   "source": [
    "# **Application of Insights**\n",
    "\n",
    "These insights can be **directly operationalized** to elevate Invistico Airlines' customer experience strategy:\n",
    "\n",
    "- **Service Enhancements**: Prioritize **seat comfort**, **meal quality**, and **entertainment upgrades** as core satisfaction drivers.  \n",
    "- **Personalized Experiences**: Leverage **age and travel history data** to tailor services, improving relevance and appeal.  \n",
    "- **Digital Journey Optimization**: Streamline **online booking** to reduce friction and improve conversion rates.  \n",
    "- **Proactive Customer Recovery**: Use the **predictive model** to identify and engage dissatisfied customers before issues escalate.  \n",
    "- **Strategic Resource Allocation**: Shift part of the operational focus from delays to **enhancing inflight experiences**, where satisfaction impact is stronger."
   ]
  },
  {
   "cell_type": "markdown",
   "id": "50f88f07",
   "metadata": {},
   "source": [
    "# **Next Steps**\n",
    "\n",
    "To further strengthen predictive capabilities and customer experience strategy, the following actions are recommended:\n",
    "\n",
    "- **Expand Feature Engineering and Data Collection**:  \n",
    "  - Integrate **post-flight survey data** for real-time satisfaction trends.  \n",
    "  - Apply **sentiment analysis on customer reviews** to capture qualitative insights.  \n",
    "  - Explore additional predictors like **crew service quality** or **loyalty engagement metrics**.\n",
    "\n",
    "- **Experiment with Advanced Modeling Techniques**:  \n",
    "  - Test **stacked ensemble models** combining Random Forest, XGBoost, and neural networks for higher accuracy.  \n",
    "  - Use **SHAP analysis** for deeper interpretability of feature influence.  \n",
    "  - Explore **anomaly detection** to uncover unusual satisfaction patterns or service issues.\n",
    "\n",
    "- **Optimize Model Performance for Business Impact**:  \n",
    "  - Adjust **classification thresholds** based on whether it’s more critical to avoid dissatisfied customers being missed (false negatives) or to manage over-alerting (false positives).  \n",
    "  - Implement **continuous retraining cycles** to reflect evolving customer preferences and operational realities.\n",
    "\n",
    "- **Pilot Service Enhancements and Track Impact**:  \n",
    "  - Conduct controlled trials for **seat comfort upgrades** and **meal enhancements** on select routes, measuring satisfaction before scaling.  \n",
    "  - Test **personalized inflight offers** for customers flagged as at-risk by the model.\n",
    "\n",
    "- **Monitor for Bias and Ethical Risk**:  \n",
    "  - Regularly audit model predictions across **demographic and travel segments** to ensure fairness.  \n",
    "  - Uphold **privacy and data protection standards** when using personal information for service personalization.\n",
    "\n",
    "By executing these steps, Invistico Airlines can **elevate customer satisfaction, improve operational focus**, and maintain a competitive edge through data-driven, personalized, and proactive service delivery."
   ]
  }
 ],
 "metadata": {
  "kernelspec": {
   "display_name": "venv",
   "language": "python",
   "name": "python3"
  },
  "language_info": {
   "codemirror_mode": {
    "name": "ipython",
    "version": 3
   },
   "file_extension": ".py",
   "mimetype": "text/x-python",
   "name": "python",
   "nbconvert_exporter": "python",
   "pygments_lexer": "ipython3",
   "version": "3.13.0"
  }
 },
 "nbformat": 4,
 "nbformat_minor": 5
}
