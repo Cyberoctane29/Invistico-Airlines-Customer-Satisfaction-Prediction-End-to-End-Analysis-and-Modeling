{
 "cells": [
  {
   "attachments": {
    "bgr_logo-2.png": {
     "image/png": "[encoded data removed]"
    }
   },
   "cell_type": "markdown",
   "id": "12a17f4d",
   "metadata": {},
   "source": [
    "| ![bgr_logo-2.png](attachment:bgr_logo-2.png) | \n",
    "|----------------------------------------------|"
   ]
  },
  {
   "cell_type": "markdown",
   "id": "38c009b8",
   "metadata": {},
   "source": [
    "# Invistico Airlines Customer Satisfaction Prediction: End to End Analysis and Modeling"
   ]
  },
  {
   "cell_type": "markdown",
   "id": "e87ed234",
   "metadata": {},
   "source": [
    "## **Introduction**  \n",
    "\n",
    "**Invistico Airlines**, a growing leader in the commercial aviation industry, has brought me on board as a newly hired data analytics professional. As part of their customer experience and analytics team, I am tasked with analyzing customer satisfaction trends to help the company improve in-flight services, enhance customer retention, and elevate the overall passenger experience. I will put into practice the full range of data analytics skills I’ve developed throughout this course. This includes setting up workflows, conducting exploratory data analysis (EDA), building predictive models, and communicating key insights to stakeholders.\n",
    "\n",
    "Using Python, I will build and evaluate both statistical and machine learning models—including binomial logistic regression, decision tree, random forest, and XGBoost—to predict whether a customer is likely to be satisfied with their flight experience. My ultimate goal is to select a champion model based on performance evaluation and provide actionable, data-driven recommendations that can help **Invistico Airlines** optimize service quality and strengthen customer loyalty.\n",
    "\n",
    "### **Company Background**\n",
    "\n",
    "**Invistico Airlines** is a fictional global airline based in the heart of the aviation industry. With a diverse and dedicated workforce, Invistico serves millions of passengers annually across its expansive network of domestic and international routes. Known for its commitment to providing an exceptional travel experience, Invistico focuses on integrating cutting-edge technology with high-quality in-flight services, including entertainment, seat comfort, and overall on-board service.\n",
    "\n",
    "The airline has grown rapidly over the years and aims to maintain its competitive edge by continuously enhancing customer satisfaction and loyalty. However, in a highly competitive market, improving passenger experience and retaining customers remains a key challenge. By utilizing data-driven insights and predictive modeling, Invistico Airlines aims to better understand the factors influencing customer satisfaction and take action to enhance service quality, optimize operations, and ultimately build lasting relationships with its passengers.\n",
    "\n",
    "### **The Invistico Airlines Scenario**\n",
    "\n",
    "As part of Invistico Airlines' data analytics team, I have been tasked with addressing a critical challenge which is improving customer satisfaction and retention. With the airline industry being highly competitive, maintaining high levels of customer satisfaction is crucial for sustaining growth and enhancing brand loyalty. Invistico is particularly interested in understanding the key factors that influence customer satisfaction, especially in relation to in-flight experiences like entertainment, seat comfort, and on-board services.\n",
    "\n",
    "To better understand this, Invistico Airlines has gathered customer feedback through surveys, covering aspects such as flight distance, class, in-flight entertainment, and more. My role as a data analytics professional is to analyze this data and build predictive models to help the company anticipate future customer satisfaction. By identifying the key drivers of satisfaction, Invistico hopes to tailor their services to meet customer expectations, improve overall service quality, and increase customer retention (churn), ultimately leading to a more loyal customer base and better business outcomes.\n",
    "\n",
    "### **Project Scope**\n",
    "\n",
    "This project focuses on developing a predictive model that helps **Invistico Airlines** better understand the factors influencing customer satisfaction. The goal is to predict whether a future customer will be satisfied based on various features collected from past passenger feedback, including flight class, distance, in-flight entertainment, and overall service quality.\n",
    "\n",
    "The project will follow the complete data analytics lifecycle, starting with exploratory data analysis (EDA) to uncover patterns and trends in the data. I will then proceed to develop and evaluate multiple models, including a binomial logistic regression model, decision tree, random forest, and XGBoost model. The objective is to determine which model is most accurate in predicting customer satisfaction based on the available features.\n",
    "\n",
    "By integrating both statistical and machine learning techniques, the project ensures a comprehensive approach to understanding customer satisfaction. Ultimately, the best-performing model will provide **Invistico Airlines** with valuable insights that can guide improvements in service offerings, enhance passenger experience, and drive higher customer retention rates.\n",
    "\n",
    "### **Business Impact**\n",
    "\n",
    "An effective predictive model will help **Invistico Airlines** identify the key factors driving customer satisfaction and dissatisfaction. By understanding these drivers, the airline can take targeted actions to improve its in-flight services, enhance customer experience, and address areas that may be negatively impacting passenger satisfaction.\n",
    "\n",
    "Ultimately, improving customer satisfaction will lead to higher customer retention, increased loyalty, and positive word-of-mouth, which can drive repeat business. A better customer experience also contributes to a competitive edge in the highly competitive airline industry, ensuring that **Invistico Airlines** remains a preferred choice for travelers and continues to grow its market share."
   ]
  },
  {
   "cell_type": "markdown",
   "id": "949476fc",
   "metadata": {},
   "source": [
    "## **Dataset Structure**\n",
    "\n",
    "This dataset, titled **Invistico_Airline.csv**, contains information on **129,880 customers** of Invistico Airlines. Each row represents a unique passenger and includes survey responses about their flight experience. The target variable, `satisfaction`, indicates whether the customer was satisfied with their flight experience, with two possible values: \"satisfied\" and \"dissatisfied.\"\n",
    "\n",
    "The dataset captures a wide range of features related to customer experience, including demographic details, flight characteristics, and service ratings. These features encompass **customer type**, **age**, **flight class**, **flight distance**, and various **in-flight service ratings** such as seat comfort, food and drink, and entertainment.\n",
    "\n",
    "| Column Name                             | Type    | Description                                                             |\n",
    "|-----------------------------------------|---------|-------------------------------------------------------------------------|\n",
    "| satisfaction                            | object  | Indicates whether the customer is satisfied or dissatisfied with the flight experience |\n",
    "| Customer Type                           | object  | Type of customer: Loyal Customer or Disloyal Customer                     |\n",
    "| Age                                     | int64   | The age of the customer                                                  |\n",
    "| Type of Travel                          | object  | Type of travel: Personal Travel or Business Travel                       |\n",
    "| Class                                   | object  | Flight class: Eco, Business, or First Class                              |\n",
    "| Flight Distance                         | int64   | Distance of the flight in miles                                          |\n",
    "| Seat comfort                            | int64   | Rating of seat comfort (1–5)                                             |\n",
    "| Departure/Arrival time convenient       | int64   | Rating of convenience of departure and arrival times (1–5)               |\n",
    "| Food and drink                          | int64   | Rating of food and drink options (1–5)                                   |\n",
    "| Gate location                           | int64   | Rating of gate location (1–5)                                           |\n",
    "| Inflight wifi service                   | int64   | Rating of in-flight wifi service (1–5)                                   |\n",
    "| Inflight entertainment                  | int64   | Rating of in-flight entertainment options (1–5)                          |\n",
    "| Online support                          | int64   | Rating of online support (1–5)                                          |\n",
    "| Ease of Online booking                  | int64   | Rating of ease of online booking process (1–5)                           |\n",
    "| On-board service                        | int64   | Rating of on-board service (1–5)                                         |\n",
    "| Leg room service                        | int64   | Rating of leg room service (1–5)                                         |\n",
    "| Baggage handling                        | int64   | Rating of baggage handling service (1–5)                                 |\n",
    "| Checkin service                         | int64   | Rating of check-in service (1–5)                                         |\n",
    "| Cleanliness                             | int64   | Rating of cleanliness (1–5)                                              |\n",
    "| Online boarding                         | int64   | Rating of online boarding service (1–5)                                  |\n",
    "| Departure Delay in Minutes              | int64   | Number of minutes the flight was delayed during departure                |\n",
    "| Arrival Delay in Minutes                | float64 | Number of minutes the flight was delayed upon arrival                    |\n",
    "\n",
    "This dataset provides a comprehensive view of customer satisfaction across different aspects of their flight experience, enabling analysis and predictive modeling to identify key factors influencing customer satisfaction."
   ]
  },
  {
   "cell_type": "markdown",
   "id": "ededae52",
   "metadata": {},
   "source": [
    "## **Overview**"
   ]
  },
  {
   "cell_type": "markdown",
   "id": "5d053771",
   "metadata": {},
   "source": [
    "### **Library & Package Versions**\n",
    "\n",
    "The following versions of the libraries and packages were used for this project:\n",
    "\n",
    "- **Python Version:** 3.12.4  \n",
    "- **NumPy Version:** 2.2.5  \n",
    "- **Pandas Version:** 2.2.3  \n",
    "- **Matplotlib Version:** 3.10.1  \n",
    "- **Seaborn Version:** 0.13.2  \n",
    "- **Scikit-learn Version:** 1.6.1  \n",
    "- **XGBoost Version:** 3.0.0\n",
    "\n",
    "Ensuring consistency in package versions helps maintain reproducibility and compatibility throughout the analysis. This allows the methods and results to be reliably replicated, promoting a smooth and accurate execution of data processing and modeling tasks."
   ]
  },
  {
   "cell_type": "markdown",
   "id": "3a196929",
   "metadata": {},
   "source": [
    "# Logistic Regression Model Implementation"
   ]
  },
  {
   "cell_type": "markdown",
   "id": "fa94f0c7",
   "metadata": {},
   "source": [
    "### **Libraries and Tools Used**\n",
    "\n",
    "- **pandas** for data manipulation, cleaning, and analysis  \n",
    "- **numpy** for numerical computations and handling arrays  \n",
    "- **matplotlib** and **seaborn** for creating visualizations and statistical plots  \n",
    "- **scikit-learn** libraries for building machine learning models, including:\n",
    "  - **LogisticRegression** for logistic regression modeling  \n",
    "  - **DecisionTreeClassifier** for decision tree classification  \n",
    "  - **RandomForestClassifier** for random forest ensemble modeling  \n",
    "  - **OneHotEncoder** for encoding categorical variables  \n",
    "  - **train_test_split** for splitting data into training and testing sets  \n",
    "  - **GridSearchCV** for hyperparameter tuning  \n",
    "  - **PredefinedSplit** for custom train/test splits  \n",
    "  - **metrics** module and individual functions like **accuracy_score**, **precision_score**, **recall_score**, and **f1_score** for model evaluation  \n",
    "- **xgboost** for advanced gradient boosting machine learning with **XGBClassifier** and visualizing feature importance with **plot_importance**  \n",
    "- **pickle** for saving and loading trained models for future use and deployment  \n",
    "\n",
    "This combination of tools ensures a comprehensive workflow from data preparation and exploration to model building, tuning, evaluation, and deployment."
   ]
  },
  {
   "cell_type": "markdown",
   "id": "8ec271a5",
   "metadata": {},
   "source": [
    "### Import packages"
   ]
  },
  {
   "cell_type": "code",
   "execution_count": 49,
   "id": "cd6451ea",
   "metadata": {},
   "outputs": [],
   "source": [
    "# Standard operational package imports\n",
    "import numpy as np  \n",
    "import pandas as pd  \n",
    "\n",
    "# for preprocessing and feature engineering\n",
    "from sklearn.preprocessing import OneHotEncoder  \n",
    "\n",
    "# for splitting data and tuning models\n",
    "from sklearn.model_selection import train_test_split, GridSearchCV, PredefinedSplit  \n",
    "\n",
    "# imports for modeling\n",
    "from sklearn.linear_model import LogisticRegression  \n",
    "from sklearn.tree import DecisionTreeClassifier, plot_tree  \n",
    "from sklearn.ensemble import RandomForestClassifier  \n",
    "from xgboost import XGBClassifier, plot_importance \n",
    "\n",
    "# for evaluation and metrics\n",
    "import sklearn.metrics as metrics \n",
    "from sklearn.metrics import f1_score, precision_score, recall_score, accuracy_score  \n",
    "\n",
    "# Visualization package imports\n",
    "import matplotlib.pyplot as plt  \n",
    "import seaborn as sns  \n",
    "\n",
    "# For saving models\n",
    "import pickle"
   ]
  },
  {
   "cell_type": "markdown",
   "id": "f8cd078a",
   "metadata": {},
   "source": [
    "### Load dataset\n",
    "\n",
    "`Pandas` is used to read the dataset"
   ]
  },
  {
   "cell_type": "code",
   "execution_count": 50,
   "id": "170e25a7",
   "metadata": {},
   "outputs": [],
   "source": [
    "airline_df=pd.read_csv(r\"C:\\Users\\saswa\\Documents\\GitHub\\Airline-Customer-Satisfaction-End-to-End-Analysis-and-Modeling\\Data\\Invistico_Airline.csv\")"
   ]
  },
  {
   "cell_type": "markdown",
   "id": "0abb5967",
   "metadata": {},
   "source": [
    "### Data Exploration (Initial EDA and data cleaning)\n",
    "\n",
    "- Understanding the variables\n",
    "- Cleaning the dataset (missing data, redundant data, outliers)"
   ]
  },
  {
   "cell_type": "markdown",
   "id": "72127f04",
   "metadata": {},
   "source": [
    "### Output the first 10 rows\n",
    "\n",
    "To get a quick look at the dataset, I output the first 10 rows of data."
   ]
  },
  {
   "cell_type": "code",
   "execution_count": 51,
   "id": "402eeeb9",
   "metadata": {},
   "outputs": [
    {
     "data": {
      "text/html": [
       "<div>\n",
       "<style scoped>\n",
       "    .dataframe tbody tr th:only-of-type {\n",
       "        vertical-align: middle;\n",
       "    }\n",
       "\n",
       "    .dataframe tbody tr th {\n",
       "        vertical-align: top;\n",
       "    }\n",
       "\n",
       "    .dataframe thead th {\n",
       "        text-align: right;\n",
       "    }\n",
       "</style>\n",
       "<table border=\"1\" class=\"dataframe\">\n",
       "  <thead>\n",
       "    <tr style=\"text-align: right;\">\n",
       "      <th></th>\n",
       "      <th>satisfaction</th>\n",
       "      <th>Customer Type</th>\n",
       "      <th>Age</th>\n",
       "      <th>Type of Travel</th>\n",
       "      <th>Class</th>\n",
       "      <th>Flight Distance</th>\n",
       "      <th>Seat comfort</th>\n",
       "      <th>Departure/Arrival time convenient</th>\n",
       "      <th>Food and drink</th>\n",
       "      <th>Gate location</th>\n",
       "      <th>...</th>\n",
       "      <th>Online support</th>\n",
       "      <th>Ease of Online booking</th>\n",
       "      <th>On-board service</th>\n",
       "      <th>Leg room service</th>\n",
       "      <th>Baggage handling</th>\n",
       "      <th>Checkin service</th>\n",
       "      <th>Cleanliness</th>\n",
       "      <th>Online boarding</th>\n",
       "      <th>Departure Delay in Minutes</th>\n",
       "      <th>Arrival Delay in Minutes</th>\n",
       "    </tr>\n",
       "  </thead>\n",
       "  <tbody>\n",
       "    <tr>\n",
       "      <th>0</th>\n",
       "      <td>satisfied</td>\n",
       "      <td>Loyal Customer</td>\n",
       "      <td>65</td>\n",
       "      <td>Personal Travel</td>\n",
       "      <td>Eco</td>\n",
       "      <td>265</td>\n",
       "      <td>0</td>\n",
       "      <td>0</td>\n",
       "      <td>0</td>\n",
       "      <td>2</td>\n",
       "      <td>...</td>\n",
       "      <td>2</td>\n",
       "      <td>3</td>\n",
       "      <td>3</td>\n",
       "      <td>0</td>\n",
       "      <td>3</td>\n",
       "      <td>5</td>\n",
       "      <td>3</td>\n",
       "      <td>2</td>\n",
       "      <td>0</td>\n",
       "      <td>0.0</td>\n",
       "    </tr>\n",
       "    <tr>\n",
       "      <th>1</th>\n",
       "      <td>satisfied</td>\n",
       "      <td>Loyal Customer</td>\n",
       "      <td>47</td>\n",
       "      <td>Personal Travel</td>\n",
       "      <td>Business</td>\n",
       "      <td>2464</td>\n",
       "      <td>0</td>\n",
       "      <td>0</td>\n",
       "      <td>0</td>\n",
       "      <td>3</td>\n",
       "      <td>...</td>\n",
       "      <td>2</td>\n",
       "      <td>3</td>\n",
       "      <td>4</td>\n",
       "      <td>4</td>\n",
       "      <td>4</td>\n",
       "      <td>2</td>\n",
       "      <td>3</td>\n",
       "      <td>2</td>\n",
       "      <td>310</td>\n",
       "      <td>305.0</td>\n",
       "    </tr>\n",
       "    <tr>\n",
       "      <th>2</th>\n",
       "      <td>satisfied</td>\n",
       "      <td>Loyal Customer</td>\n",
       "      <td>15</td>\n",
       "      <td>Personal Travel</td>\n",
       "      <td>Eco</td>\n",
       "      <td>2138</td>\n",
       "      <td>0</td>\n",
       "      <td>0</td>\n",
       "      <td>0</td>\n",
       "      <td>3</td>\n",
       "      <td>...</td>\n",
       "      <td>2</td>\n",
       "      <td>2</td>\n",
       "      <td>3</td>\n",
       "      <td>3</td>\n",
       "      <td>4</td>\n",
       "      <td>4</td>\n",
       "      <td>4</td>\n",
       "      <td>2</td>\n",
       "      <td>0</td>\n",
       "      <td>0.0</td>\n",
       "    </tr>\n",
       "    <tr>\n",
       "      <th>3</th>\n",
       "      <td>satisfied</td>\n",
       "      <td>Loyal Customer</td>\n",
       "      <td>60</td>\n",
       "      <td>Personal Travel</td>\n",
       "      <td>Eco</td>\n",
       "      <td>623</td>\n",
       "      <td>0</td>\n",
       "      <td>0</td>\n",
       "      <td>0</td>\n",
       "      <td>3</td>\n",
       "      <td>...</td>\n",
       "      <td>3</td>\n",
       "      <td>1</td>\n",
       "      <td>1</td>\n",
       "      <td>0</td>\n",
       "      <td>1</td>\n",
       "      <td>4</td>\n",
       "      <td>1</td>\n",
       "      <td>3</td>\n",
       "      <td>0</td>\n",
       "      <td>0.0</td>\n",
       "    </tr>\n",
       "    <tr>\n",
       "      <th>4</th>\n",
       "      <td>satisfied</td>\n",
       "      <td>Loyal Customer</td>\n",
       "      <td>70</td>\n",
       "      <td>Personal Travel</td>\n",
       "      <td>Eco</td>\n",
       "      <td>354</td>\n",
       "      <td>0</td>\n",
       "      <td>0</td>\n",
       "      <td>0</td>\n",
       "      <td>3</td>\n",
       "      <td>...</td>\n",
       "      <td>4</td>\n",
       "      <td>2</td>\n",
       "      <td>2</td>\n",
       "      <td>0</td>\n",
       "      <td>2</td>\n",
       "      <td>4</td>\n",
       "      <td>2</td>\n",
       "      <td>5</td>\n",
       "      <td>0</td>\n",
       "      <td>0.0</td>\n",
       "    </tr>\n",
       "    <tr>\n",
       "      <th>5</th>\n",
       "      <td>satisfied</td>\n",
       "      <td>Loyal Customer</td>\n",
       "      <td>30</td>\n",
       "      <td>Personal Travel</td>\n",
       "      <td>Eco</td>\n",
       "      <td>1894</td>\n",
       "      <td>0</td>\n",
       "      <td>0</td>\n",
       "      <td>0</td>\n",
       "      <td>3</td>\n",
       "      <td>...</td>\n",
       "      <td>2</td>\n",
       "      <td>2</td>\n",
       "      <td>5</td>\n",
       "      <td>4</td>\n",
       "      <td>5</td>\n",
       "      <td>5</td>\n",
       "      <td>4</td>\n",
       "      <td>2</td>\n",
       "      <td>0</td>\n",
       "      <td>0.0</td>\n",
       "    </tr>\n",
       "    <tr>\n",
       "      <th>6</th>\n",
       "      <td>satisfied</td>\n",
       "      <td>Loyal Customer</td>\n",
       "      <td>66</td>\n",
       "      <td>Personal Travel</td>\n",
       "      <td>Eco</td>\n",
       "      <td>227</td>\n",
       "      <td>0</td>\n",
       "      <td>0</td>\n",
       "      <td>0</td>\n",
       "      <td>3</td>\n",
       "      <td>...</td>\n",
       "      <td>5</td>\n",
       "      <td>5</td>\n",
       "      <td>5</td>\n",
       "      <td>0</td>\n",
       "      <td>5</td>\n",
       "      <td>5</td>\n",
       "      <td>5</td>\n",
       "      <td>3</td>\n",
       "      <td>17</td>\n",
       "      <td>15.0</td>\n",
       "    </tr>\n",
       "    <tr>\n",
       "      <th>7</th>\n",
       "      <td>satisfied</td>\n",
       "      <td>Loyal Customer</td>\n",
       "      <td>10</td>\n",
       "      <td>Personal Travel</td>\n",
       "      <td>Eco</td>\n",
       "      <td>1812</td>\n",
       "      <td>0</td>\n",
       "      <td>0</td>\n",
       "      <td>0</td>\n",
       "      <td>3</td>\n",
       "      <td>...</td>\n",
       "      <td>2</td>\n",
       "      <td>2</td>\n",
       "      <td>3</td>\n",
       "      <td>3</td>\n",
       "      <td>4</td>\n",
       "      <td>5</td>\n",
       "      <td>4</td>\n",
       "      <td>2</td>\n",
       "      <td>0</td>\n",
       "      <td>0.0</td>\n",
       "    </tr>\n",
       "    <tr>\n",
       "      <th>8</th>\n",
       "      <td>satisfied</td>\n",
       "      <td>Loyal Customer</td>\n",
       "      <td>56</td>\n",
       "      <td>Personal Travel</td>\n",
       "      <td>Business</td>\n",
       "      <td>73</td>\n",
       "      <td>0</td>\n",
       "      <td>0</td>\n",
       "      <td>0</td>\n",
       "      <td>3</td>\n",
       "      <td>...</td>\n",
       "      <td>5</td>\n",
       "      <td>4</td>\n",
       "      <td>4</td>\n",
       "      <td>0</td>\n",
       "      <td>1</td>\n",
       "      <td>5</td>\n",
       "      <td>4</td>\n",
       "      <td>4</td>\n",
       "      <td>0</td>\n",
       "      <td>0.0</td>\n",
       "    </tr>\n",
       "    <tr>\n",
       "      <th>9</th>\n",
       "      <td>satisfied</td>\n",
       "      <td>Loyal Customer</td>\n",
       "      <td>22</td>\n",
       "      <td>Personal Travel</td>\n",
       "      <td>Eco</td>\n",
       "      <td>1556</td>\n",
       "      <td>0</td>\n",
       "      <td>0</td>\n",
       "      <td>0</td>\n",
       "      <td>3</td>\n",
       "      <td>...</td>\n",
       "      <td>2</td>\n",
       "      <td>2</td>\n",
       "      <td>2</td>\n",
       "      <td>4</td>\n",
       "      <td>5</td>\n",
       "      <td>3</td>\n",
       "      <td>4</td>\n",
       "      <td>2</td>\n",
       "      <td>30</td>\n",
       "      <td>26.0</td>\n",
       "    </tr>\n",
       "  </tbody>\n",
       "</table>\n",
       "<p>10 rows × 22 columns</p>\n",
       "</div>"
      ],
      "text/plain": [
       "  satisfaction   Customer Type  Age   Type of Travel     Class  \\\n",
       "0    satisfied  Loyal Customer   65  Personal Travel       Eco   \n",
       "1    satisfied  Loyal Customer   47  Personal Travel  Business   \n",
       "2    satisfied  Loyal Customer   15  Personal Travel       Eco   \n",
       "3    satisfied  Loyal Customer   60  Personal Travel       Eco   \n",
       "4    satisfied  Loyal Customer   70  Personal Travel       Eco   \n",
       "5    satisfied  Loyal Customer   30  Personal Travel       Eco   \n",
       "6    satisfied  Loyal Customer   66  Personal Travel       Eco   \n",
       "7    satisfied  Loyal Customer   10  Personal Travel       Eco   \n",
       "8    satisfied  Loyal Customer   56  Personal Travel  Business   \n",
       "9    satisfied  Loyal Customer   22  Personal Travel       Eco   \n",
       "\n",
       "   Flight Distance  Seat comfort  Departure/Arrival time convenient  \\\n",
       "0              265             0                                  0   \n",
       "1             2464             0                                  0   \n",
       "2             2138             0                                  0   \n",
       "3              623             0                                  0   \n",
       "4              354             0                                  0   \n",
       "5             1894             0                                  0   \n",
       "6              227             0                                  0   \n",
       "7             1812             0                                  0   \n",
       "8               73             0                                  0   \n",
       "9             1556             0                                  0   \n",
       "\n",
       "   Food and drink  Gate location  ...  Online support  Ease of Online booking  \\\n",
       "0               0              2  ...               2                       3   \n",
       "1               0              3  ...               2                       3   \n",
       "2               0              3  ...               2                       2   \n",
       "3               0              3  ...               3                       1   \n",
       "4               0              3  ...               4                       2   \n",
       "5               0              3  ...               2                       2   \n",
       "6               0              3  ...               5                       5   \n",
       "7               0              3  ...               2                       2   \n",
       "8               0              3  ...               5                       4   \n",
       "9               0              3  ...               2                       2   \n",
       "\n",
       "   On-board service  Leg room service  Baggage handling  Checkin service  \\\n",
       "0                 3                 0                 3                5   \n",
       "1                 4                 4                 4                2   \n",
       "2                 3                 3                 4                4   \n",
       "3                 1                 0                 1                4   \n",
       "4                 2                 0                 2                4   \n",
       "5                 5                 4                 5                5   \n",
       "6                 5                 0                 5                5   \n",
       "7                 3                 3                 4                5   \n",
       "8                 4                 0                 1                5   \n",
       "9                 2                 4                 5                3   \n",
       "\n",
       "   Cleanliness  Online boarding  Departure Delay in Minutes  \\\n",
       "0            3                2                           0   \n",
       "1            3                2                         310   \n",
       "2            4                2                           0   \n",
       "3            1                3                           0   \n",
       "4            2                5                           0   \n",
       "5            4                2                           0   \n",
       "6            5                3                          17   \n",
       "7            4                2                           0   \n",
       "8            4                4                           0   \n",
       "9            4                2                          30   \n",
       "\n",
       "   Arrival Delay in Minutes  \n",
       "0                       0.0  \n",
       "1                     305.0  \n",
       "2                       0.0  \n",
       "3                       0.0  \n",
       "4                       0.0  \n",
       "5                       0.0  \n",
       "6                      15.0  \n",
       "7                       0.0  \n",
       "8                       0.0  \n",
       "9                      26.0  \n",
       "\n",
       "[10 rows x 22 columns]"
      ]
     },
     "execution_count": 51,
     "metadata": {},
     "output_type": "execute_result"
    }
   ],
   "source": [
    "airline_df.head(10)"
   ]
  },
  {
   "cell_type": "markdown",
   "id": "63afc9f6",
   "metadata": {},
   "source": [
    "### Explore the data\n",
    "\n",
    "I checked the **data type of each column** in the dataset using the `.dtypes` attribute. This step is important because **logistic regression models require all predictor variables to be numeric**. "
   ]
  },
  {
   "cell_type": "code",
   "execution_count": 52,
   "id": "9fd78147",
   "metadata": {},
   "outputs": [
    {
     "data": {
      "text/plain": [
       "satisfaction                          object\n",
       "Customer Type                         object\n",
       "Age                                    int64\n",
       "Type of Travel                        object\n",
       "Class                                 object\n",
       "Flight Distance                        int64\n",
       "Seat comfort                           int64\n",
       "Departure/Arrival time convenient      int64\n",
       "Food and drink                         int64\n",
       "Gate location                          int64\n",
       "Inflight wifi service                  int64\n",
       "Inflight entertainment                 int64\n",
       "Online support                         int64\n",
       "Ease of Online booking                 int64\n",
       "On-board service                       int64\n",
       "Leg room service                       int64\n",
       "Baggage handling                       int64\n",
       "Checkin service                        int64\n",
       "Cleanliness                            int64\n",
       "Online boarding                        int64\n",
       "Departure Delay in Minutes             int64\n",
       "Arrival Delay in Minutes             float64\n",
       "dtype: object"
      ]
     },
     "execution_count": 52,
     "metadata": {},
     "output_type": "execute_result"
    }
   ],
   "source": [
    "airline_df.dtypes"
   ]
  },
  {
   "cell_type": "markdown",
   "id": "eb61ee25",
   "metadata": {},
   "source": [
    "### Check the number of satisfied customers in the dataset\n",
    "\n",
    "Before moving on to modeling, I first checked how many customers in the dataset were satisfied."
   ]
  },
  {
   "cell_type": "code",
   "execution_count": 53,
   "id": "43f9099d",
   "metadata": {},
   "outputs": [
    {
     "data": {
      "text/plain": [
       "satisfaction\n",
       "satisfied       71087\n",
       "dissatisfied    58793\n",
       "Name: count, dtype: int64"
      ]
     },
     "execution_count": 53,
     "metadata": {},
     "output_type": "execute_result"
    }
   ],
   "source": [
    "airline_df['satisfaction'].value_counts(dropna = False)"
   ]
  },
  {
   "cell_type": "markdown",
   "id": "04a19e5f",
   "metadata": {},
   "source": [
    "This gave me a clear count of how many customers were **satisfied versus dissatisfied**, allowing me to quickly gauge whether the dataset is **balanced or skewed**. Understanding this distribution is important because a **class imbalance can impact model performance**, potentially leading to biased predictions toward the majority class."
   ]
  },
  {
   "cell_type": "markdown",
   "id": "438b9c91",
   "metadata": {},
   "source": [
    " to check the percentage of satisfied customers, I used:"
   ]
  },
  {
   "cell_type": "code",
   "execution_count": 54,
   "id": "d0c94e0d",
   "metadata": {},
   "outputs": [
    {
     "data": {
      "text/plain": [
       "54.73283030489683"
      ]
     },
     "execution_count": 54,
     "metadata": {},
     "output_type": "execute_result"
    }
   ],
   "source": [
    "percentage=((airline_df[airline_df['satisfaction'] == 'satisfied'].shape[0]/airline_df.shape[0])*100)\n",
    "\n",
    "#or\n",
    "\n",
    "# percentage = (df_original['satisfaction'].value_counts(normalize=True)['satisfied'] * 100)\n",
    "\n",
    "percentage"
   ]
  },
  {
   "cell_type": "markdown",
   "id": "9e3816a7",
   "metadata": {},
   "source": [
    "This calculates the proportion of `satisfied` customers relative to the total, multiplies it by 100 to convert it into a percentage, and gives a quick sense of how the satisfaction levels are distributed in the dataset."
   ]
  },
  {
   "cell_type": "markdown",
   "id": "a98c4925",
   "metadata": {},
   "source": [
    "#### **Customer Satisfaction Breakdown: Counts of Satisfied vs. Dissatisfied Customers**\n",
    "\n",
    "There are **71,087 satisfied customers** and **58,793 dissatisfied customers** in the dataset. That means **54.7% of customers (71,087 out of 129,880)** were satisfied. While this is a straightforward calculation, it serves as a useful **baseline reference** — this percentage can later be compared to the **accuracy of the logistic regression model** to evaluate whether the model meaningfully outperforms a naive guess based on the majority class."
   ]
  },
  {
   "cell_type": "markdown",
   "id": "82b038cc",
   "metadata": {},
   "source": [
    "### Check for missing values\n",
    "\n",
    "A requirement for any Logistic Regression, Decision Tree, and Random Forest models is that the dataset must not contain missing values, as these models in scikit-learn cannot handle them natively. However, XGBoost can handle missing values internally by learning the optimal path for observations with missing features. Before proceeding, it is important to check for any missing values in the dataset."
   ]
  },
  {
   "cell_type": "code",
   "execution_count": 55,
   "id": "beb08194",
   "metadata": {},
   "outputs": [
    {
     "data": {
      "text/plain": [
       "satisfaction                           0\n",
       "Customer Type                          0\n",
       "Age                                    0\n",
       "Type of Travel                         0\n",
       "Class                                  0\n",
       "Flight Distance                        0\n",
       "Seat comfort                           0\n",
       "Departure/Arrival time convenient      0\n",
       "Food and drink                         0\n",
       "Gate location                          0\n",
       "Inflight wifi service                  0\n",
       "Inflight entertainment                 0\n",
       "Online support                         0\n",
       "Ease of Online booking                 0\n",
       "On-board service                       0\n",
       "Leg room service                       0\n",
       "Baggage handling                       0\n",
       "Checkin service                        0\n",
       "Cleanliness                            0\n",
       "Online boarding                        0\n",
       "Departure Delay in Minutes             0\n",
       "Arrival Delay in Minutes             393\n",
       "dtype: int64"
      ]
     },
     "execution_count": 55,
     "metadata": {},
     "output_type": "execute_result"
    }
   ],
   "source": [
    "airline_df.isnull().sum()"
   ]
  },
  {
   "cell_type": "markdown",
   "id": "5051bf2f",
   "metadata": {},
   "source": [
    "#### **Handling Missing Values in Non-Critical Columns for Business Relevance**"
   ]
  },
  {
   "cell_type": "markdown",
   "id": "1f9f450e",
   "metadata": {},
   "source": [
    "I would remove the rows with missing values in the **`Arrival Delay in Minutes`** column. Although this column isn’t directly related to the business question about **inflight entertainment** and **customer satisfaction**, retaining incomplete data can still affect overall model integrity. Since there are only **393 missing values out of 129,880 records** (a very small proportion), removing them would have **minimal impact on the dataset size** while helping maintain a clean, reliable dataset for modeling."
   ]
  },
  {
   "cell_type": "markdown",
   "id": "6d41efbf",
   "metadata": {},
   "source": [
    "### Drop the rows with missing values\n",
    "\n",
    "To drop the rows with missing values and save the resulting DataFrame in a variable named `airline_df_subset`, you can use the following code:"
   ]
  },
  {
   "cell_type": "code",
   "execution_count": 56,
   "id": "def956b3",
   "metadata": {},
   "outputs": [],
   "source": [
    "airline_df_subset=airline_df.dropna(axis=0).reset_index(drop=True);"
   ]
  },
  {
   "cell_type": "code",
   "execution_count": 57,
   "id": "fa034229",
   "metadata": {},
   "outputs": [
    {
     "data": {
      "text/plain": [
       "satisfaction                         0\n",
       "Customer Type                        0\n",
       "Age                                  0\n",
       "Type of Travel                       0\n",
       "Class                                0\n",
       "Flight Distance                      0\n",
       "Seat comfort                         0\n",
       "Departure/Arrival time convenient    0\n",
       "Food and drink                       0\n",
       "Gate location                        0\n",
       "Inflight wifi service                0\n",
       "Inflight entertainment               0\n",
       "Online support                       0\n",
       "Ease of Online booking               0\n",
       "On-board service                     0\n",
       "Leg room service                     0\n",
       "Baggage handling                     0\n",
       "Checkin service                      0\n",
       "Cleanliness                          0\n",
       "Online boarding                      0\n",
       "Departure Delay in Minutes           0\n",
       "Arrival Delay in Minutes             0\n",
       "dtype: int64"
      ]
     },
     "execution_count": 57,
     "metadata": {},
     "output_type": "execute_result"
    }
   ],
   "source": [
    "airline_df_subset.isna().sum()"
   ]
  },
  {
   "cell_type": "markdown",
   "id": "26860a3e",
   "metadata": {},
   "source": [
    "### Prepare the data\n",
    "\n",
    "To create a plot (`sns.regplot`) of the model to visualize the results later in the notebook, the independent variable **Inflight entertainment** cannot be of type **int**, and the dependent variable **satisfaction** cannot be of type **object**. Both variables must be in the appropriate numeric formats for the plot to work correctly, with **Inflight entertainment** possibly needing to be scaled or converted to continuous data, and **satisfaction** needing to be encoded as numeric values (e.g., 0 for \"dissatisfied\" and 1 for \"satisfied\")."
   ]
  },
  {
   "cell_type": "code",
   "execution_count": 58,
   "id": "5e5a5831",
   "metadata": {},
   "outputs": [],
   "source": [
    "airline_df_subset = airline_df_subset.astype({\"Inflight entertainment\": float})"
   ]
  },
  {
   "cell_type": "code",
   "execution_count": 59,
   "id": "00c47df8",
   "metadata": {},
   "outputs": [
    {
     "data": {
      "text/plain": [
       "dtype('float64')"
      ]
     },
     "execution_count": 59,
     "metadata": {},
     "output_type": "execute_result"
    }
   ],
   "source": [
    "airline_df_subset['Inflight entertainment'].dtype"
   ]
  },
  {
   "cell_type": "code",
   "execution_count": 60,
   "id": "233760a0",
   "metadata": {},
   "outputs": [],
   "source": [
    "airline_df_subset['satisfaction']=OneHotEncoder(drop='first').fit_transform(airline_df_subset[['satisfaction']]).toarray()"
   ]
  },
  {
   "cell_type": "markdown",
   "id": "689311ed",
   "metadata": {},
   "source": [
    "### Output the first 10 rows of `airline_df_subset`\n",
    "\n",
    "To examine what one-hot encoding did to the DataFrame, I output the first 10 rows of `airline_df_subset` to see how the categorical variable was transformed into multiple binary columns representing each category."
   ]
  },
  {
   "cell_type": "code",
   "execution_count": 61,
   "id": "3ab075ec",
   "metadata": {},
   "outputs": [
    {
     "data": {
      "text/html": [
       "<div>\n",
       "<style scoped>\n",
       "    .dataframe tbody tr th:only-of-type {\n",
       "        vertical-align: middle;\n",
       "    }\n",
       "\n",
       "    .dataframe tbody tr th {\n",
       "        vertical-align: top;\n",
       "    }\n",
       "\n",
       "    .dataframe thead th {\n",
       "        text-align: right;\n",
       "    }\n",
       "</style>\n",
       "<table border=\"1\" class=\"dataframe\">\n",
       "  <thead>\n",
       "    <tr style=\"text-align: right;\">\n",
       "      <th></th>\n",
       "      <th>satisfaction</th>\n",
       "      <th>Customer Type</th>\n",
       "      <th>Age</th>\n",
       "      <th>Type of Travel</th>\n",
       "      <th>Class</th>\n",
       "      <th>Flight Distance</th>\n",
       "      <th>Seat comfort</th>\n",
       "      <th>Departure/Arrival time convenient</th>\n",
       "      <th>Food and drink</th>\n",
       "      <th>Gate location</th>\n",
       "      <th>...</th>\n",
       "      <th>Online support</th>\n",
       "      <th>Ease of Online booking</th>\n",
       "      <th>On-board service</th>\n",
       "      <th>Leg room service</th>\n",
       "      <th>Baggage handling</th>\n",
       "      <th>Checkin service</th>\n",
       "      <th>Cleanliness</th>\n",
       "      <th>Online boarding</th>\n",
       "      <th>Departure Delay in Minutes</th>\n",
       "      <th>Arrival Delay in Minutes</th>\n",
       "    </tr>\n",
       "  </thead>\n",
       "  <tbody>\n",
       "    <tr>\n",
       "      <th>0</th>\n",
       "      <td>1.0</td>\n",
       "      <td>Loyal Customer</td>\n",
       "      <td>65</td>\n",
       "      <td>Personal Travel</td>\n",
       "      <td>Eco</td>\n",
       "      <td>265</td>\n",
       "      <td>0</td>\n",
       "      <td>0</td>\n",
       "      <td>0</td>\n",
       "      <td>2</td>\n",
       "      <td>...</td>\n",
       "      <td>2</td>\n",
       "      <td>3</td>\n",
       "      <td>3</td>\n",
       "      <td>0</td>\n",
       "      <td>3</td>\n",
       "      <td>5</td>\n",
       "      <td>3</td>\n",
       "      <td>2</td>\n",
       "      <td>0</td>\n",
       "      <td>0.0</td>\n",
       "    </tr>\n",
       "    <tr>\n",
       "      <th>1</th>\n",
       "      <td>1.0</td>\n",
       "      <td>Loyal Customer</td>\n",
       "      <td>47</td>\n",
       "      <td>Personal Travel</td>\n",
       "      <td>Business</td>\n",
       "      <td>2464</td>\n",
       "      <td>0</td>\n",
       "      <td>0</td>\n",
       "      <td>0</td>\n",
       "      <td>3</td>\n",
       "      <td>...</td>\n",
       "      <td>2</td>\n",
       "      <td>3</td>\n",
       "      <td>4</td>\n",
       "      <td>4</td>\n",
       "      <td>4</td>\n",
       "      <td>2</td>\n",
       "      <td>3</td>\n",
       "      <td>2</td>\n",
       "      <td>310</td>\n",
       "      <td>305.0</td>\n",
       "    </tr>\n",
       "    <tr>\n",
       "      <th>2</th>\n",
       "      <td>1.0</td>\n",
       "      <td>Loyal Customer</td>\n",
       "      <td>15</td>\n",
       "      <td>Personal Travel</td>\n",
       "      <td>Eco</td>\n",
       "      <td>2138</td>\n",
       "      <td>0</td>\n",
       "      <td>0</td>\n",
       "      <td>0</td>\n",
       "      <td>3</td>\n",
       "      <td>...</td>\n",
       "      <td>2</td>\n",
       "      <td>2</td>\n",
       "      <td>3</td>\n",
       "      <td>3</td>\n",
       "      <td>4</td>\n",
       "      <td>4</td>\n",
       "      <td>4</td>\n",
       "      <td>2</td>\n",
       "      <td>0</td>\n",
       "      <td>0.0</td>\n",
       "    </tr>\n",
       "    <tr>\n",
       "      <th>3</th>\n",
       "      <td>1.0</td>\n",
       "      <td>Loyal Customer</td>\n",
       "      <td>60</td>\n",
       "      <td>Personal Travel</td>\n",
       "      <td>Eco</td>\n",
       "      <td>623</td>\n",
       "      <td>0</td>\n",
       "      <td>0</td>\n",
       "      <td>0</td>\n",
       "      <td>3</td>\n",
       "      <td>...</td>\n",
       "      <td>3</td>\n",
       "      <td>1</td>\n",
       "      <td>1</td>\n",
       "      <td>0</td>\n",
       "      <td>1</td>\n",
       "      <td>4</td>\n",
       "      <td>1</td>\n",
       "      <td>3</td>\n",
       "      <td>0</td>\n",
       "      <td>0.0</td>\n",
       "    </tr>\n",
       "    <tr>\n",
       "      <th>4</th>\n",
       "      <td>1.0</td>\n",
       "      <td>Loyal Customer</td>\n",
       "      <td>70</td>\n",
       "      <td>Personal Travel</td>\n",
       "      <td>Eco</td>\n",
       "      <td>354</td>\n",
       "      <td>0</td>\n",
       "      <td>0</td>\n",
       "      <td>0</td>\n",
       "      <td>3</td>\n",
       "      <td>...</td>\n",
       "      <td>4</td>\n",
       "      <td>2</td>\n",
       "      <td>2</td>\n",
       "      <td>0</td>\n",
       "      <td>2</td>\n",
       "      <td>4</td>\n",
       "      <td>2</td>\n",
       "      <td>5</td>\n",
       "      <td>0</td>\n",
       "      <td>0.0</td>\n",
       "    </tr>\n",
       "    <tr>\n",
       "      <th>5</th>\n",
       "      <td>1.0</td>\n",
       "      <td>Loyal Customer</td>\n",
       "      <td>30</td>\n",
       "      <td>Personal Travel</td>\n",
       "      <td>Eco</td>\n",
       "      <td>1894</td>\n",
       "      <td>0</td>\n",
       "      <td>0</td>\n",
       "      <td>0</td>\n",
       "      <td>3</td>\n",
       "      <td>...</td>\n",
       "      <td>2</td>\n",
       "      <td>2</td>\n",
       "      <td>5</td>\n",
       "      <td>4</td>\n",
       "      <td>5</td>\n",
       "      <td>5</td>\n",
       "      <td>4</td>\n",
       "      <td>2</td>\n",
       "      <td>0</td>\n",
       "      <td>0.0</td>\n",
       "    </tr>\n",
       "    <tr>\n",
       "      <th>6</th>\n",
       "      <td>1.0</td>\n",
       "      <td>Loyal Customer</td>\n",
       "      <td>66</td>\n",
       "      <td>Personal Travel</td>\n",
       "      <td>Eco</td>\n",
       "      <td>227</td>\n",
       "      <td>0</td>\n",
       "      <td>0</td>\n",
       "      <td>0</td>\n",
       "      <td>3</td>\n",
       "      <td>...</td>\n",
       "      <td>5</td>\n",
       "      <td>5</td>\n",
       "      <td>5</td>\n",
       "      <td>0</td>\n",
       "      <td>5</td>\n",
       "      <td>5</td>\n",
       "      <td>5</td>\n",
       "      <td>3</td>\n",
       "      <td>17</td>\n",
       "      <td>15.0</td>\n",
       "    </tr>\n",
       "    <tr>\n",
       "      <th>7</th>\n",
       "      <td>1.0</td>\n",
       "      <td>Loyal Customer</td>\n",
       "      <td>10</td>\n",
       "      <td>Personal Travel</td>\n",
       "      <td>Eco</td>\n",
       "      <td>1812</td>\n",
       "      <td>0</td>\n",
       "      <td>0</td>\n",
       "      <td>0</td>\n",
       "      <td>3</td>\n",
       "      <td>...</td>\n",
       "      <td>2</td>\n",
       "      <td>2</td>\n",
       "      <td>3</td>\n",
       "      <td>3</td>\n",
       "      <td>4</td>\n",
       "      <td>5</td>\n",
       "      <td>4</td>\n",
       "      <td>2</td>\n",
       "      <td>0</td>\n",
       "      <td>0.0</td>\n",
       "    </tr>\n",
       "    <tr>\n",
       "      <th>8</th>\n",
       "      <td>1.0</td>\n",
       "      <td>Loyal Customer</td>\n",
       "      <td>56</td>\n",
       "      <td>Personal Travel</td>\n",
       "      <td>Business</td>\n",
       "      <td>73</td>\n",
       "      <td>0</td>\n",
       "      <td>0</td>\n",
       "      <td>0</td>\n",
       "      <td>3</td>\n",
       "      <td>...</td>\n",
       "      <td>5</td>\n",
       "      <td>4</td>\n",
       "      <td>4</td>\n",
       "      <td>0</td>\n",
       "      <td>1</td>\n",
       "      <td>5</td>\n",
       "      <td>4</td>\n",
       "      <td>4</td>\n",
       "      <td>0</td>\n",
       "      <td>0.0</td>\n",
       "    </tr>\n",
       "    <tr>\n",
       "      <th>9</th>\n",
       "      <td>1.0</td>\n",
       "      <td>Loyal Customer</td>\n",
       "      <td>22</td>\n",
       "      <td>Personal Travel</td>\n",
       "      <td>Eco</td>\n",
       "      <td>1556</td>\n",
       "      <td>0</td>\n",
       "      <td>0</td>\n",
       "      <td>0</td>\n",
       "      <td>3</td>\n",
       "      <td>...</td>\n",
       "      <td>2</td>\n",
       "      <td>2</td>\n",
       "      <td>2</td>\n",
       "      <td>4</td>\n",
       "      <td>5</td>\n",
       "      <td>3</td>\n",
       "      <td>4</td>\n",
       "      <td>2</td>\n",
       "      <td>30</td>\n",
       "      <td>26.0</td>\n",
       "    </tr>\n",
       "  </tbody>\n",
       "</table>\n",
       "<p>10 rows × 22 columns</p>\n",
       "</div>"
      ],
      "text/plain": [
       "   satisfaction   Customer Type  Age   Type of Travel     Class  \\\n",
       "0           1.0  Loyal Customer   65  Personal Travel       Eco   \n",
       "1           1.0  Loyal Customer   47  Personal Travel  Business   \n",
       "2           1.0  Loyal Customer   15  Personal Travel       Eco   \n",
       "3           1.0  Loyal Customer   60  Personal Travel       Eco   \n",
       "4           1.0  Loyal Customer   70  Personal Travel       Eco   \n",
       "5           1.0  Loyal Customer   30  Personal Travel       Eco   \n",
       "6           1.0  Loyal Customer   66  Personal Travel       Eco   \n",
       "7           1.0  Loyal Customer   10  Personal Travel       Eco   \n",
       "8           1.0  Loyal Customer   56  Personal Travel  Business   \n",
       "9           1.0  Loyal Customer   22  Personal Travel       Eco   \n",
       "\n",
       "   Flight Distance  Seat comfort  Departure/Arrival time convenient  \\\n",
       "0              265             0                                  0   \n",
       "1             2464             0                                  0   \n",
       "2             2138             0                                  0   \n",
       "3              623             0                                  0   \n",
       "4              354             0                                  0   \n",
       "5             1894             0                                  0   \n",
       "6              227             0                                  0   \n",
       "7             1812             0                                  0   \n",
       "8               73             0                                  0   \n",
       "9             1556             0                                  0   \n",
       "\n",
       "   Food and drink  Gate location  ...  Online support  Ease of Online booking  \\\n",
       "0               0              2  ...               2                       3   \n",
       "1               0              3  ...               2                       3   \n",
       "2               0              3  ...               2                       2   \n",
       "3               0              3  ...               3                       1   \n",
       "4               0              3  ...               4                       2   \n",
       "5               0              3  ...               2                       2   \n",
       "6               0              3  ...               5                       5   \n",
       "7               0              3  ...               2                       2   \n",
       "8               0              3  ...               5                       4   \n",
       "9               0              3  ...               2                       2   \n",
       "\n",
       "   On-board service  Leg room service  Baggage handling  Checkin service  \\\n",
       "0                 3                 0                 3                5   \n",
       "1                 4                 4                 4                2   \n",
       "2                 3                 3                 4                4   \n",
       "3                 1                 0                 1                4   \n",
       "4                 2                 0                 2                4   \n",
       "5                 5                 4                 5                5   \n",
       "6                 5                 0                 5                5   \n",
       "7                 3                 3                 4                5   \n",
       "8                 4                 0                 1                5   \n",
       "9                 2                 4                 5                3   \n",
       "\n",
       "   Cleanliness  Online boarding  Departure Delay in Minutes  \\\n",
       "0            3                2                           0   \n",
       "1            3                2                         310   \n",
       "2            4                2                           0   \n",
       "3            1                3                           0   \n",
       "4            2                5                           0   \n",
       "5            4                2                           0   \n",
       "6            5                3                          17   \n",
       "7            4                2                           0   \n",
       "8            4                4                           0   \n",
       "9            4                2                          30   \n",
       "\n",
       "   Arrival Delay in Minutes  \n",
       "0                       0.0  \n",
       "1                     305.0  \n",
       "2                       0.0  \n",
       "3                       0.0  \n",
       "4                       0.0  \n",
       "5                       0.0  \n",
       "6                      15.0  \n",
       "7                       0.0  \n",
       "8                       0.0  \n",
       "9                      26.0  \n",
       "\n",
       "[10 rows x 22 columns]"
      ]
     },
     "execution_count": 61,
     "metadata": {},
     "output_type": "execute_result"
    }
   ],
   "source": [
    "airline_df_subset.head(10)"
   ]
  },
  {
   "cell_type": "markdown",
   "id": "b13df5ec",
   "metadata": {},
   "source": [
    "## Confirm model assumptions"
   ]
  },
  {
   "cell_type": "markdown",
   "id": "dda9db3c",
   "metadata": {},
   "source": [
    "### Evaluating the Assumptions for Model Validity\n",
    "\n",
    "**Logistic Regression model assumptions**\n",
    "- Outcome variable is categorical\n",
    "- Observations are independent of each other\n",
    "- No severe multicollinearity among X variables\n",
    "- No extreme outliers\n",
    "- Linear relationship between each X variable and the logit of the outcome variable\n",
    "- Sufficiently large sample size"
   ]
  },
  {
   "cell_type": "markdown",
   "id": "71c5415c",
   "metadata": {},
   "source": [
    "Now, let's evaluate the assumptions for the Logistic Regression model's validity."
   ]
  },
  {
   "cell_type": "markdown",
   "id": "1f030c17",
   "metadata": {},
   "source": [
    "#### **Outcome variable is categorical**\n",
    "\n",
    "The outcome variable, **`satisfaction`**, is categorical, representing customer satisfaction. A value of **0.0** indicates a **dissatisfied** customer, while **1.0** indicates a **satisfied** customer."
   ]
  },
  {
   "cell_type": "markdown",
   "id": "4bab3e87",
   "metadata": {},
   "source": [
    "#### **Observations are independent of each other**\n",
    "\n",
    "Yes, this assumption is reasonable. Each record represents an individual customer’s experience and satisfaction rating, which is presumed to be independent of other customers. Unless additional metadata (e.g., group bookings or shared travel itineraries) suggests otherwise, it’s appropriate to treat the observations as independent."
   ]
  },
  {
   "cell_type": "markdown",
   "id": "156d8b39",
   "metadata": {},
   "source": [
    "#### **No severe multicollinearity among X variables**\n",
    "\n",
    "Not applicable in this case. Since this is a simple logistic regression model with only one predictor variable (`Inflight entertainment`), multicollinearity is not a concern."
   ]
  },
  {
   "cell_type": "code",
   "execution_count": 62,
   "id": "da835934",
   "metadata": {},
   "outputs": [
    {
     "data": {
      "image/png": "[encoded data removed]",
      "text/plain": [
       "<Figure size 500x100 with 1 Axes>"
      ]
     },
     "metadata": {},
     "output_type": "display_data"
    }
   ],
   "source": [
    "plt.figure(figsize=(5,1))\n",
    "sns.boxplot(x=airline_df_subset['Inflight entertainment'])\n",
    "plt.title('Boxplot of Inflight Entertainment Ratings')\n",
    "plt.show()"
   ]
  },
  {
   "cell_type": "markdown",
   "id": "d55d58ae",
   "metadata": {},
   "source": [
    "There is no evidence of extreme outliers in the `Inflight entertainment` predictor variable. A boxplot of its distribution confirmed that all values fall within the expected range (e.g. 0–5 rating scale). Therefore, this assumption is reasonably met for the simple logistic regression model."
   ]
  },
  {
   "cell_type": "markdown",
   "id": "985a02bd",
   "metadata": {},
   "source": [
    "#### **Linear relationship between each X variable and the logit of the outcome variable**"
   ]
  },
  {
   "cell_type": "code",
   "execution_count": 63,
   "id": "c4e8bc1b",
   "metadata": {},
   "outputs": [
    {
     "data": {
      "image/png": "[encoded data removed]",
      "text/plain": [
       "<Figure size 800x500 with 1 Axes>"
      ]
     },
     "metadata": {},
     "output_type": "display_data"
    }
   ],
   "source": [
    "df_temp = airline_df_subset.copy()\n",
    "\n",
    "df_temp['Inflight_entertainment_bin'] = pd.qcut(df_temp['Inflight entertainment'], q=10, duplicates='drop')\n",
    "\n",
    "binned = df_temp.groupby('Inflight_entertainment_bin', observed=False).agg({\n",
    "    'Inflight entertainment': 'mean',\n",
    "    'satisfaction': 'mean'\n",
    "})\n",
    "\n",
    "binned['logit'] = np.log((binned['satisfaction'] + 1e-5) / (1 - binned['satisfaction'] + 1e-5))\n",
    "\n",
    "plt.figure(figsize=(8, 5))\n",
    "plt.plot(binned['Inflight entertainment'], binned['logit'], marker='o')\n",
    "plt.xlabel('Mean Inflight Entertainment Rating in Bin')\n",
    "plt.ylabel('Logit (log odds of satisfaction)')\n",
    "plt.title('Linearity in the Logit: Inflight Entertainment')\n",
    "plt.grid(True)\n",
    "plt.show()\n"
   ]
  },
  {
   "cell_type": "markdown",
   "id": "ef6a8e10",
   "metadata": {},
   "source": [
    "This approach works well as a starting point, especially when the focus is on **prediction** rather than **interpretation**. It allows me to move forward with the modeling process without getting bogged down in variable transformations or assumption adjustments at this stage.\n",
    "\n",
    "For **categorical predictors** like **Inflight entertainment**, the **linearity of the logit assumption** is **not required in the same way it is for continuous predictors**. Since **Inflight entertainment** is an **ordinal variable** (with ratings from 1 to 5), it can either be treated as **continuous** or **categorical**, depending on the modeling context:\n",
    "\n",
    "- If treated as **continuous**, one might explore its relationship with the log odds of the outcome. In this case, the exploratory plot revealed some **non-linearity** between satisfaction and Inflight entertainment, particularly from ratings **1–3**, with a more linear pattern from **3–5**.\n",
    "- If treated as **categorical**, each rating level is compared separately, and no linearity assumption is involved — the model simply compares the log-odds of satisfaction for each rating level.\n",
    "\n",
    "#### **Decision for Baseline Model**\n",
    "Even though the exploratory plot suggests some non-linearity, for this **baseline predictive model**, I will proceed by treating **Inflight entertainment** as a **continuous variable**. The rationale is that:\n",
    "- The primary focus here is on building an initial predictive baseline, not on inference or coefficient interpretation.\n",
    "- The logit linearity assumption applies only to continuous variables, and while ordinal variables can sometimes be treated continuously, it's acceptable to use them in their raw form for early prototyping.\n",
    "- Its relationship with satisfaction can be meaningfully assessed through its **model coefficient** for now, and the model’s overall predictive performance will guide future refinements.\n",
    "\n",
    "#### **Next Steps**\n",
    "- If later analysis suggests that this non-linear relationship negatively affects performance, I’ll consider treating **Inflight entertainment** as a **categorical variable** using **one-hot encoding** or explore **non-linear transformations** (e.g., **splines**, **quadratic terms**).\n",
    "- For now, I’ll move forward with this setup and revisit this decision during model refinement if necessary."
   ]
  },
  {
   "cell_type": "markdown",
   "id": "b838f321",
   "metadata": {},
   "source": [
    "#### **Sufficiently large sample size**\n",
    "\n",
    "The original **Invistico_Airline** dataset contained **129,880 records**. After selecting relevant variables and removing duplicates or missing values for this analysis, the working dataset — `airline_df_subset` — remains **substantially large** for a simple logistic regression model.\n",
    "\n",
    "Regarding outlier detection:\n",
    "- A review of the **Inflight entertainment** predictor via a **boxplot** confirmed there are **no extreme outliers**. All values fall within the expected **1–5 rating scale**, and no unreasonable values or distribution anomalies were observed.\n",
    "- As this is an **ordinal categorical variable**, extreme values beyond this scale would indicate data entry issues, but none were present in this case."
   ]
  },
  {
   "cell_type": "markdown",
   "id": "998bea62",
   "metadata": {},
   "source": [
    "All key assumptions for the simple logistic regression model were met, **except for the linearity of the logit assumption**, which is **not directly applicable in the same way to ordinal variables like `Inflight entertainment`**. While a logit plot revealed some **non-linearity between lower and higher rating values**, this variable is currently treated as **continuous for baseline modeling purposes**.\n",
    "\n",
    "Since the primary focus at this stage is on **prediction rather than inference**, this mild non-linearity is acceptable. If future model refinements prioritize interpretability, I could consider treating **Inflight entertainment** as a **categorical variable**, or applying transformations such as **splines**, **quadratic terms**, or **binning** to better capture its relationship with customer satisfaction.\n",
    "\n",
    "For now, the model’s baseline performance will guide further steps in the modeling workflow."
   ]
  },
  {
   "cell_type": "markdown",
   "id": "347ee561",
   "metadata": {},
   "source": [
    "### Create the training and testing data\n",
    "\n",
    "I split the data into a training set and a testing set, with 70% allocated to the training set and 30% to the testing set. To prepare the data for the model, I created the `X` DataFrame containing the independent variable(s) (in this case, `Inflight entertainment`) and the `y` DataFrame containing the dependent variable (`satisfaction`). "
   ]
  },
  {
   "cell_type": "code",
   "execution_count": 64,
   "id": "b8ecf5ca",
   "metadata": {},
   "outputs": [],
   "source": [
    "X=airline_df_subset[['Inflight entertainment']]\n",
    "y=airline_df_subset['satisfaction']"
   ]
  },
  {
   "cell_type": "code",
   "execution_count": 65,
   "id": "c6b8ed44",
   "metadata": {},
   "outputs": [],
   "source": [
    "X_train, X_test, y_train, y_test = train_test_split(X,y, test_size=0.3, random_state=42)"
   ]
  },
  {
   "cell_type": "markdown",
   "id": "53c51143",
   "metadata": {},
   "source": [
    "#### **Comprehensive Model Considerations for Customer Satisfaction with Multiple Predictors**\n",
    "\n",
    "Using `inflight entertainment` as the sole independent variable may not be ideal, as other factors could also influence customer satisfaction. Variables like `Departure Delay in Minutes` and `Seat Comfort` may have a significant impact. \n",
    "\n",
    "These variables can be included as independent predictors, some as covariates to control for confounding effects, and some may have interaction effects on customer satisfaction:  \n",
    "- **Leg room service**  \n",
    "- **On-board service**  \n",
    "- **Cleanliness**  \n",
    "- **Check-in service**  \n",
    "- **Departure Delay in Minutes**  \n",
    "- **Arrival Delay in Minutes**  \n",
    "- **Inflight WiFi service**  \n",
    "- **Food and drink**  \n",
    "- **Departure/Arrival time convenience**  \n",
    "- **Seat comfort**  \n",
    "\n",
    "Incorporating multiple relevant predictors can improve the accuracy and comprehensiveness of the model. To begin, I will start with simple logistic regression, using just one predictor. This will help me become familiar with the modeling process before enhancing the model by adding more predictors for greater accuracy and insight."
   ]
  },
  {
   "cell_type": "markdown",
   "id": "74c2dcb4",
   "metadata": {},
   "source": [
    "## Model building"
   ]
  },
  {
   "cell_type": "markdown",
   "id": "20aaccd3",
   "metadata": {},
   "source": [
    "### Fit a Logistic Regression model to the data\n",
    "\n",
    "I will build a logistic regression model and fit it to the training data."
   ]
  },
  {
   "cell_type": "code",
   "execution_count": 66,
   "id": "ee13da76",
   "metadata": {},
   "outputs": [],
   "source": [
    "airline_log_clf = LogisticRegression().fit(X_train,y_train)"
   ]
  },
  {
   "cell_type": "markdown",
   "id": "756baf45",
   "metadata": {},
   "source": [
    "I specify the path to where I want to save my model."
   ]
  },
  {
   "cell_type": "code",
   "execution_count": 67,
   "id": "29a365f7",
   "metadata": {},
   "outputs": [],
   "source": [
    "path = r'C:\\Users\\saswa\\Documents\\GitHub\\Airline-Customer-Satisfaction-End-to-End-Analysis-and-Modeling\\Fit_models\\\\'"
   ]
  },
  {
   "cell_type": "code",
   "execution_count": 68,
   "id": "b161eeb7",
   "metadata": {},
   "outputs": [],
   "source": [
    "##comment out\n",
    "\n",
    "def write_pickle(path, model_object, save_as:str):\n",
    "    '''\n",
    "    In:\n",
    "        path:         folder path where the model should be saved  \n",
    "        model_object: the trained model to pickle  \n",
    "        save_as:      filename to save the model as (with .pkl extension)\n",
    "\n",
    "    Out: Saves the model as a pickle file in the specified folder\n",
    "    '''\n",
    "\n",
    "\n",
    "    with open(path + save_as + '.pickle', 'wb') as to_write:\n",
    "        pickle.dump(model_object, to_write)"
   ]
  },
  {
   "cell_type": "code",
   "execution_count": 69,
   "id": "8da849af",
   "metadata": {},
   "outputs": [],
   "source": [
    "def read_pickle(path, saved_model_name:str):\n",
    "    '''\n",
    "    In:  \n",
    "        path:             folder path to load the model from  \n",
    "        saved_model_name: filename of the pickled model to load  \n",
    "\n",
    "    Out:  \n",
    "        model: the unpickled model object  \n",
    "    '''\n",
    "\n",
    "    with open(path + saved_model_name + '.pickle', 'rb') as to_read:\n",
    "        model = pickle.load(to_read)\n",
    "\n",
    "    return model"
   ]
  },
  {
   "cell_type": "markdown",
   "id": "752f333a",
   "metadata": {},
   "source": [
    "I use the functions defined above to save the model in a pickle file and then read it in."
   ]
  },
  {
   "cell_type": "code",
   "execution_count": 70,
   "id": "43743b53",
   "metadata": {},
   "outputs": [],
   "source": [
    "#comment out\n",
    "write_pickle(path, airline_log_clf, 'airline_log_clf')"
   ]
  },
  {
   "cell_type": "code",
   "execution_count": 71,
   "id": "baa6ce03",
   "metadata": {},
   "outputs": [],
   "source": [
    "airline_log_clf = read_pickle(path, 'airline_log_clf')"
   ]
  },
  {
   "cell_type": "markdown",
   "id": "008e14d7",
   "metadata": {},
   "source": [
    "### Obtain parameter estimates\n",
    "I will make sure to output the two parameters from my model: the **coefficients** and the **intercept**."
   ]
  },
  {
   "cell_type": "code",
   "execution_count": 72,
   "id": "26266577",
   "metadata": {},
   "outputs": [
    {
     "data": {
      "text/plain": [
       "array([[0.99752883]])"
      ]
     },
     "execution_count": 72,
     "metadata": {},
     "output_type": "execute_result"
    }
   ],
   "source": [
    "airline_log_clf.coef_"
   ]
  },
  {
   "cell_type": "code",
   "execution_count": 73,
   "id": "307e3961",
   "metadata": {},
   "outputs": [
    {
     "data": {
      "text/plain": [
       "array([-3.19359054])"
      ]
     },
     "execution_count": 73,
     "metadata": {},
     "output_type": "execute_result"
    }
   ],
   "source": [
    "airline_log_clf.intercept_"
   ]
  },
  {
   "cell_type": "markdown",
   "id": "66d69456",
   "metadata": {},
   "source": [
    "### Create a plot of your model\n",
    "\n",
    "I created a plot of the model to visualize the results using the seaborn package."
   ]
  },
  {
   "cell_type": "code",
   "execution_count": 74,
   "id": "3e650e0e",
   "metadata": {},
   "outputs": [
    {
     "data": {
      "text/plain": [
       "<Axes: xlabel='Inflight entertainment', ylabel='satisfaction'>"
      ]
     },
     "execution_count": 74,
     "metadata": {},
     "output_type": "execute_result"
    },
    {
     "data": {
      "image/png": "[encoded data removed]",
      "text/plain": [
       "<Figure size 640x480 with 1 Axes>"
      ]
     },
     "metadata": {},
     "output_type": "display_data"
    }
   ],
   "source": [
    "sns.regplot(x=\"Inflight entertainment\", y=\"satisfaction\", data=airline_df_subset, logistic=True, ci=None)"
   ]
  },
  {
   "cell_type": "markdown",
   "id": "0976bbeb",
   "metadata": {},
   "source": [
    "#### **Interpreting Customer Satisfaction and Inflight Entertainment Ratings with Logistic Regression**\n",
    "\n",
    "The graph above suggests that higher `Inflight entertainment` ratings are associated with higher customer satisfaction. However, since `Inflight entertainment` is an ordinal categorical variable (with values like 1, 2, 3, 4, 5), treating it as continuous in a regression plot should be interpreted carefully.  \n",
    "\n",
    "By using `logistic=True`, the regression curve models the probability of satisfaction rather than assuming a linear relationship. However, the logistic curve still assumes a smooth numerical effect, which may not fully capture category-specific differences."
   ]
  },
  {
   "cell_type": "markdown",
   "id": "faa59d23",
   "metadata": {},
   "source": [
    "## Results and evaluation"
   ]
  },
  {
   "cell_type": "markdown",
   "id": "17a8d68a",
   "metadata": {},
   "source": [
    "### Predict the outcome for the test dataset\n",
    "\n",
    "First, I input the holdout dataset into the `predict` function to get the predicted labels from the model and saved these predictions as a variable called `y_pred`."
   ]
  },
  {
   "cell_type": "code",
   "execution_count": 75,
   "id": "e4f6eba3",
   "metadata": {},
   "outputs": [],
   "source": [
    "y_pred=airline_log_clf.predict(X_test)"
   ]
  },
  {
   "cell_type": "markdown",
   "id": "c3995ec2",
   "metadata": {},
   "source": [
    "### Print out `y_pred`\n",
    "\n",
    "I printed out `y_pred` to examine the predictions."
   ]
  },
  {
   "cell_type": "code",
   "execution_count": 76,
   "id": "60da8e13",
   "metadata": {},
   "outputs": [
    {
     "name": "stdout",
     "output_type": "stream",
     "text": [
      "[1. 0. 0. ... 0. 0. 0.]\n"
     ]
    }
   ],
   "source": [
    "print(y_pred)"
   ]
  },
  {
   "cell_type": "markdown",
   "id": "b3c75477",
   "metadata": {},
   "source": [
    "### Use the `predict_proba` and `predict` functions on `X_test`\n",
    "\n",
    "I used the `predict_proba` and `predict` functions on `X_test` to get the probability estimates and predicted labels, respectively. "
   ]
  },
  {
   "cell_type": "markdown",
   "id": "f628285a",
   "metadata": {},
   "source": [
    "- `predict_proba(X_test)` returns the probability estimates for each class."
   ]
  },
  {
   "cell_type": "code",
   "execution_count": 77,
   "id": "a0c3e9ed",
   "metadata": {},
   "outputs": [
    {
     "data": {
      "text/plain": [
       "array([[0.14257646, 0.85742354],\n",
       "       [0.55008251, 0.44991749],\n",
       "       [0.89989529, 0.10010471],\n",
       "       ...,\n",
       "       [0.89989529, 0.10010471],\n",
       "       [0.76826369, 0.23173631],\n",
       "       [0.55008251, 0.44991749]], shape=(38847, 2))"
      ]
     },
     "execution_count": 77,
     "metadata": {},
     "output_type": "execute_result"
    }
   ],
   "source": [
    "airline_log_clf.predict_proba(X_test)"
   ]
  },
  {
   "cell_type": "markdown",
   "id": "ef755eb1",
   "metadata": {},
   "source": [
    "- `predict(X_test)` gives the predicted class labels based on the model's decision boundary."
   ]
  },
  {
   "cell_type": "code",
   "execution_count": 78,
   "id": "415bd458",
   "metadata": {},
   "outputs": [
    {
     "data": {
      "text/plain": [
       "array([1., 0., 0., ..., 0., 0., 0.], shape=(38847,))"
      ]
     },
     "execution_count": 78,
     "metadata": {},
     "output_type": "execute_result"
    }
   ],
   "source": [
    "airline_log_clf.predict(X_test)"
   ]
  },
  {
   "cell_type": "markdown",
   "id": "1a29f133",
   "metadata": {},
   "source": [
    "### Analyze the results\n",
    "\n",
    "I printed out the model's accuracy, precision, recall, and F1 score to evaluate its performance on the test data."
   ]
  },
  {
   "cell_type": "code",
   "execution_count": 79,
   "id": "148c0d83",
   "metadata": {},
   "outputs": [
    {
     "name": "stdout",
     "output_type": "stream",
     "text": [
      "Accuracy: 0.801529\n",
      "Precision: 0.816142\n",
      "Recall: 0.821530\n",
      "F1 Score: 0.818827\n"
     ]
    }
   ],
   "source": [
    "print(\"Accuracy:\", \"%.6f\" % metrics.accuracy_score(y_test, y_pred))\n",
    "print(\"Precision:\", \"%.6f\" % metrics.precision_score(y_test, y_pred))\n",
    "print(\"Recall:\", \"%.6f\" % metrics.recall_score(y_test, y_pred))\n",
    "print(\"F1 Score:\", \"%.6f\" % metrics.f1_score(y_test, y_pred))"
   ]
  },
  {
   "cell_type": "markdown",
   "id": "eb4d6b76",
   "metadata": {},
   "source": [
    "### Produce a confusion matrix"
   ]
  },
  {
   "cell_type": "markdown",
   "id": "6fdd7593",
   "metadata": {},
   "source": [
    "Data professionals often like to know the types of errors made by an algorithm. To obtain this information, I produce a confusion matrix."
   ]
  },
  {
   "cell_type": "code",
   "execution_count": 80,
   "id": "18c7a0d2",
   "metadata": {},
   "outputs": [
    {
     "data": {
      "image/png": "[encoded data removed]",
      "text/plain": [
       "<Figure size 640x480 with 2 Axes>"
      ]
     },
     "metadata": {},
     "output_type": "display_data"
    }
   ],
   "source": [
    "cm = metrics.confusion_matrix(y_test, y_pred, labels = airline_log_clf.classes_)\n",
    "\n",
    "# disp = metrics.ConfusionMatrixDisplay(confusion_matrix = cm,display_labels = clf.classes_)\n",
    "\n",
    "#or\n",
    "\n",
    "disp = metrics.ConfusionMatrixDisplay(confusion_matrix=cm, display_labels=['Dissatisfied', 'Satisfied'])\n",
    "\n",
    "\n",
    "disp.plot()\n",
    "\n",
    "plt.show()"
   ]
  },
  {
   "cell_type": "markdown",
   "id": "afcfb27b",
   "metadata": {},
   "source": [
    "#### **Insights from the Confusion Matrix: Model Performance and Misclassification Patterns**\n",
    "\n",
    "What stood out to me was that the false positives are higher than the false negatives. However, the total number of misclassifications is relatively low, indicating that the model performs well overall.  \n",
    "\n",
    "Additionally, two quadrants in the confusion matrix have values under 4,000, which correspond to false positives and false negatives. Meanwhile, the true positives and true negatives are both above 13,000, showing that the model correctly classifies the majority of cases."
   ]
  },
  {
   "cell_type": "markdown",
   "id": "b4421e3e",
   "metadata": {},
   "source": [
    "#### **False Positives vs False Negatives: Insights into Model Misclassification and Business Implications**\n",
    "\n",
    "Yes, I did notice a difference, though it is not very large. The false positives appear to be higher than the false negatives. This could be problematic if the primary concern is avoiding the misclassification of dissatisfied customers as satisfied. However, if the focus is on minimizing resource allocation toward customer retention efforts, then reducing false negatives might be a greater priority."
   ]
  },
  {
   "cell_type": "markdown",
   "id": "5529fec3",
   "metadata": {},
   "source": [
    "#### **Improving Model Performance: Incorporating Additional Variables and Capturing Complex Relationships**"
   ]
  },
  {
   "cell_type": "markdown",
   "id": "cf0a02bd",
   "metadata": {},
   "source": [
    "Including more independent variables in the model training process could improve performance, as factors like `Departure Delay in Minutes` and `Seat Comfort` likely influence customer satisfaction.  \n",
    "\n",
    "Additionally, considering interaction effects and covariates could help capture complex relationships between variables, leading to a more accurate and robust model.\n"
   ]
  },
  {
   "cell_type": "markdown",
   "id": "f0c61f9e",
   "metadata": {},
   "source": [
    "#### **Key Takeaways: Logistic Regression Workflow, Model Performance, and Areas for Improvement** \n",
    "\n",
    "A key takeaway from the logistic regression modeling is that the model performed well with an accuracy of 80.2% on the test data. However, the slightly higher number of false positives indicates room for improvement. To enhance performance, I could explore interaction effects, consider additional covariates, or perform further feature engineering, such as creating new features or tuning hyperparameters. Alternatively, as previously mentioned, I could incorporate other fields and transition to a multiple logistic regression model. These adjustments could help reduce false positives and refine the model's predictions of customer satisfaction."
   ]
  },
  {
   "cell_type": "markdown",
   "id": "11616574",
   "metadata": {},
   "source": [
    "#### **Findings to Share with the Data Team: Model Performance, Confusion Matrix Insights, and Next Steps for Refinement**\n",
    "\n",
    "I would share that the logistic regression model performed fairly well, with an accuracy of 80.2% in predicting customer satisfaction.  \n",
    "\n",
    "Additionally, the confusion matrix revealed a balanced number of true positives and true negatives, indicating that the model is making reliable predictions overall. However, the presence of false positives suggests that further refinement, such as incorporating additional features or tuning hyperparameters, could enhance performance."
   ]
  },
  {
   "cell_type": "markdown",
   "id": "84571568",
   "metadata": {},
   "source": [
    "#### **Recommendations for Stakeholders: Enhancing Customer Satisfaction Through Model Insights and Further Refinement**\n",
    "\n",
    "I would recommend sharing key insights derived from the model's performance and its implications for improving customer satisfaction.  \n",
    "\n",
    "* Customers who rated in-flight entertainment highly were more likely to be satisfied. Enhancing in-flight entertainment offerings could improve overall customer satisfaction.  \n",
    "* The model achieved an accuracy of 80.2%, a significant improvement over the dataset's baseline satisfaction rate of 54.7%.  \n",
    "* The confusion matrix provides valuable insights into prediction accuracy, particularly regarding false positives and false negatives, which should be considered when making business decisions.  \n",
    "* Given the model’s success, further investment in model development is advisable. Exploring additional independent variables may improve predictive power and provide deeper insights into factors influencing customer satisfaction.  "
   ]
  }
 ],
 "metadata": {
  "kernelspec": {
   "display_name": "venv",
   "language": "python",
   "name": "python3"
  },
  "language_info": {
   "codemirror_mode": {
    "name": "ipython",
    "version": 3
   },
   "file_extension": ".py",
   "mimetype": "text/x-python",
   "name": "python",
   "nbconvert_exporter": "python",
   "pygments_lexer": "ipython3",
   "version": "3.13.0"
  }
 },
 "nbformat": 4,
 "nbformat_minor": 5
}
