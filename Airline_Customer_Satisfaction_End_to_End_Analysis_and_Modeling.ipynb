{
 "cells": [
  {
   "cell_type": "markdown",
   "id": "38c009b8",
   "metadata": {},
   "source": [
    "# Airline Customer Satisfaction: End to End Analysis and Modeling"
   ]
  },
  {
   "cell_type": "code",
   "execution_count": 2,
   "id": "cd6451ea",
   "metadata": {},
   "outputs": [],
   "source": [
    "# Standard operational package imports\n",
    "import numpy as np  # For numerical computations\n",
    "import pandas as pd  # For data manipulation and analysis\n",
    "\n",
    "# for preprocessing and feature engineering\n",
    "from sklearn.preprocessing import OneHotEncoder  # For encoding categorical features\n",
    "\n",
    "# for splitting data and tuning models\n",
    "from sklearn.model_selection import train_test_split, GridSearchCV, PredefinedSplit  # For splitting data and hyperparameter tuning\n",
    "\n",
    "# imports for modeling\n",
    "from sklearn.linear_model import LogisticRegression  # Logistic regression model\n",
    "from sklearn.tree import DecisionTreeClassifier, plot_tree  # Decision tree model and plotting\n",
    "from sklearn.ensemble import RandomForestClassifier  # Random forest model\n",
    "from xgboost import XGBClassifier, plot_importance  # XGBoost model and feature importance plotting\n",
    "\n",
    "# for evaluation and metrics\n",
    "import sklearn.metrics as metrics  # For various evaluation metrics (accuracy, precision, recall, etc.)\n",
    "from sklearn.metrics import f1_score, precision_score, recall_score, accuracy_score  # For specific performance metrics\n",
    "\n",
    "# Visualization package imports\n",
    "import matplotlib.pyplot as plt  # For creating plots and visualizations\n",
    "import seaborn as sns  # For statistical data visualizations\n",
    "\n",
    "# Miscellaneous imports\n",
    "import pickle as pkl  # For saving and loading models\n"
   ]
  },
  {
   "cell_type": "markdown",
   "id": "82b038cc",
   "metadata": {},
   "source": []
  }
 ],
 "metadata": {
  "kernelspec": {
   "display_name": "venv",
   "language": "python",
   "name": "python3"
  },
  "language_info": {
   "codemirror_mode": {
    "name": "ipython",
    "version": 3
   },
   "file_extension": ".py",
   "mimetype": "text/x-python",
   "name": "python",
   "nbconvert_exporter": "python",
   "pygments_lexer": "ipython3",
   "version": "3.13.0"
  }
 },
 "nbformat": 4,
 "nbformat_minor": 5
}
